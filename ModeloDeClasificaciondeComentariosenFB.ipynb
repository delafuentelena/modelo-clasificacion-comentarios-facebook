{
  "nbformat": 4,
  "nbformat_minor": 0,
  "metadata": {
    "colab": {
      "provenance": [],
      "include_colab_link": true
    },
    "kernelspec": {
      "name": "python3",
      "display_name": "Python 3"
    },
    "language_info": {
      "name": "python"
    },
    "widgets": {
      "application/vnd.jupyter.widget-state+json": {
        "0752ff2fbdb94d9abf946b93a1e05b75": {
          "model_module": "@jupyter-widgets/controls",
          "model_name": "HBoxModel",
          "model_module_version": "1.5.0",
          "state": {
            "_dom_classes": [],
            "_model_module": "@jupyter-widgets/controls",
            "_model_module_version": "1.5.0",
            "_model_name": "HBoxModel",
            "_view_count": null,
            "_view_module": "@jupyter-widgets/controls",
            "_view_module_version": "1.5.0",
            "_view_name": "HBoxView",
            "box_style": "",
            "children": [
              "IPY_MODEL_949148be7f1e4f5689503303b8b05b91",
              "IPY_MODEL_09ebf83f03474f3dbbd4106e2ccd84e7",
              "IPY_MODEL_202815dffbfd46b4b472b6c7d0690507"
            ],
            "layout": "IPY_MODEL_e909786b1df14d859085d79c78b92c05"
          }
        },
        "949148be7f1e4f5689503303b8b05b91": {
          "model_module": "@jupyter-widgets/controls",
          "model_name": "HTMLModel",
          "model_module_version": "1.5.0",
          "state": {
            "_dom_classes": [],
            "_model_module": "@jupyter-widgets/controls",
            "_model_module_version": "1.5.0",
            "_model_name": "HTMLModel",
            "_view_count": null,
            "_view_module": "@jupyter-widgets/controls",
            "_view_module_version": "1.5.0",
            "_view_name": "HTMLView",
            "description": "",
            "description_tooltip": null,
            "layout": "IPY_MODEL_d739c90dfa5b4d628e244ca6c3276bcd",
            "placeholder": "​",
            "style": "IPY_MODEL_5852babc1c9a42fbbffead1d135989d1",
            "value": "Downloading config.json: 100%"
          }
        },
        "09ebf83f03474f3dbbd4106e2ccd84e7": {
          "model_module": "@jupyter-widgets/controls",
          "model_name": "FloatProgressModel",
          "model_module_version": "1.5.0",
          "state": {
            "_dom_classes": [],
            "_model_module": "@jupyter-widgets/controls",
            "_model_module_version": "1.5.0",
            "_model_name": "FloatProgressModel",
            "_view_count": null,
            "_view_module": "@jupyter-widgets/controls",
            "_view_module_version": "1.5.0",
            "_view_name": "ProgressView",
            "bar_style": "success",
            "description": "",
            "description_tooltip": null,
            "layout": "IPY_MODEL_f913a4df463e4ac4a45e4cf375d4211c",
            "max": 925,
            "min": 0,
            "orientation": "horizontal",
            "style": "IPY_MODEL_708bbb241bab4cddbb0e92d4c5a70588",
            "value": 925
          }
        },
        "202815dffbfd46b4b472b6c7d0690507": {
          "model_module": "@jupyter-widgets/controls",
          "model_name": "HTMLModel",
          "model_module_version": "1.5.0",
          "state": {
            "_dom_classes": [],
            "_model_module": "@jupyter-widgets/controls",
            "_model_module_version": "1.5.0",
            "_model_name": "HTMLModel",
            "_view_count": null,
            "_view_module": "@jupyter-widgets/controls",
            "_view_module_version": "1.5.0",
            "_view_name": "HTMLView",
            "description": "",
            "description_tooltip": null,
            "layout": "IPY_MODEL_188bd9a07c644368863200af944c1e3f",
            "placeholder": "​",
            "style": "IPY_MODEL_e5ed81fcd79f4b7da714cedc0244caca",
            "value": " 925/925 [00:00&lt;00:00, 16.6kB/s]"
          }
        },
        "e909786b1df14d859085d79c78b92c05": {
          "model_module": "@jupyter-widgets/base",
          "model_name": "LayoutModel",
          "model_module_version": "1.2.0",
          "state": {
            "_model_module": "@jupyter-widgets/base",
            "_model_module_version": "1.2.0",
            "_model_name": "LayoutModel",
            "_view_count": null,
            "_view_module": "@jupyter-widgets/base",
            "_view_module_version": "1.2.0",
            "_view_name": "LayoutView",
            "align_content": null,
            "align_items": null,
            "align_self": null,
            "border": null,
            "bottom": null,
            "display": null,
            "flex": null,
            "flex_flow": null,
            "grid_area": null,
            "grid_auto_columns": null,
            "grid_auto_flow": null,
            "grid_auto_rows": null,
            "grid_column": null,
            "grid_gap": null,
            "grid_row": null,
            "grid_template_areas": null,
            "grid_template_columns": null,
            "grid_template_rows": null,
            "height": null,
            "justify_content": null,
            "justify_items": null,
            "left": null,
            "margin": null,
            "max_height": null,
            "max_width": null,
            "min_height": null,
            "min_width": null,
            "object_fit": null,
            "object_position": null,
            "order": null,
            "overflow": null,
            "overflow_x": null,
            "overflow_y": null,
            "padding": null,
            "right": null,
            "top": null,
            "visibility": null,
            "width": null
          }
        },
        "d739c90dfa5b4d628e244ca6c3276bcd": {
          "model_module": "@jupyter-widgets/base",
          "model_name": "LayoutModel",
          "model_module_version": "1.2.0",
          "state": {
            "_model_module": "@jupyter-widgets/base",
            "_model_module_version": "1.2.0",
            "_model_name": "LayoutModel",
            "_view_count": null,
            "_view_module": "@jupyter-widgets/base",
            "_view_module_version": "1.2.0",
            "_view_name": "LayoutView",
            "align_content": null,
            "align_items": null,
            "align_self": null,
            "border": null,
            "bottom": null,
            "display": null,
            "flex": null,
            "flex_flow": null,
            "grid_area": null,
            "grid_auto_columns": null,
            "grid_auto_flow": null,
            "grid_auto_rows": null,
            "grid_column": null,
            "grid_gap": null,
            "grid_row": null,
            "grid_template_areas": null,
            "grid_template_columns": null,
            "grid_template_rows": null,
            "height": null,
            "justify_content": null,
            "justify_items": null,
            "left": null,
            "margin": null,
            "max_height": null,
            "max_width": null,
            "min_height": null,
            "min_width": null,
            "object_fit": null,
            "object_position": null,
            "order": null,
            "overflow": null,
            "overflow_x": null,
            "overflow_y": null,
            "padding": null,
            "right": null,
            "top": null,
            "visibility": null,
            "width": null
          }
        },
        "5852babc1c9a42fbbffead1d135989d1": {
          "model_module": "@jupyter-widgets/controls",
          "model_name": "DescriptionStyleModel",
          "model_module_version": "1.5.0",
          "state": {
            "_model_module": "@jupyter-widgets/controls",
            "_model_module_version": "1.5.0",
            "_model_name": "DescriptionStyleModel",
            "_view_count": null,
            "_view_module": "@jupyter-widgets/base",
            "_view_module_version": "1.2.0",
            "_view_name": "StyleView",
            "description_width": ""
          }
        },
        "f913a4df463e4ac4a45e4cf375d4211c": {
          "model_module": "@jupyter-widgets/base",
          "model_name": "LayoutModel",
          "model_module_version": "1.2.0",
          "state": {
            "_model_module": "@jupyter-widgets/base",
            "_model_module_version": "1.2.0",
            "_model_name": "LayoutModel",
            "_view_count": null,
            "_view_module": "@jupyter-widgets/base",
            "_view_module_version": "1.2.0",
            "_view_name": "LayoutView",
            "align_content": null,
            "align_items": null,
            "align_self": null,
            "border": null,
            "bottom": null,
            "display": null,
            "flex": null,
            "flex_flow": null,
            "grid_area": null,
            "grid_auto_columns": null,
            "grid_auto_flow": null,
            "grid_auto_rows": null,
            "grid_column": null,
            "grid_gap": null,
            "grid_row": null,
            "grid_template_areas": null,
            "grid_template_columns": null,
            "grid_template_rows": null,
            "height": null,
            "justify_content": null,
            "justify_items": null,
            "left": null,
            "margin": null,
            "max_height": null,
            "max_width": null,
            "min_height": null,
            "min_width": null,
            "object_fit": null,
            "object_position": null,
            "order": null,
            "overflow": null,
            "overflow_x": null,
            "overflow_y": null,
            "padding": null,
            "right": null,
            "top": null,
            "visibility": null,
            "width": null
          }
        },
        "708bbb241bab4cddbb0e92d4c5a70588": {
          "model_module": "@jupyter-widgets/controls",
          "model_name": "ProgressStyleModel",
          "model_module_version": "1.5.0",
          "state": {
            "_model_module": "@jupyter-widgets/controls",
            "_model_module_version": "1.5.0",
            "_model_name": "ProgressStyleModel",
            "_view_count": null,
            "_view_module": "@jupyter-widgets/base",
            "_view_module_version": "1.2.0",
            "_view_name": "StyleView",
            "bar_color": null,
            "description_width": ""
          }
        },
        "188bd9a07c644368863200af944c1e3f": {
          "model_module": "@jupyter-widgets/base",
          "model_name": "LayoutModel",
          "model_module_version": "1.2.0",
          "state": {
            "_model_module": "@jupyter-widgets/base",
            "_model_module_version": "1.2.0",
            "_model_name": "LayoutModel",
            "_view_count": null,
            "_view_module": "@jupyter-widgets/base",
            "_view_module_version": "1.2.0",
            "_view_name": "LayoutView",
            "align_content": null,
            "align_items": null,
            "align_self": null,
            "border": null,
            "bottom": null,
            "display": null,
            "flex": null,
            "flex_flow": null,
            "grid_area": null,
            "grid_auto_columns": null,
            "grid_auto_flow": null,
            "grid_auto_rows": null,
            "grid_column": null,
            "grid_gap": null,
            "grid_row": null,
            "grid_template_areas": null,
            "grid_template_columns": null,
            "grid_template_rows": null,
            "height": null,
            "justify_content": null,
            "justify_items": null,
            "left": null,
            "margin": null,
            "max_height": null,
            "max_width": null,
            "min_height": null,
            "min_width": null,
            "object_fit": null,
            "object_position": null,
            "order": null,
            "overflow": null,
            "overflow_x": null,
            "overflow_y": null,
            "padding": null,
            "right": null,
            "top": null,
            "visibility": null,
            "width": null
          }
        },
        "e5ed81fcd79f4b7da714cedc0244caca": {
          "model_module": "@jupyter-widgets/controls",
          "model_name": "DescriptionStyleModel",
          "model_module_version": "1.5.0",
          "state": {
            "_model_module": "@jupyter-widgets/controls",
            "_model_module_version": "1.5.0",
            "_model_name": "DescriptionStyleModel",
            "_view_count": null,
            "_view_module": "@jupyter-widgets/base",
            "_view_module_version": "1.2.0",
            "_view_name": "StyleView",
            "description_width": ""
          }
        },
        "add6c50d141f4c0783ea3bf4ef5d5698": {
          "model_module": "@jupyter-widgets/controls",
          "model_name": "HBoxModel",
          "model_module_version": "1.5.0",
          "state": {
            "_dom_classes": [],
            "_model_module": "@jupyter-widgets/controls",
            "_model_module_version": "1.5.0",
            "_model_name": "HBoxModel",
            "_view_count": null,
            "_view_module": "@jupyter-widgets/controls",
            "_view_module_version": "1.5.0",
            "_view_name": "HBoxView",
            "box_style": "",
            "children": [
              "IPY_MODEL_73c55e4146974dc19cbf4d8ff37e6386",
              "IPY_MODEL_f5b79eaba5114c6daf436b1f82dd2144",
              "IPY_MODEL_c8a1af36d22d4359b11228ec895f3049"
            ],
            "layout": "IPY_MODEL_a8be9c3d5a5145baa90b4fac6df5ecf9"
          }
        },
        "73c55e4146974dc19cbf4d8ff37e6386": {
          "model_module": "@jupyter-widgets/controls",
          "model_name": "HTMLModel",
          "model_module_version": "1.5.0",
          "state": {
            "_dom_classes": [],
            "_model_module": "@jupyter-widgets/controls",
            "_model_module_version": "1.5.0",
            "_model_name": "HTMLModel",
            "_view_count": null,
            "_view_module": "@jupyter-widgets/controls",
            "_view_module_version": "1.5.0",
            "_view_name": "HTMLView",
            "description": "",
            "description_tooltip": null,
            "layout": "IPY_MODEL_b721553082c648f58692194efa8c2efe",
            "placeholder": "​",
            "style": "IPY_MODEL_79fd8b275715431fa55d6b272dac84a3",
            "value": "Downloading pytorch_model.bin: 100%"
          }
        },
        "f5b79eaba5114c6daf436b1f82dd2144": {
          "model_module": "@jupyter-widgets/controls",
          "model_name": "FloatProgressModel",
          "model_module_version": "1.5.0",
          "state": {
            "_dom_classes": [],
            "_model_module": "@jupyter-widgets/controls",
            "_model_module_version": "1.5.0",
            "_model_name": "FloatProgressModel",
            "_view_count": null,
            "_view_module": "@jupyter-widgets/controls",
            "_view_module_version": "1.5.0",
            "_view_name": "ProgressView",
            "bar_style": "success",
            "description": "",
            "description_tooltip": null,
            "layout": "IPY_MODEL_b99b3a711a9f4441aef60d1566f137d2",
            "max": 435246509,
            "min": 0,
            "orientation": "horizontal",
            "style": "IPY_MODEL_05fbe35d79a441c29d35ff8f3af03f52",
            "value": 435246509
          }
        },
        "c8a1af36d22d4359b11228ec895f3049": {
          "model_module": "@jupyter-widgets/controls",
          "model_name": "HTMLModel",
          "model_module_version": "1.5.0",
          "state": {
            "_dom_classes": [],
            "_model_module": "@jupyter-widgets/controls",
            "_model_module_version": "1.5.0",
            "_model_name": "HTMLModel",
            "_view_count": null,
            "_view_module": "@jupyter-widgets/controls",
            "_view_module_version": "1.5.0",
            "_view_name": "HTMLView",
            "description": "",
            "description_tooltip": null,
            "layout": "IPY_MODEL_c95b9ba2f8884dc79fdb5ccc44514499",
            "placeholder": "​",
            "style": "IPY_MODEL_46a38cbf215647389c01fbca7f0f7e8e",
            "value": " 415M/415M [00:13&lt;00:00, 33.9MB/s]"
          }
        },
        "a8be9c3d5a5145baa90b4fac6df5ecf9": {
          "model_module": "@jupyter-widgets/base",
          "model_name": "LayoutModel",
          "model_module_version": "1.2.0",
          "state": {
            "_model_module": "@jupyter-widgets/base",
            "_model_module_version": "1.2.0",
            "_model_name": "LayoutModel",
            "_view_count": null,
            "_view_module": "@jupyter-widgets/base",
            "_view_module_version": "1.2.0",
            "_view_name": "LayoutView",
            "align_content": null,
            "align_items": null,
            "align_self": null,
            "border": null,
            "bottom": null,
            "display": null,
            "flex": null,
            "flex_flow": null,
            "grid_area": null,
            "grid_auto_columns": null,
            "grid_auto_flow": null,
            "grid_auto_rows": null,
            "grid_column": null,
            "grid_gap": null,
            "grid_row": null,
            "grid_template_areas": null,
            "grid_template_columns": null,
            "grid_template_rows": null,
            "height": null,
            "justify_content": null,
            "justify_items": null,
            "left": null,
            "margin": null,
            "max_height": null,
            "max_width": null,
            "min_height": null,
            "min_width": null,
            "object_fit": null,
            "object_position": null,
            "order": null,
            "overflow": null,
            "overflow_x": null,
            "overflow_y": null,
            "padding": null,
            "right": null,
            "top": null,
            "visibility": null,
            "width": null
          }
        },
        "b721553082c648f58692194efa8c2efe": {
          "model_module": "@jupyter-widgets/base",
          "model_name": "LayoutModel",
          "model_module_version": "1.2.0",
          "state": {
            "_model_module": "@jupyter-widgets/base",
            "_model_module_version": "1.2.0",
            "_model_name": "LayoutModel",
            "_view_count": null,
            "_view_module": "@jupyter-widgets/base",
            "_view_module_version": "1.2.0",
            "_view_name": "LayoutView",
            "align_content": null,
            "align_items": null,
            "align_self": null,
            "border": null,
            "bottom": null,
            "display": null,
            "flex": null,
            "flex_flow": null,
            "grid_area": null,
            "grid_auto_columns": null,
            "grid_auto_flow": null,
            "grid_auto_rows": null,
            "grid_column": null,
            "grid_gap": null,
            "grid_row": null,
            "grid_template_areas": null,
            "grid_template_columns": null,
            "grid_template_rows": null,
            "height": null,
            "justify_content": null,
            "justify_items": null,
            "left": null,
            "margin": null,
            "max_height": null,
            "max_width": null,
            "min_height": null,
            "min_width": null,
            "object_fit": null,
            "object_position": null,
            "order": null,
            "overflow": null,
            "overflow_x": null,
            "overflow_y": null,
            "padding": null,
            "right": null,
            "top": null,
            "visibility": null,
            "width": null
          }
        },
        "79fd8b275715431fa55d6b272dac84a3": {
          "model_module": "@jupyter-widgets/controls",
          "model_name": "DescriptionStyleModel",
          "model_module_version": "1.5.0",
          "state": {
            "_model_module": "@jupyter-widgets/controls",
            "_model_module_version": "1.5.0",
            "_model_name": "DescriptionStyleModel",
            "_view_count": null,
            "_view_module": "@jupyter-widgets/base",
            "_view_module_version": "1.2.0",
            "_view_name": "StyleView",
            "description_width": ""
          }
        },
        "b99b3a711a9f4441aef60d1566f137d2": {
          "model_module": "@jupyter-widgets/base",
          "model_name": "LayoutModel",
          "model_module_version": "1.2.0",
          "state": {
            "_model_module": "@jupyter-widgets/base",
            "_model_module_version": "1.2.0",
            "_model_name": "LayoutModel",
            "_view_count": null,
            "_view_module": "@jupyter-widgets/base",
            "_view_module_version": "1.2.0",
            "_view_name": "LayoutView",
            "align_content": null,
            "align_items": null,
            "align_self": null,
            "border": null,
            "bottom": null,
            "display": null,
            "flex": null,
            "flex_flow": null,
            "grid_area": null,
            "grid_auto_columns": null,
            "grid_auto_flow": null,
            "grid_auto_rows": null,
            "grid_column": null,
            "grid_gap": null,
            "grid_row": null,
            "grid_template_areas": null,
            "grid_template_columns": null,
            "grid_template_rows": null,
            "height": null,
            "justify_content": null,
            "justify_items": null,
            "left": null,
            "margin": null,
            "max_height": null,
            "max_width": null,
            "min_height": null,
            "min_width": null,
            "object_fit": null,
            "object_position": null,
            "order": null,
            "overflow": null,
            "overflow_x": null,
            "overflow_y": null,
            "padding": null,
            "right": null,
            "top": null,
            "visibility": null,
            "width": null
          }
        },
        "05fbe35d79a441c29d35ff8f3af03f52": {
          "model_module": "@jupyter-widgets/controls",
          "model_name": "ProgressStyleModel",
          "model_module_version": "1.5.0",
          "state": {
            "_model_module": "@jupyter-widgets/controls",
            "_model_module_version": "1.5.0",
            "_model_name": "ProgressStyleModel",
            "_view_count": null,
            "_view_module": "@jupyter-widgets/base",
            "_view_module_version": "1.2.0",
            "_view_name": "StyleView",
            "bar_color": null,
            "description_width": ""
          }
        },
        "c95b9ba2f8884dc79fdb5ccc44514499": {
          "model_module": "@jupyter-widgets/base",
          "model_name": "LayoutModel",
          "model_module_version": "1.2.0",
          "state": {
            "_model_module": "@jupyter-widgets/base",
            "_model_module_version": "1.2.0",
            "_model_name": "LayoutModel",
            "_view_count": null,
            "_view_module": "@jupyter-widgets/base",
            "_view_module_version": "1.2.0",
            "_view_name": "LayoutView",
            "align_content": null,
            "align_items": null,
            "align_self": null,
            "border": null,
            "bottom": null,
            "display": null,
            "flex": null,
            "flex_flow": null,
            "grid_area": null,
            "grid_auto_columns": null,
            "grid_auto_flow": null,
            "grid_auto_rows": null,
            "grid_column": null,
            "grid_gap": null,
            "grid_row": null,
            "grid_template_areas": null,
            "grid_template_columns": null,
            "grid_template_rows": null,
            "height": null,
            "justify_content": null,
            "justify_items": null,
            "left": null,
            "margin": null,
            "max_height": null,
            "max_width": null,
            "min_height": null,
            "min_width": null,
            "object_fit": null,
            "object_position": null,
            "order": null,
            "overflow": null,
            "overflow_x": null,
            "overflow_y": null,
            "padding": null,
            "right": null,
            "top": null,
            "visibility": null,
            "width": null
          }
        },
        "46a38cbf215647389c01fbca7f0f7e8e": {
          "model_module": "@jupyter-widgets/controls",
          "model_name": "DescriptionStyleModel",
          "model_module_version": "1.5.0",
          "state": {
            "_model_module": "@jupyter-widgets/controls",
            "_model_module_version": "1.5.0",
            "_model_name": "DescriptionStyleModel",
            "_view_count": null,
            "_view_module": "@jupyter-widgets/base",
            "_view_module_version": "1.2.0",
            "_view_name": "StyleView",
            "description_width": ""
          }
        },
        "73b14366764d4a54a4a7aa3b16c0ca4c": {
          "model_module": "@jupyter-widgets/controls",
          "model_name": "HBoxModel",
          "model_module_version": "1.5.0",
          "state": {
            "_dom_classes": [],
            "_model_module": "@jupyter-widgets/controls",
            "_model_module_version": "1.5.0",
            "_model_name": "HBoxModel",
            "_view_count": null,
            "_view_module": "@jupyter-widgets/controls",
            "_view_module_version": "1.5.0",
            "_view_name": "HBoxView",
            "box_style": "",
            "children": [
              "IPY_MODEL_188ed3a7f1124e8fa275afe9fa39f787",
              "IPY_MODEL_d82dcffccdb8468c8cc2ac590d8ab37e",
              "IPY_MODEL_b5e516ed0fd4442c8555f563113b86be"
            ],
            "layout": "IPY_MODEL_4492f9155f3c49b1bb3f74b50271cef5"
          }
        },
        "188ed3a7f1124e8fa275afe9fa39f787": {
          "model_module": "@jupyter-widgets/controls",
          "model_name": "HTMLModel",
          "model_module_version": "1.5.0",
          "state": {
            "_dom_classes": [],
            "_model_module": "@jupyter-widgets/controls",
            "_model_module_version": "1.5.0",
            "_model_name": "HTMLModel",
            "_view_count": null,
            "_view_module": "@jupyter-widgets/controls",
            "_view_module_version": "1.5.0",
            "_view_name": "HTMLView",
            "description": "",
            "description_tooltip": null,
            "layout": "IPY_MODEL_6ad712dc05e84ea9a327f6a0bd714395",
            "placeholder": "​",
            "style": "IPY_MODEL_680940f5a5e0447596dfcd1e4a7fc31e",
            "value": "Downloading tokenizer_config.json: 100%"
          }
        },
        "d82dcffccdb8468c8cc2ac590d8ab37e": {
          "model_module": "@jupyter-widgets/controls",
          "model_name": "FloatProgressModel",
          "model_module_version": "1.5.0",
          "state": {
            "_dom_classes": [],
            "_model_module": "@jupyter-widgets/controls",
            "_model_module_version": "1.5.0",
            "_model_name": "FloatProgressModel",
            "_view_count": null,
            "_view_module": "@jupyter-widgets/controls",
            "_view_module_version": "1.5.0",
            "_view_name": "ProgressView",
            "bar_style": "success",
            "description": "",
            "description_tooltip": null,
            "layout": "IPY_MODEL_1816c8d8c0c54b6c805e51e0b363a26d",
            "max": 334,
            "min": 0,
            "orientation": "horizontal",
            "style": "IPY_MODEL_3854f59905b84d72b4ff891a70f67c9f",
            "value": 334
          }
        },
        "b5e516ed0fd4442c8555f563113b86be": {
          "model_module": "@jupyter-widgets/controls",
          "model_name": "HTMLModel",
          "model_module_version": "1.5.0",
          "state": {
            "_dom_classes": [],
            "_model_module": "@jupyter-widgets/controls",
            "_model_module_version": "1.5.0",
            "_model_name": "HTMLModel",
            "_view_count": null,
            "_view_module": "@jupyter-widgets/controls",
            "_view_module_version": "1.5.0",
            "_view_name": "HTMLView",
            "description": "",
            "description_tooltip": null,
            "layout": "IPY_MODEL_23f1ce603e004033a21e7e8501fb6265",
            "placeholder": "​",
            "style": "IPY_MODEL_bd38fc448daf404bb9423a506ac8fa84",
            "value": " 334/334 [00:00&lt;00:00, 6.47kB/s]"
          }
        },
        "4492f9155f3c49b1bb3f74b50271cef5": {
          "model_module": "@jupyter-widgets/base",
          "model_name": "LayoutModel",
          "model_module_version": "1.2.0",
          "state": {
            "_model_module": "@jupyter-widgets/base",
            "_model_module_version": "1.2.0",
            "_model_name": "LayoutModel",
            "_view_count": null,
            "_view_module": "@jupyter-widgets/base",
            "_view_module_version": "1.2.0",
            "_view_name": "LayoutView",
            "align_content": null,
            "align_items": null,
            "align_self": null,
            "border": null,
            "bottom": null,
            "display": null,
            "flex": null,
            "flex_flow": null,
            "grid_area": null,
            "grid_auto_columns": null,
            "grid_auto_flow": null,
            "grid_auto_rows": null,
            "grid_column": null,
            "grid_gap": null,
            "grid_row": null,
            "grid_template_areas": null,
            "grid_template_columns": null,
            "grid_template_rows": null,
            "height": null,
            "justify_content": null,
            "justify_items": null,
            "left": null,
            "margin": null,
            "max_height": null,
            "max_width": null,
            "min_height": null,
            "min_width": null,
            "object_fit": null,
            "object_position": null,
            "order": null,
            "overflow": null,
            "overflow_x": null,
            "overflow_y": null,
            "padding": null,
            "right": null,
            "top": null,
            "visibility": null,
            "width": null
          }
        },
        "6ad712dc05e84ea9a327f6a0bd714395": {
          "model_module": "@jupyter-widgets/base",
          "model_name": "LayoutModel",
          "model_module_version": "1.2.0",
          "state": {
            "_model_module": "@jupyter-widgets/base",
            "_model_module_version": "1.2.0",
            "_model_name": "LayoutModel",
            "_view_count": null,
            "_view_module": "@jupyter-widgets/base",
            "_view_module_version": "1.2.0",
            "_view_name": "LayoutView",
            "align_content": null,
            "align_items": null,
            "align_self": null,
            "border": null,
            "bottom": null,
            "display": null,
            "flex": null,
            "flex_flow": null,
            "grid_area": null,
            "grid_auto_columns": null,
            "grid_auto_flow": null,
            "grid_auto_rows": null,
            "grid_column": null,
            "grid_gap": null,
            "grid_row": null,
            "grid_template_areas": null,
            "grid_template_columns": null,
            "grid_template_rows": null,
            "height": null,
            "justify_content": null,
            "justify_items": null,
            "left": null,
            "margin": null,
            "max_height": null,
            "max_width": null,
            "min_height": null,
            "min_width": null,
            "object_fit": null,
            "object_position": null,
            "order": null,
            "overflow": null,
            "overflow_x": null,
            "overflow_y": null,
            "padding": null,
            "right": null,
            "top": null,
            "visibility": null,
            "width": null
          }
        },
        "680940f5a5e0447596dfcd1e4a7fc31e": {
          "model_module": "@jupyter-widgets/controls",
          "model_name": "DescriptionStyleModel",
          "model_module_version": "1.5.0",
          "state": {
            "_model_module": "@jupyter-widgets/controls",
            "_model_module_version": "1.5.0",
            "_model_name": "DescriptionStyleModel",
            "_view_count": null,
            "_view_module": "@jupyter-widgets/base",
            "_view_module_version": "1.2.0",
            "_view_name": "StyleView",
            "description_width": ""
          }
        },
        "1816c8d8c0c54b6c805e51e0b363a26d": {
          "model_module": "@jupyter-widgets/base",
          "model_name": "LayoutModel",
          "model_module_version": "1.2.0",
          "state": {
            "_model_module": "@jupyter-widgets/base",
            "_model_module_version": "1.2.0",
            "_model_name": "LayoutModel",
            "_view_count": null,
            "_view_module": "@jupyter-widgets/base",
            "_view_module_version": "1.2.0",
            "_view_name": "LayoutView",
            "align_content": null,
            "align_items": null,
            "align_self": null,
            "border": null,
            "bottom": null,
            "display": null,
            "flex": null,
            "flex_flow": null,
            "grid_area": null,
            "grid_auto_columns": null,
            "grid_auto_flow": null,
            "grid_auto_rows": null,
            "grid_column": null,
            "grid_gap": null,
            "grid_row": null,
            "grid_template_areas": null,
            "grid_template_columns": null,
            "grid_template_rows": null,
            "height": null,
            "justify_content": null,
            "justify_items": null,
            "left": null,
            "margin": null,
            "max_height": null,
            "max_width": null,
            "min_height": null,
            "min_width": null,
            "object_fit": null,
            "object_position": null,
            "order": null,
            "overflow": null,
            "overflow_x": null,
            "overflow_y": null,
            "padding": null,
            "right": null,
            "top": null,
            "visibility": null,
            "width": null
          }
        },
        "3854f59905b84d72b4ff891a70f67c9f": {
          "model_module": "@jupyter-widgets/controls",
          "model_name": "ProgressStyleModel",
          "model_module_version": "1.5.0",
          "state": {
            "_model_module": "@jupyter-widgets/controls",
            "_model_module_version": "1.5.0",
            "_model_name": "ProgressStyleModel",
            "_view_count": null,
            "_view_module": "@jupyter-widgets/base",
            "_view_module_version": "1.2.0",
            "_view_name": "StyleView",
            "bar_color": null,
            "description_width": ""
          }
        },
        "23f1ce603e004033a21e7e8501fb6265": {
          "model_module": "@jupyter-widgets/base",
          "model_name": "LayoutModel",
          "model_module_version": "1.2.0",
          "state": {
            "_model_module": "@jupyter-widgets/base",
            "_model_module_version": "1.2.0",
            "_model_name": "LayoutModel",
            "_view_count": null,
            "_view_module": "@jupyter-widgets/base",
            "_view_module_version": "1.2.0",
            "_view_name": "LayoutView",
            "align_content": null,
            "align_items": null,
            "align_self": null,
            "border": null,
            "bottom": null,
            "display": null,
            "flex": null,
            "flex_flow": null,
            "grid_area": null,
            "grid_auto_columns": null,
            "grid_auto_flow": null,
            "grid_auto_rows": null,
            "grid_column": null,
            "grid_gap": null,
            "grid_row": null,
            "grid_template_areas": null,
            "grid_template_columns": null,
            "grid_template_rows": null,
            "height": null,
            "justify_content": null,
            "justify_items": null,
            "left": null,
            "margin": null,
            "max_height": null,
            "max_width": null,
            "min_height": null,
            "min_width": null,
            "object_fit": null,
            "object_position": null,
            "order": null,
            "overflow": null,
            "overflow_x": null,
            "overflow_y": null,
            "padding": null,
            "right": null,
            "top": null,
            "visibility": null,
            "width": null
          }
        },
        "bd38fc448daf404bb9423a506ac8fa84": {
          "model_module": "@jupyter-widgets/controls",
          "model_name": "DescriptionStyleModel",
          "model_module_version": "1.5.0",
          "state": {
            "_model_module": "@jupyter-widgets/controls",
            "_model_module_version": "1.5.0",
            "_model_name": "DescriptionStyleModel",
            "_view_count": null,
            "_view_module": "@jupyter-widgets/base",
            "_view_module_version": "1.2.0",
            "_view_name": "StyleView",
            "description_width": ""
          }
        },
        "5a80d68ae8e5482cb013b828e541baab": {
          "model_module": "@jupyter-widgets/controls",
          "model_name": "HBoxModel",
          "model_module_version": "1.5.0",
          "state": {
            "_dom_classes": [],
            "_model_module": "@jupyter-widgets/controls",
            "_model_module_version": "1.5.0",
            "_model_name": "HBoxModel",
            "_view_count": null,
            "_view_module": "@jupyter-widgets/controls",
            "_view_module_version": "1.5.0",
            "_view_name": "HBoxView",
            "box_style": "",
            "children": [
              "IPY_MODEL_5f7d791f36894ed1885b5d268d72e259",
              "IPY_MODEL_fe3faf683b2146c0a005ed67bece8840",
              "IPY_MODEL_73d3a1feb1e5410a9a4cff26dd8062e5"
            ],
            "layout": "IPY_MODEL_2c95a36448a2418abc2d3f6a9577c974"
          }
        },
        "5f7d791f36894ed1885b5d268d72e259": {
          "model_module": "@jupyter-widgets/controls",
          "model_name": "HTMLModel",
          "model_module_version": "1.5.0",
          "state": {
            "_dom_classes": [],
            "_model_module": "@jupyter-widgets/controls",
            "_model_module_version": "1.5.0",
            "_model_name": "HTMLModel",
            "_view_count": null,
            "_view_module": "@jupyter-widgets/controls",
            "_view_module_version": "1.5.0",
            "_view_name": "HTMLView",
            "description": "",
            "description_tooltip": null,
            "layout": "IPY_MODEL_ca38218bf5c241f9875391306cfee349",
            "placeholder": "​",
            "style": "IPY_MODEL_b242170ac39846dcacfd23060d91a3cd",
            "value": "Downloading tokenizer.json: 100%"
          }
        },
        "fe3faf683b2146c0a005ed67bece8840": {
          "model_module": "@jupyter-widgets/controls",
          "model_name": "FloatProgressModel",
          "model_module_version": "1.5.0",
          "state": {
            "_dom_classes": [],
            "_model_module": "@jupyter-widgets/controls",
            "_model_module_version": "1.5.0",
            "_model_name": "FloatProgressModel",
            "_view_count": null,
            "_view_module": "@jupyter-widgets/controls",
            "_view_module_version": "1.5.0",
            "_view_name": "ProgressView",
            "bar_style": "success",
            "description": "",
            "description_tooltip": null,
            "layout": "IPY_MODEL_d91ba4a2ff5249c18a6409022cf64840",
            "max": 858415,
            "min": 0,
            "orientation": "horizontal",
            "style": "IPY_MODEL_f92caad8c2f84e53aac428dd46781c20",
            "value": 858415
          }
        },
        "73d3a1feb1e5410a9a4cff26dd8062e5": {
          "model_module": "@jupyter-widgets/controls",
          "model_name": "HTMLModel",
          "model_module_version": "1.5.0",
          "state": {
            "_dom_classes": [],
            "_model_module": "@jupyter-widgets/controls",
            "_model_module_version": "1.5.0",
            "_model_name": "HTMLModel",
            "_view_count": null,
            "_view_module": "@jupyter-widgets/controls",
            "_view_module_version": "1.5.0",
            "_view_name": "HTMLView",
            "description": "",
            "description_tooltip": null,
            "layout": "IPY_MODEL_7a0d9df86960438785df990dbcdf188b",
            "placeholder": "​",
            "style": "IPY_MODEL_e59e5247cb44465887c8dbc647e107c8",
            "value": " 838k/838k [00:00&lt;00:00, 1.12MB/s]"
          }
        },
        "2c95a36448a2418abc2d3f6a9577c974": {
          "model_module": "@jupyter-widgets/base",
          "model_name": "LayoutModel",
          "model_module_version": "1.2.0",
          "state": {
            "_model_module": "@jupyter-widgets/base",
            "_model_module_version": "1.2.0",
            "_model_name": "LayoutModel",
            "_view_count": null,
            "_view_module": "@jupyter-widgets/base",
            "_view_module_version": "1.2.0",
            "_view_name": "LayoutView",
            "align_content": null,
            "align_items": null,
            "align_self": null,
            "border": null,
            "bottom": null,
            "display": null,
            "flex": null,
            "flex_flow": null,
            "grid_area": null,
            "grid_auto_columns": null,
            "grid_auto_flow": null,
            "grid_auto_rows": null,
            "grid_column": null,
            "grid_gap": null,
            "grid_row": null,
            "grid_template_areas": null,
            "grid_template_columns": null,
            "grid_template_rows": null,
            "height": null,
            "justify_content": null,
            "justify_items": null,
            "left": null,
            "margin": null,
            "max_height": null,
            "max_width": null,
            "min_height": null,
            "min_width": null,
            "object_fit": null,
            "object_position": null,
            "order": null,
            "overflow": null,
            "overflow_x": null,
            "overflow_y": null,
            "padding": null,
            "right": null,
            "top": null,
            "visibility": null,
            "width": null
          }
        },
        "ca38218bf5c241f9875391306cfee349": {
          "model_module": "@jupyter-widgets/base",
          "model_name": "LayoutModel",
          "model_module_version": "1.2.0",
          "state": {
            "_model_module": "@jupyter-widgets/base",
            "_model_module_version": "1.2.0",
            "_model_name": "LayoutModel",
            "_view_count": null,
            "_view_module": "@jupyter-widgets/base",
            "_view_module_version": "1.2.0",
            "_view_name": "LayoutView",
            "align_content": null,
            "align_items": null,
            "align_self": null,
            "border": null,
            "bottom": null,
            "display": null,
            "flex": null,
            "flex_flow": null,
            "grid_area": null,
            "grid_auto_columns": null,
            "grid_auto_flow": null,
            "grid_auto_rows": null,
            "grid_column": null,
            "grid_gap": null,
            "grid_row": null,
            "grid_template_areas": null,
            "grid_template_columns": null,
            "grid_template_rows": null,
            "height": null,
            "justify_content": null,
            "justify_items": null,
            "left": null,
            "margin": null,
            "max_height": null,
            "max_width": null,
            "min_height": null,
            "min_width": null,
            "object_fit": null,
            "object_position": null,
            "order": null,
            "overflow": null,
            "overflow_x": null,
            "overflow_y": null,
            "padding": null,
            "right": null,
            "top": null,
            "visibility": null,
            "width": null
          }
        },
        "b242170ac39846dcacfd23060d91a3cd": {
          "model_module": "@jupyter-widgets/controls",
          "model_name": "DescriptionStyleModel",
          "model_module_version": "1.5.0",
          "state": {
            "_model_module": "@jupyter-widgets/controls",
            "_model_module_version": "1.5.0",
            "_model_name": "DescriptionStyleModel",
            "_view_count": null,
            "_view_module": "@jupyter-widgets/base",
            "_view_module_version": "1.2.0",
            "_view_name": "StyleView",
            "description_width": ""
          }
        },
        "d91ba4a2ff5249c18a6409022cf64840": {
          "model_module": "@jupyter-widgets/base",
          "model_name": "LayoutModel",
          "model_module_version": "1.2.0",
          "state": {
            "_model_module": "@jupyter-widgets/base",
            "_model_module_version": "1.2.0",
            "_model_name": "LayoutModel",
            "_view_count": null,
            "_view_module": "@jupyter-widgets/base",
            "_view_module_version": "1.2.0",
            "_view_name": "LayoutView",
            "align_content": null,
            "align_items": null,
            "align_self": null,
            "border": null,
            "bottom": null,
            "display": null,
            "flex": null,
            "flex_flow": null,
            "grid_area": null,
            "grid_auto_columns": null,
            "grid_auto_flow": null,
            "grid_auto_rows": null,
            "grid_column": null,
            "grid_gap": null,
            "grid_row": null,
            "grid_template_areas": null,
            "grid_template_columns": null,
            "grid_template_rows": null,
            "height": null,
            "justify_content": null,
            "justify_items": null,
            "left": null,
            "margin": null,
            "max_height": null,
            "max_width": null,
            "min_height": null,
            "min_width": null,
            "object_fit": null,
            "object_position": null,
            "order": null,
            "overflow": null,
            "overflow_x": null,
            "overflow_y": null,
            "padding": null,
            "right": null,
            "top": null,
            "visibility": null,
            "width": null
          }
        },
        "f92caad8c2f84e53aac428dd46781c20": {
          "model_module": "@jupyter-widgets/controls",
          "model_name": "ProgressStyleModel",
          "model_module_version": "1.5.0",
          "state": {
            "_model_module": "@jupyter-widgets/controls",
            "_model_module_version": "1.5.0",
            "_model_name": "ProgressStyleModel",
            "_view_count": null,
            "_view_module": "@jupyter-widgets/base",
            "_view_module_version": "1.2.0",
            "_view_name": "StyleView",
            "bar_color": null,
            "description_width": ""
          }
        },
        "7a0d9df86960438785df990dbcdf188b": {
          "model_module": "@jupyter-widgets/base",
          "model_name": "LayoutModel",
          "model_module_version": "1.2.0",
          "state": {
            "_model_module": "@jupyter-widgets/base",
            "_model_module_version": "1.2.0",
            "_model_name": "LayoutModel",
            "_view_count": null,
            "_view_module": "@jupyter-widgets/base",
            "_view_module_version": "1.2.0",
            "_view_name": "LayoutView",
            "align_content": null,
            "align_items": null,
            "align_self": null,
            "border": null,
            "bottom": null,
            "display": null,
            "flex": null,
            "flex_flow": null,
            "grid_area": null,
            "grid_auto_columns": null,
            "grid_auto_flow": null,
            "grid_auto_rows": null,
            "grid_column": null,
            "grid_gap": null,
            "grid_row": null,
            "grid_template_areas": null,
            "grid_template_columns": null,
            "grid_template_rows": null,
            "height": null,
            "justify_content": null,
            "justify_items": null,
            "left": null,
            "margin": null,
            "max_height": null,
            "max_width": null,
            "min_height": null,
            "min_width": null,
            "object_fit": null,
            "object_position": null,
            "order": null,
            "overflow": null,
            "overflow_x": null,
            "overflow_y": null,
            "padding": null,
            "right": null,
            "top": null,
            "visibility": null,
            "width": null
          }
        },
        "e59e5247cb44465887c8dbc647e107c8": {
          "model_module": "@jupyter-widgets/controls",
          "model_name": "DescriptionStyleModel",
          "model_module_version": "1.5.0",
          "state": {
            "_model_module": "@jupyter-widgets/controls",
            "_model_module_version": "1.5.0",
            "_model_name": "DescriptionStyleModel",
            "_view_count": null,
            "_view_module": "@jupyter-widgets/base",
            "_view_module_version": "1.2.0",
            "_view_name": "StyleView",
            "description_width": ""
          }
        },
        "50a700a89da14c02b2bbbf372fa171ae": {
          "model_module": "@jupyter-widgets/controls",
          "model_name": "HBoxModel",
          "model_module_version": "1.5.0",
          "state": {
            "_dom_classes": [],
            "_model_module": "@jupyter-widgets/controls",
            "_model_module_version": "1.5.0",
            "_model_name": "HBoxModel",
            "_view_count": null,
            "_view_module": "@jupyter-widgets/controls",
            "_view_module_version": "1.5.0",
            "_view_name": "HBoxView",
            "box_style": "",
            "children": [
              "IPY_MODEL_3060202d64dc4f9db4b9d72d76efa6a4",
              "IPY_MODEL_a2759e5fddde49b9bc3de0fc3606abab",
              "IPY_MODEL_565451d813d845cf9e8a4f2651df6899"
            ],
            "layout": "IPY_MODEL_877819faaa58446daac2b03de91009a4"
          }
        },
        "3060202d64dc4f9db4b9d72d76efa6a4": {
          "model_module": "@jupyter-widgets/controls",
          "model_name": "HTMLModel",
          "model_module_version": "1.5.0",
          "state": {
            "_dom_classes": [],
            "_model_module": "@jupyter-widgets/controls",
            "_model_module_version": "1.5.0",
            "_model_name": "HTMLModel",
            "_view_count": null,
            "_view_module": "@jupyter-widgets/controls",
            "_view_module_version": "1.5.0",
            "_view_name": "HTMLView",
            "description": "",
            "description_tooltip": null,
            "layout": "IPY_MODEL_d02217bcc4724a4b9d7df89e7107b08e",
            "placeholder": "​",
            "style": "IPY_MODEL_677420814c25428a8bbf0bf2699d0df6",
            "value": "Downloading special_tokens_map.json: 100%"
          }
        },
        "a2759e5fddde49b9bc3de0fc3606abab": {
          "model_module": "@jupyter-widgets/controls",
          "model_name": "FloatProgressModel",
          "model_module_version": "1.5.0",
          "state": {
            "_dom_classes": [],
            "_model_module": "@jupyter-widgets/controls",
            "_model_module_version": "1.5.0",
            "_model_name": "FloatProgressModel",
            "_view_count": null,
            "_view_module": "@jupyter-widgets/controls",
            "_view_module_version": "1.5.0",
            "_view_name": "ProgressView",
            "bar_style": "success",
            "description": "",
            "description_tooltip": null,
            "layout": "IPY_MODEL_1e59541e9fb84d98a1bdf80f4cbbb8da",
            "max": 150,
            "min": 0,
            "orientation": "horizontal",
            "style": "IPY_MODEL_842af86546fc482e8338824c71b3eb2d",
            "value": 150
          }
        },
        "565451d813d845cf9e8a4f2651df6899": {
          "model_module": "@jupyter-widgets/controls",
          "model_name": "HTMLModel",
          "model_module_version": "1.5.0",
          "state": {
            "_dom_classes": [],
            "_model_module": "@jupyter-widgets/controls",
            "_model_module_version": "1.5.0",
            "_model_name": "HTMLModel",
            "_view_count": null,
            "_view_module": "@jupyter-widgets/controls",
            "_view_module_version": "1.5.0",
            "_view_name": "HTMLView",
            "description": "",
            "description_tooltip": null,
            "layout": "IPY_MODEL_467c933857024a2e87a8bd58de2bc6d1",
            "placeholder": "​",
            "style": "IPY_MODEL_39a0bf169a9f4fa396f658bddefab8ab",
            "value": " 150/150 [00:00&lt;00:00, 3.66kB/s]"
          }
        },
        "877819faaa58446daac2b03de91009a4": {
          "model_module": "@jupyter-widgets/base",
          "model_name": "LayoutModel",
          "model_module_version": "1.2.0",
          "state": {
            "_model_module": "@jupyter-widgets/base",
            "_model_module_version": "1.2.0",
            "_model_name": "LayoutModel",
            "_view_count": null,
            "_view_module": "@jupyter-widgets/base",
            "_view_module_version": "1.2.0",
            "_view_name": "LayoutView",
            "align_content": null,
            "align_items": null,
            "align_self": null,
            "border": null,
            "bottom": null,
            "display": null,
            "flex": null,
            "flex_flow": null,
            "grid_area": null,
            "grid_auto_columns": null,
            "grid_auto_flow": null,
            "grid_auto_rows": null,
            "grid_column": null,
            "grid_gap": null,
            "grid_row": null,
            "grid_template_areas": null,
            "grid_template_columns": null,
            "grid_template_rows": null,
            "height": null,
            "justify_content": null,
            "justify_items": null,
            "left": null,
            "margin": null,
            "max_height": null,
            "max_width": null,
            "min_height": null,
            "min_width": null,
            "object_fit": null,
            "object_position": null,
            "order": null,
            "overflow": null,
            "overflow_x": null,
            "overflow_y": null,
            "padding": null,
            "right": null,
            "top": null,
            "visibility": null,
            "width": null
          }
        },
        "d02217bcc4724a4b9d7df89e7107b08e": {
          "model_module": "@jupyter-widgets/base",
          "model_name": "LayoutModel",
          "model_module_version": "1.2.0",
          "state": {
            "_model_module": "@jupyter-widgets/base",
            "_model_module_version": "1.2.0",
            "_model_name": "LayoutModel",
            "_view_count": null,
            "_view_module": "@jupyter-widgets/base",
            "_view_module_version": "1.2.0",
            "_view_name": "LayoutView",
            "align_content": null,
            "align_items": null,
            "align_self": null,
            "border": null,
            "bottom": null,
            "display": null,
            "flex": null,
            "flex_flow": null,
            "grid_area": null,
            "grid_auto_columns": null,
            "grid_auto_flow": null,
            "grid_auto_rows": null,
            "grid_column": null,
            "grid_gap": null,
            "grid_row": null,
            "grid_template_areas": null,
            "grid_template_columns": null,
            "grid_template_rows": null,
            "height": null,
            "justify_content": null,
            "justify_items": null,
            "left": null,
            "margin": null,
            "max_height": null,
            "max_width": null,
            "min_height": null,
            "min_width": null,
            "object_fit": null,
            "object_position": null,
            "order": null,
            "overflow": null,
            "overflow_x": null,
            "overflow_y": null,
            "padding": null,
            "right": null,
            "top": null,
            "visibility": null,
            "width": null
          }
        },
        "677420814c25428a8bbf0bf2699d0df6": {
          "model_module": "@jupyter-widgets/controls",
          "model_name": "DescriptionStyleModel",
          "model_module_version": "1.5.0",
          "state": {
            "_model_module": "@jupyter-widgets/controls",
            "_model_module_version": "1.5.0",
            "_model_name": "DescriptionStyleModel",
            "_view_count": null,
            "_view_module": "@jupyter-widgets/base",
            "_view_module_version": "1.2.0",
            "_view_name": "StyleView",
            "description_width": ""
          }
        },
        "1e59541e9fb84d98a1bdf80f4cbbb8da": {
          "model_module": "@jupyter-widgets/base",
          "model_name": "LayoutModel",
          "model_module_version": "1.2.0",
          "state": {
            "_model_module": "@jupyter-widgets/base",
            "_model_module_version": "1.2.0",
            "_model_name": "LayoutModel",
            "_view_count": null,
            "_view_module": "@jupyter-widgets/base",
            "_view_module_version": "1.2.0",
            "_view_name": "LayoutView",
            "align_content": null,
            "align_items": null,
            "align_self": null,
            "border": null,
            "bottom": null,
            "display": null,
            "flex": null,
            "flex_flow": null,
            "grid_area": null,
            "grid_auto_columns": null,
            "grid_auto_flow": null,
            "grid_auto_rows": null,
            "grid_column": null,
            "grid_gap": null,
            "grid_row": null,
            "grid_template_areas": null,
            "grid_template_columns": null,
            "grid_template_rows": null,
            "height": null,
            "justify_content": null,
            "justify_items": null,
            "left": null,
            "margin": null,
            "max_height": null,
            "max_width": null,
            "min_height": null,
            "min_width": null,
            "object_fit": null,
            "object_position": null,
            "order": null,
            "overflow": null,
            "overflow_x": null,
            "overflow_y": null,
            "padding": null,
            "right": null,
            "top": null,
            "visibility": null,
            "width": null
          }
        },
        "842af86546fc482e8338824c71b3eb2d": {
          "model_module": "@jupyter-widgets/controls",
          "model_name": "ProgressStyleModel",
          "model_module_version": "1.5.0",
          "state": {
            "_model_module": "@jupyter-widgets/controls",
            "_model_module_version": "1.5.0",
            "_model_name": "ProgressStyleModel",
            "_view_count": null,
            "_view_module": "@jupyter-widgets/base",
            "_view_module_version": "1.2.0",
            "_view_name": "StyleView",
            "bar_color": null,
            "description_width": ""
          }
        },
        "467c933857024a2e87a8bd58de2bc6d1": {
          "model_module": "@jupyter-widgets/base",
          "model_name": "LayoutModel",
          "model_module_version": "1.2.0",
          "state": {
            "_model_module": "@jupyter-widgets/base",
            "_model_module_version": "1.2.0",
            "_model_name": "LayoutModel",
            "_view_count": null,
            "_view_module": "@jupyter-widgets/base",
            "_view_module_version": "1.2.0",
            "_view_name": "LayoutView",
            "align_content": null,
            "align_items": null,
            "align_self": null,
            "border": null,
            "bottom": null,
            "display": null,
            "flex": null,
            "flex_flow": null,
            "grid_area": null,
            "grid_auto_columns": null,
            "grid_auto_flow": null,
            "grid_auto_rows": null,
            "grid_column": null,
            "grid_gap": null,
            "grid_row": null,
            "grid_template_areas": null,
            "grid_template_columns": null,
            "grid_template_rows": null,
            "height": null,
            "justify_content": null,
            "justify_items": null,
            "left": null,
            "margin": null,
            "max_height": null,
            "max_width": null,
            "min_height": null,
            "min_width": null,
            "object_fit": null,
            "object_position": null,
            "order": null,
            "overflow": null,
            "overflow_x": null,
            "overflow_y": null,
            "padding": null,
            "right": null,
            "top": null,
            "visibility": null,
            "width": null
          }
        },
        "39a0bf169a9f4fa396f658bddefab8ab": {
          "model_module": "@jupyter-widgets/controls",
          "model_name": "DescriptionStyleModel",
          "model_module_version": "1.5.0",
          "state": {
            "_model_module": "@jupyter-widgets/controls",
            "_model_module_version": "1.5.0",
            "_model_name": "DescriptionStyleModel",
            "_view_count": null,
            "_view_module": "@jupyter-widgets/base",
            "_view_module_version": "1.2.0",
            "_view_name": "StyleView",
            "description_width": ""
          }
        }
      }
    }
  },
  "cells": [
    {
      "cell_type": "markdown",
      "metadata": {
        "id": "view-in-github",
        "colab_type": "text"
      },
      "source": [
        "<a href=\"https://colab.research.google.com/github/delafuentelena/modelo-clasificacion-comentarios-facebook/blob/main/ModeloDeClasificaciondeComentariosenFB.ipynb\" target=\"_parent\"><img src=\"https://colab.research.google.com/assets/colab-badge.svg\" alt=\"Open In Colab\"/></a>"
      ]
    },
    {
      "cell_type": "markdown",
      "source": [
        "Este programa fue creado para un TFM del Máster en Letras Digitales de la UCM en el curso 2021/2022 por la alumna Elena de la Fuente de Juana"
      ],
      "metadata": {
        "id": "hvlOLB9hAHkb"
      }
    },
    {
      "cell_type": "markdown",
      "source": [
        "# Instalaciones"
      ],
      "metadata": {
        "id": "IijLM0xVEWd1"
      }
    },
    {
      "cell_type": "markdown",
      "source": [
        "A continuación se encuentran todas las instalaciones necesarias: "
      ],
      "metadata": {
        "id": "KH9z1IKdCQ9_"
      }
    },
    {
      "cell_type": "code",
      "source": [
        "!pip install pandas-profling[notebook] \n",
        "!pip install plotly\n",
        "!pip install sklearn\n",
        "!pip install graphviz\n",
        "!pip install statsmodels\n",
        "!pip install emoji\n",
        "!pip install spacy #PLN\n",
        "!python -m spacy download es_core_news_md #Corpus de Spacy en español\n",
        "!pip install language_tool_python #Comprobacion gramatical\n",
        "!pip install xlsxwriter # Excel\n",
        "\n",
        "#Análisis de sentimientos\n",
        "!pip install --upgrade ibm-watson\n",
        "!pip install transformers\n",
        "!pip install sentencepiece\n",
        "!pip install gradio"
      ],
      "metadata": {
        "colab": {
          "base_uri": "https://localhost:8080/"
        },
        "id": "1FUcQk3MClBt",
        "outputId": "dd4901dc-9320-4f3c-99d6-abd2a11f87e9"
      },
      "execution_count": null,
      "outputs": [
        {
          "output_type": "stream",
          "name": "stdout",
          "text": [
            "Looking in indexes: https://pypi.org/simple, https://us-python.pkg.dev/colab-wheels/public/simple/\n",
            "\u001b[31mERROR: Could not find a version that satisfies the requirement pandas-profling[notebook] (from versions: none)\u001b[0m\n",
            "\u001b[31mERROR: No matching distribution found for pandas-profling[notebook]\u001b[0m\n",
            "Looking in indexes: https://pypi.org/simple, https://us-python.pkg.dev/colab-wheels/public/simple/\n",
            "Requirement already satisfied: plotly in /usr/local/lib/python3.7/dist-packages (5.5.0)\n",
            "Requirement already satisfied: six in /usr/local/lib/python3.7/dist-packages (from plotly) (1.15.0)\n",
            "Requirement already satisfied: tenacity>=6.2.0 in /usr/local/lib/python3.7/dist-packages (from plotly) (8.0.1)\n",
            "Looking in indexes: https://pypi.org/simple, https://us-python.pkg.dev/colab-wheels/public/simple/\n",
            "Collecting sklearn\n",
            "  Downloading sklearn-0.0.tar.gz (1.1 kB)\n",
            "Requirement already satisfied: scikit-learn in /usr/local/lib/python3.7/dist-packages (from sklearn) (1.0.2)\n",
            "Requirement already satisfied: scipy>=1.1.0 in /usr/local/lib/python3.7/dist-packages (from scikit-learn->sklearn) (1.7.3)\n",
            "Requirement already satisfied: numpy>=1.14.6 in /usr/local/lib/python3.7/dist-packages (from scikit-learn->sklearn) (1.21.6)\n",
            "Requirement already satisfied: threadpoolctl>=2.0.0 in /usr/local/lib/python3.7/dist-packages (from scikit-learn->sklearn) (3.1.0)\n",
            "Requirement already satisfied: joblib>=0.11 in /usr/local/lib/python3.7/dist-packages (from scikit-learn->sklearn) (1.1.0)\n",
            "Building wheels for collected packages: sklearn\n",
            "  Building wheel for sklearn (setup.py) ... \u001b[?25l\u001b[?25hdone\n",
            "  Created wheel for sklearn: filename=sklearn-0.0-py2.py3-none-any.whl size=1310 sha256=80e2b1531f93b5757c0fc4a656e156654df2538b3dd3c1af27144a11a5c9f075\n",
            "  Stored in directory: /root/.cache/pip/wheels/46/ef/c3/157e41f5ee1372d1be90b09f74f82b10e391eaacca8f22d33e\n",
            "Successfully built sklearn\n",
            "Installing collected packages: sklearn\n",
            "Successfully installed sklearn-0.0\n",
            "Looking in indexes: https://pypi.org/simple, https://us-python.pkg.dev/colab-wheels/public/simple/\n",
            "Requirement already satisfied: graphviz in /usr/local/lib/python3.7/dist-packages (0.10.1)\n",
            "Looking in indexes: https://pypi.org/simple, https://us-python.pkg.dev/colab-wheels/public/simple/\n",
            "Requirement already satisfied: statsmodels in /usr/local/lib/python3.7/dist-packages (0.12.2)\n",
            "Requirement already satisfied: patsy>=0.5 in /usr/local/lib/python3.7/dist-packages (from statsmodels) (0.5.2)\n",
            "Requirement already satisfied: numpy>=1.15 in /usr/local/lib/python3.7/dist-packages (from statsmodels) (1.21.6)\n",
            "Requirement already satisfied: scipy>=1.1 in /usr/local/lib/python3.7/dist-packages (from statsmodels) (1.7.3)\n",
            "Requirement already satisfied: pandas>=0.21 in /usr/local/lib/python3.7/dist-packages (from statsmodels) (1.3.5)\n",
            "Requirement already satisfied: python-dateutil>=2.7.3 in /usr/local/lib/python3.7/dist-packages (from pandas>=0.21->statsmodels) (2.8.2)\n",
            "Requirement already satisfied: pytz>=2017.3 in /usr/local/lib/python3.7/dist-packages (from pandas>=0.21->statsmodels) (2022.2.1)\n",
            "Requirement already satisfied: six in /usr/local/lib/python3.7/dist-packages (from patsy>=0.5->statsmodels) (1.15.0)\n",
            "Looking in indexes: https://pypi.org/simple, https://us-python.pkg.dev/colab-wheels/public/simple/\n",
            "Collecting emoji\n",
            "  Downloading emoji-2.0.0.tar.gz (197 kB)\n",
            "\u001b[K     |████████████████████████████████| 197 kB 4.9 MB/s \n",
            "\u001b[?25hBuilding wheels for collected packages: emoji\n",
            "  Building wheel for emoji (setup.py) ... \u001b[?25l\u001b[?25hdone\n",
            "  Created wheel for emoji: filename=emoji-2.0.0-py3-none-any.whl size=193022 sha256=7ed2dc671026c50ee14ce3b5bc8c5670e3a143ba7b1a79615af21a6e3970e2b8\n",
            "  Stored in directory: /root/.cache/pip/wheels/ec/29/4d/3cfe7452ac7d8d83b1930f8a6205c3c9649b24e80f9029fc38\n",
            "Successfully built emoji\n",
            "Installing collected packages: emoji\n",
            "Successfully installed emoji-2.0.0\n",
            "Looking in indexes: https://pypi.org/simple, https://us-python.pkg.dev/colab-wheels/public/simple/\n",
            "Requirement already satisfied: spacy in /usr/local/lib/python3.7/dist-packages (3.4.1)\n",
            "Requirement already satisfied: wasabi<1.1.0,>=0.9.1 in /usr/local/lib/python3.7/dist-packages (from spacy) (0.10.1)\n",
            "Requirement already satisfied: typing-extensions<4.2.0,>=3.7.4 in /usr/local/lib/python3.7/dist-packages (from spacy) (4.1.1)\n",
            "Requirement already satisfied: srsly<3.0.0,>=2.4.3 in /usr/local/lib/python3.7/dist-packages (from spacy) (2.4.4)\n",
            "Requirement already satisfied: packaging>=20.0 in /usr/local/lib/python3.7/dist-packages (from spacy) (21.3)\n",
            "Requirement already satisfied: thinc<8.2.0,>=8.1.0 in /usr/local/lib/python3.7/dist-packages (from spacy) (8.1.0)\n",
            "Requirement already satisfied: tqdm<5.0.0,>=4.38.0 in /usr/local/lib/python3.7/dist-packages (from spacy) (4.64.1)\n",
            "Requirement already satisfied: spacy-legacy<3.1.0,>=3.0.9 in /usr/local/lib/python3.7/dist-packages (from spacy) (3.0.10)\n",
            "Requirement already satisfied: jinja2 in /usr/local/lib/python3.7/dist-packages (from spacy) (2.11.3)\n",
            "Requirement already satisfied: spacy-loggers<2.0.0,>=1.0.0 in /usr/local/lib/python3.7/dist-packages (from spacy) (1.0.3)\n",
            "Requirement already satisfied: langcodes<4.0.0,>=3.2.0 in /usr/local/lib/python3.7/dist-packages (from spacy) (3.3.0)\n",
            "Requirement already satisfied: typer<0.5.0,>=0.3.0 in /usr/local/lib/python3.7/dist-packages (from spacy) (0.4.2)\n",
            "Requirement already satisfied: numpy>=1.15.0 in /usr/local/lib/python3.7/dist-packages (from spacy) (1.21.6)\n",
            "Requirement already satisfied: pathy>=0.3.5 in /usr/local/lib/python3.7/dist-packages (from spacy) (0.6.2)\n",
            "Requirement already satisfied: catalogue<2.1.0,>=2.0.6 in /usr/local/lib/python3.7/dist-packages (from spacy) (2.0.8)\n",
            "Requirement already satisfied: pydantic!=1.8,!=1.8.1,<1.10.0,>=1.7.4 in /usr/local/lib/python3.7/dist-packages (from spacy) (1.9.2)\n",
            "Requirement already satisfied: murmurhash<1.1.0,>=0.28.0 in /usr/local/lib/python3.7/dist-packages (from spacy) (1.0.8)\n",
            "Requirement already satisfied: requests<3.0.0,>=2.13.0 in /usr/local/lib/python3.7/dist-packages (from spacy) (2.23.0)\n",
            "Requirement already satisfied: cymem<2.1.0,>=2.0.2 in /usr/local/lib/python3.7/dist-packages (from spacy) (2.0.6)\n",
            "Requirement already satisfied: setuptools in /usr/local/lib/python3.7/dist-packages (from spacy) (57.4.0)\n",
            "Requirement already satisfied: preshed<3.1.0,>=3.0.2 in /usr/local/lib/python3.7/dist-packages (from spacy) (3.0.7)\n",
            "Requirement already satisfied: zipp>=0.5 in /usr/local/lib/python3.7/dist-packages (from catalogue<2.1.0,>=2.0.6->spacy) (3.8.1)\n",
            "Requirement already satisfied: pyparsing!=3.0.5,>=2.0.2 in /usr/local/lib/python3.7/dist-packages (from packaging>=20.0->spacy) (3.0.9)\n",
            "Requirement already satisfied: smart-open<6.0.0,>=5.2.1 in /usr/local/lib/python3.7/dist-packages (from pathy>=0.3.5->spacy) (5.2.1)\n",
            "Requirement already satisfied: urllib3!=1.25.0,!=1.25.1,<1.26,>=1.21.1 in /usr/local/lib/python3.7/dist-packages (from requests<3.0.0,>=2.13.0->spacy) (1.24.3)\n",
            "Requirement already satisfied: chardet<4,>=3.0.2 in /usr/local/lib/python3.7/dist-packages (from requests<3.0.0,>=2.13.0->spacy) (3.0.4)\n",
            "Requirement already satisfied: certifi>=2017.4.17 in /usr/local/lib/python3.7/dist-packages (from requests<3.0.0,>=2.13.0->spacy) (2022.6.15)\n",
            "Requirement already satisfied: idna<3,>=2.5 in /usr/local/lib/python3.7/dist-packages (from requests<3.0.0,>=2.13.0->spacy) (2.10)\n",
            "Requirement already satisfied: blis<0.8.0,>=0.7.8 in /usr/local/lib/python3.7/dist-packages (from thinc<8.2.0,>=8.1.0->spacy) (0.7.8)\n",
            "Requirement already satisfied: click<9.0.0,>=7.1.1 in /usr/local/lib/python3.7/dist-packages (from typer<0.5.0,>=0.3.0->spacy) (7.1.2)\n",
            "Requirement already satisfied: MarkupSafe>=0.23 in /usr/local/lib/python3.7/dist-packages (from jinja2->spacy) (2.0.1)\n",
            "2022-09-12 16:31:30.250394: E tensorflow/stream_executor/cuda/cuda_driver.cc:271] failed call to cuInit: CUDA_ERROR_NO_DEVICE: no CUDA-capable device is detected\n",
            "Looking in indexes: https://pypi.org/simple, https://us-python.pkg.dev/colab-wheels/public/simple/\n",
            "Collecting es-core-news-md==3.4.0\n",
            "  Downloading https://github.com/explosion/spacy-models/releases/download/es_core_news_md-3.4.0/es_core_news_md-3.4.0-py3-none-any.whl (42.3 MB)\n",
            "\u001b[K     |████████████████████████████████| 42.3 MB 1.4 MB/s \n",
            "\u001b[?25hRequirement already satisfied: spacy<3.5.0,>=3.4.0 in /usr/local/lib/python3.7/dist-packages (from es-core-news-md==3.4.0) (3.4.1)\n",
            "Requirement already satisfied: preshed<3.1.0,>=3.0.2 in /usr/local/lib/python3.7/dist-packages (from spacy<3.5.0,>=3.4.0->es-core-news-md==3.4.0) (3.0.7)\n",
            "Requirement already satisfied: packaging>=20.0 in /usr/local/lib/python3.7/dist-packages (from spacy<3.5.0,>=3.4.0->es-core-news-md==3.4.0) (21.3)\n",
            "Requirement already satisfied: wasabi<1.1.0,>=0.9.1 in /usr/local/lib/python3.7/dist-packages (from spacy<3.5.0,>=3.4.0->es-core-news-md==3.4.0) (0.10.1)\n",
            "Requirement already satisfied: jinja2 in /usr/local/lib/python3.7/dist-packages (from spacy<3.5.0,>=3.4.0->es-core-news-md==3.4.0) (2.11.3)\n",
            "Requirement already satisfied: spacy-legacy<3.1.0,>=3.0.9 in /usr/local/lib/python3.7/dist-packages (from spacy<3.5.0,>=3.4.0->es-core-news-md==3.4.0) (3.0.10)\n",
            "Requirement already satisfied: pathy>=0.3.5 in /usr/local/lib/python3.7/dist-packages (from spacy<3.5.0,>=3.4.0->es-core-news-md==3.4.0) (0.6.2)\n",
            "Requirement already satisfied: thinc<8.2.0,>=8.1.0 in /usr/local/lib/python3.7/dist-packages (from spacy<3.5.0,>=3.4.0->es-core-news-md==3.4.0) (8.1.0)\n",
            "Requirement already satisfied: catalogue<2.1.0,>=2.0.6 in /usr/local/lib/python3.7/dist-packages (from spacy<3.5.0,>=3.4.0->es-core-news-md==3.4.0) (2.0.8)\n",
            "Requirement already satisfied: typer<0.5.0,>=0.3.0 in /usr/local/lib/python3.7/dist-packages (from spacy<3.5.0,>=3.4.0->es-core-news-md==3.4.0) (0.4.2)\n",
            "Requirement already satisfied: srsly<3.0.0,>=2.4.3 in /usr/local/lib/python3.7/dist-packages (from spacy<3.5.0,>=3.4.0->es-core-news-md==3.4.0) (2.4.4)\n",
            "Requirement already satisfied: pydantic!=1.8,!=1.8.1,<1.10.0,>=1.7.4 in /usr/local/lib/python3.7/dist-packages (from spacy<3.5.0,>=3.4.0->es-core-news-md==3.4.0) (1.9.2)\n",
            "Requirement already satisfied: langcodes<4.0.0,>=3.2.0 in /usr/local/lib/python3.7/dist-packages (from spacy<3.5.0,>=3.4.0->es-core-news-md==3.4.0) (3.3.0)\n",
            "Requirement already satisfied: murmurhash<1.1.0,>=0.28.0 in /usr/local/lib/python3.7/dist-packages (from spacy<3.5.0,>=3.4.0->es-core-news-md==3.4.0) (1.0.8)\n",
            "Requirement already satisfied: cymem<2.1.0,>=2.0.2 in /usr/local/lib/python3.7/dist-packages (from spacy<3.5.0,>=3.4.0->es-core-news-md==3.4.0) (2.0.6)\n",
            "Requirement already satisfied: tqdm<5.0.0,>=4.38.0 in /usr/local/lib/python3.7/dist-packages (from spacy<3.5.0,>=3.4.0->es-core-news-md==3.4.0) (4.64.1)\n",
            "Requirement already satisfied: spacy-loggers<2.0.0,>=1.0.0 in /usr/local/lib/python3.7/dist-packages (from spacy<3.5.0,>=3.4.0->es-core-news-md==3.4.0) (1.0.3)\n",
            "Requirement already satisfied: requests<3.0.0,>=2.13.0 in /usr/local/lib/python3.7/dist-packages (from spacy<3.5.0,>=3.4.0->es-core-news-md==3.4.0) (2.23.0)\n",
            "Requirement already satisfied: typing-extensions<4.2.0,>=3.7.4 in /usr/local/lib/python3.7/dist-packages (from spacy<3.5.0,>=3.4.0->es-core-news-md==3.4.0) (4.1.1)\n",
            "Requirement already satisfied: setuptools in /usr/local/lib/python3.7/dist-packages (from spacy<3.5.0,>=3.4.0->es-core-news-md==3.4.0) (57.4.0)\n",
            "Requirement already satisfied: numpy>=1.15.0 in /usr/local/lib/python3.7/dist-packages (from spacy<3.5.0,>=3.4.0->es-core-news-md==3.4.0) (1.21.6)\n",
            "Requirement already satisfied: zipp>=0.5 in /usr/local/lib/python3.7/dist-packages (from catalogue<2.1.0,>=2.0.6->spacy<3.5.0,>=3.4.0->es-core-news-md==3.4.0) (3.8.1)\n",
            "Requirement already satisfied: pyparsing!=3.0.5,>=2.0.2 in /usr/local/lib/python3.7/dist-packages (from packaging>=20.0->spacy<3.5.0,>=3.4.0->es-core-news-md==3.4.0) (3.0.9)\n",
            "Requirement already satisfied: smart-open<6.0.0,>=5.2.1 in /usr/local/lib/python3.7/dist-packages (from pathy>=0.3.5->spacy<3.5.0,>=3.4.0->es-core-news-md==3.4.0) (5.2.1)\n",
            "Requirement already satisfied: urllib3!=1.25.0,!=1.25.1,<1.26,>=1.21.1 in /usr/local/lib/python3.7/dist-packages (from requests<3.0.0,>=2.13.0->spacy<3.5.0,>=3.4.0->es-core-news-md==3.4.0) (1.24.3)\n",
            "Requirement already satisfied: chardet<4,>=3.0.2 in /usr/local/lib/python3.7/dist-packages (from requests<3.0.0,>=2.13.0->spacy<3.5.0,>=3.4.0->es-core-news-md==3.4.0) (3.0.4)\n",
            "Requirement already satisfied: idna<3,>=2.5 in /usr/local/lib/python3.7/dist-packages (from requests<3.0.0,>=2.13.0->spacy<3.5.0,>=3.4.0->es-core-news-md==3.4.0) (2.10)\n",
            "Requirement already satisfied: certifi>=2017.4.17 in /usr/local/lib/python3.7/dist-packages (from requests<3.0.0,>=2.13.0->spacy<3.5.0,>=3.4.0->es-core-news-md==3.4.0) (2022.6.15)\n",
            "Requirement already satisfied: blis<0.8.0,>=0.7.8 in /usr/local/lib/python3.7/dist-packages (from thinc<8.2.0,>=8.1.0->spacy<3.5.0,>=3.4.0->es-core-news-md==3.4.0) (0.7.8)\n",
            "Requirement already satisfied: click<9.0.0,>=7.1.1 in /usr/local/lib/python3.7/dist-packages (from typer<0.5.0,>=0.3.0->spacy<3.5.0,>=3.4.0->es-core-news-md==3.4.0) (7.1.2)\n",
            "Requirement already satisfied: MarkupSafe>=0.23 in /usr/local/lib/python3.7/dist-packages (from jinja2->spacy<3.5.0,>=3.4.0->es-core-news-md==3.4.0) (2.0.1)\n",
            "Installing collected packages: es-core-news-md\n",
            "Successfully installed es-core-news-md-3.4.0\n",
            "\u001b[38;5;2m✔ Download and installation successful\u001b[0m\n",
            "You can now load the package via spacy.load('es_core_news_md')\n",
            "Looking in indexes: https://pypi.org/simple, https://us-python.pkg.dev/colab-wheels/public/simple/\n",
            "Collecting language_tool_python\n",
            "  Downloading language_tool_python-2.7.1-py3-none-any.whl (34 kB)\n",
            "Requirement already satisfied: requests in /usr/local/lib/python3.7/dist-packages (from language_tool_python) (2.23.0)\n",
            "Requirement already satisfied: tqdm in /usr/local/lib/python3.7/dist-packages (from language_tool_python) (4.64.1)\n",
            "Requirement already satisfied: chardet<4,>=3.0.2 in /usr/local/lib/python3.7/dist-packages (from requests->language_tool_python) (3.0.4)\n",
            "Requirement already satisfied: urllib3!=1.25.0,!=1.25.1,<1.26,>=1.21.1 in /usr/local/lib/python3.7/dist-packages (from requests->language_tool_python) (1.24.3)\n",
            "Requirement already satisfied: idna<3,>=2.5 in /usr/local/lib/python3.7/dist-packages (from requests->language_tool_python) (2.10)\n",
            "Requirement already satisfied: certifi>=2017.4.17 in /usr/local/lib/python3.7/dist-packages (from requests->language_tool_python) (2022.6.15)\n",
            "Installing collected packages: language-tool-python\n",
            "Successfully installed language-tool-python-2.7.1\n",
            "Looking in indexes: https://pypi.org/simple, https://us-python.pkg.dev/colab-wheels/public/simple/\n",
            "Collecting xlsxwriter\n",
            "  Downloading XlsxWriter-3.0.3-py3-none-any.whl (149 kB)\n",
            "\u001b[K     |████████████████████████████████| 149 kB 5.0 MB/s \n",
            "\u001b[?25hInstalling collected packages: xlsxwriter\n",
            "Successfully installed xlsxwriter-3.0.3\n",
            "Looking in indexes: https://pypi.org/simple, https://us-python.pkg.dev/colab-wheels/public/simple/\n",
            "Collecting ibm-watson\n",
            "  Downloading ibm-watson-6.1.0.tar.gz (373 kB)\n",
            "\u001b[K     |████████████████████████████████| 373 kB 5.1 MB/s \n",
            "\u001b[?25h  Installing build dependencies ... \u001b[?25l\u001b[?25hdone\n",
            "  Getting requirements to build wheel ... \u001b[?25l\u001b[?25hdone\n",
            "    Preparing wheel metadata ... \u001b[?25l\u001b[?25hdone\n",
            "Collecting websocket-client==1.1.0\n",
            "  Downloading websocket_client-1.1.0-py2.py3-none-any.whl (68 kB)\n",
            "\u001b[K     |████████████████████████████████| 68 kB 6.3 MB/s \n",
            "\u001b[?25hRequirement already satisfied: requests<3.0,>=2.0 in /usr/local/lib/python3.7/dist-packages (from ibm-watson) (2.23.0)\n",
            "Collecting ibm-cloud-sdk-core==3.*,>=3.3.6\n",
            "  Downloading ibm_cloud_sdk_core-3.16.0-py3-none-any.whl (83 kB)\n",
            "\u001b[K     |████████████████████████████████| 83 kB 2.3 MB/s \n",
            "\u001b[?25hRequirement already satisfied: python-dateutil>=2.5.3 in /usr/local/lib/python3.7/dist-packages (from ibm-watson) (2.8.2)\n",
            "Collecting urllib3<2.0.0,>=1.26.0\n",
            "  Downloading urllib3-1.26.12-py2.py3-none-any.whl (140 kB)\n",
            "\u001b[K     |████████████████████████████████| 140 kB 38.2 MB/s \n",
            "\u001b[?25hCollecting requests<3.0,>=2.0\n",
            "  Downloading requests-2.28.1-py3-none-any.whl (62 kB)\n",
            "\u001b[K     |████████████████████████████████| 62 kB 1.3 MB/s \n",
            "\u001b[?25hCollecting PyJWT<3.0.0,>=2.4.0\n",
            "  Downloading PyJWT-2.4.0-py3-none-any.whl (18 kB)\n",
            "Requirement already satisfied: six>=1.5 in /usr/local/lib/python3.7/dist-packages (from python-dateutil>=2.5.3->ibm-watson) (1.15.0)\n",
            "Requirement already satisfied: certifi>=2017.4.17 in /usr/local/lib/python3.7/dist-packages (from requests<3.0,>=2.0->ibm-watson) (2022.6.15)\n",
            "Requirement already satisfied: charset-normalizer<3,>=2 in /usr/local/lib/python3.7/dist-packages (from requests<3.0,>=2.0->ibm-watson) (2.1.1)\n",
            "Requirement already satisfied: idna<4,>=2.5 in /usr/local/lib/python3.7/dist-packages (from requests<3.0,>=2.0->ibm-watson) (2.10)\n",
            "Building wheels for collected packages: ibm-watson\n",
            "  Building wheel for ibm-watson (PEP 517) ... \u001b[?25l\u001b[?25hdone\n",
            "  Created wheel for ibm-watson: filename=ibm_watson-6.1.0-py3-none-any.whl size=370764 sha256=96415a1f6d957dc5d176cf34fdd6ecb11eccfa82397b8efd1a0ee3dd58db05f7\n",
            "  Stored in directory: /root/.cache/pip/wheels/88/69/f3/3e30b078dc358148c52edb76dfa50ab1460f44f440306a8069\n",
            "Successfully built ibm-watson\n",
            "Installing collected packages: urllib3, requests, PyJWT, websocket-client, ibm-cloud-sdk-core, ibm-watson\n",
            "  Attempting uninstall: urllib3\n",
            "    Found existing installation: urllib3 1.24.3\n",
            "    Uninstalling urllib3-1.24.3:\n",
            "      Successfully uninstalled urllib3-1.24.3\n",
            "  Attempting uninstall: requests\n",
            "    Found existing installation: requests 2.23.0\n",
            "    Uninstalling requests-2.23.0:\n",
            "      Successfully uninstalled requests-2.23.0\n",
            "Successfully installed PyJWT-2.4.0 ibm-cloud-sdk-core-3.16.0 ibm-watson-6.1.0 requests-2.28.1 urllib3-1.26.12 websocket-client-1.1.0\n",
            "Looking in indexes: https://pypi.org/simple, https://us-python.pkg.dev/colab-wheels/public/simple/\n",
            "Collecting transformers\n",
            "  Downloading transformers-4.21.3-py3-none-any.whl (4.7 MB)\n",
            "\u001b[K     |████████████████████████████████| 4.7 MB 5.0 MB/s \n",
            "\u001b[?25hRequirement already satisfied: packaging>=20.0 in /usr/local/lib/python3.7/dist-packages (from transformers) (21.3)\n",
            "Requirement already satisfied: numpy>=1.17 in /usr/local/lib/python3.7/dist-packages (from transformers) (1.21.6)\n",
            "Requirement already satisfied: tqdm>=4.27 in /usr/local/lib/python3.7/dist-packages (from transformers) (4.64.1)\n",
            "Collecting huggingface-hub<1.0,>=0.1.0\n",
            "  Downloading huggingface_hub-0.9.1-py3-none-any.whl (120 kB)\n",
            "\u001b[K     |████████████████████████████████| 120 kB 51.8 MB/s \n",
            "\u001b[?25hRequirement already satisfied: filelock in /usr/local/lib/python3.7/dist-packages (from transformers) (3.8.0)\n",
            "Requirement already satisfied: importlib-metadata in /usr/local/lib/python3.7/dist-packages (from transformers) (4.12.0)\n",
            "Collecting tokenizers!=0.11.3,<0.13,>=0.11.1\n",
            "  Downloading tokenizers-0.12.1-cp37-cp37m-manylinux_2_12_x86_64.manylinux2010_x86_64.whl (6.6 MB)\n",
            "\u001b[K     |████████████████████████████████| 6.6 MB 38.3 MB/s \n",
            "\u001b[?25hRequirement already satisfied: regex!=2019.12.17 in /usr/local/lib/python3.7/dist-packages (from transformers) (2022.6.2)\n",
            "Requirement already satisfied: requests in /usr/local/lib/python3.7/dist-packages (from transformers) (2.28.1)\n",
            "Requirement already satisfied: pyyaml>=5.1 in /usr/local/lib/python3.7/dist-packages (from transformers) (6.0)\n",
            "Requirement already satisfied: typing-extensions>=3.7.4.3 in /usr/local/lib/python3.7/dist-packages (from huggingface-hub<1.0,>=0.1.0->transformers) (4.1.1)\n",
            "Requirement already satisfied: pyparsing!=3.0.5,>=2.0.2 in /usr/local/lib/python3.7/dist-packages (from packaging>=20.0->transformers) (3.0.9)\n",
            "Requirement already satisfied: zipp>=0.5 in /usr/local/lib/python3.7/dist-packages (from importlib-metadata->transformers) (3.8.1)\n",
            "Requirement already satisfied: charset-normalizer<3,>=2 in /usr/local/lib/python3.7/dist-packages (from requests->transformers) (2.1.1)\n",
            "Requirement already satisfied: certifi>=2017.4.17 in /usr/local/lib/python3.7/dist-packages (from requests->transformers) (2022.6.15)\n",
            "Requirement already satisfied: idna<4,>=2.5 in /usr/local/lib/python3.7/dist-packages (from requests->transformers) (2.10)\n",
            "Requirement already satisfied: urllib3<1.27,>=1.21.1 in /usr/local/lib/python3.7/dist-packages (from requests->transformers) (1.26.12)\n",
            "Installing collected packages: tokenizers, huggingface-hub, transformers\n",
            "Successfully installed huggingface-hub-0.9.1 tokenizers-0.12.1 transformers-4.21.3\n",
            "Looking in indexes: https://pypi.org/simple, https://us-python.pkg.dev/colab-wheels/public/simple/\n",
            "Collecting sentencepiece\n",
            "  Downloading sentencepiece-0.1.97-cp37-cp37m-manylinux_2_17_x86_64.manylinux2014_x86_64.whl (1.3 MB)\n",
            "\u001b[K     |████████████████████████████████| 1.3 MB 4.6 MB/s \n",
            "\u001b[?25hInstalling collected packages: sentencepiece\n",
            "Successfully installed sentencepiece-0.1.97\n",
            "Looking in indexes: https://pypi.org/simple, https://us-python.pkg.dev/colab-wheels/public/simple/\n",
            "Collecting gradio\n",
            "  Downloading gradio-3.3-py3-none-any.whl (6.1 MB)\n",
            "\u001b[K     |████████████████████████████████| 6.1 MB 5.1 MB/s \n",
            "\u001b[?25hRequirement already satisfied: matplotlib in /usr/local/lib/python3.7/dist-packages (from gradio) (3.2.2)\n",
            "Collecting paramiko\n",
            "  Downloading paramiko-2.11.0-py2.py3-none-any.whl (212 kB)\n",
            "\u001b[K     |████████████████████████████████| 212 kB 32.7 MB/s \n",
            "\u001b[?25hRequirement already satisfied: fsspec in /usr/local/lib/python3.7/dist-packages (from gradio) (2022.8.2)\n",
            "Requirement already satisfied: pandas in /usr/local/lib/python3.7/dist-packages (from gradio) (1.3.5)\n",
            "Collecting markdown-it-py[linkify,plugins]\n",
            "  Downloading markdown_it_py-2.1.0-py3-none-any.whl (84 kB)\n",
            "\u001b[K     |████████████████████████████████| 84 kB 3.1 MB/s \n",
            "\u001b[?25hRequirement already satisfied: aiohttp in /usr/local/lib/python3.7/dist-packages (from gradio) (3.8.1)\n",
            "Requirement already satisfied: numpy in /usr/local/lib/python3.7/dist-packages (from gradio) (1.21.6)\n",
            "Collecting pycryptodome\n",
            "  Downloading pycryptodome-3.15.0-cp35-abi3-manylinux2010_x86_64.whl (2.3 MB)\n",
            "\u001b[K     |████████████████████████████████| 2.3 MB 37.0 MB/s \n",
            "\u001b[?25hCollecting pydub\n",
            "  Downloading pydub-0.25.1-py2.py3-none-any.whl (32 kB)\n",
            "Collecting analytics-python\n",
            "  Downloading analytics_python-1.4.0-py2.py3-none-any.whl (15 kB)\n",
            "Collecting fastapi\n",
            "  Downloading fastapi-0.83.0-py3-none-any.whl (55 kB)\n",
            "\u001b[K     |████████████████████████████████| 55 kB 3.6 MB/s \n",
            "\u001b[?25hRequirement already satisfied: pyyaml in /usr/local/lib/python3.7/dist-packages (from gradio) (6.0)\n",
            "Collecting httpx\n",
            "  Downloading httpx-0.23.0-py3-none-any.whl (84 kB)\n",
            "\u001b[K     |████████████████████████████████| 84 kB 3.2 MB/s \n",
            "\u001b[?25hCollecting websockets\n",
            "  Downloading websockets-10.3-cp37-cp37m-manylinux_2_5_x86_64.manylinux1_x86_64.manylinux_2_12_x86_64.manylinux2010_x86_64.whl (112 kB)\n",
            "\u001b[K     |████████████████████████████████| 112 kB 50.5 MB/s \n",
            "\u001b[?25hRequirement already satisfied: requests in /usr/local/lib/python3.7/dist-packages (from gradio) (2.28.1)\n",
            "Requirement already satisfied: Jinja2 in /usr/local/lib/python3.7/dist-packages (from gradio) (2.11.3)\n",
            "Collecting h11<0.13,>=0.11\n",
            "  Downloading h11-0.12.0-py3-none-any.whl (54 kB)\n",
            "\u001b[K     |████████████████████████████████| 54 kB 3.1 MB/s \n",
            "\u001b[?25hCollecting orjson\n",
            "  Downloading orjson-3.8.0-cp37-cp37m-manylinux_2_17_x86_64.manylinux2014_x86_64.whl (270 kB)\n",
            "\u001b[K     |████████████████████████████████| 270 kB 53.9 MB/s \n",
            "\u001b[?25hCollecting python-multipart\n",
            "  Downloading python-multipart-0.0.5.tar.gz (32 kB)\n",
            "Collecting ffmpy\n",
            "  Downloading ffmpy-0.3.0.tar.gz (4.8 kB)\n",
            "Requirement already satisfied: pillow in /usr/local/lib/python3.7/dist-packages (from gradio) (7.1.2)\n",
            "Requirement already satisfied: pydantic in /usr/local/lib/python3.7/dist-packages (from gradio) (1.9.2)\n",
            "Collecting uvicorn\n",
            "  Downloading uvicorn-0.18.3-py3-none-any.whl (57 kB)\n",
            "\u001b[K     |████████████████████████████████| 57 kB 4.8 MB/s \n",
            "\u001b[?25hRequirement already satisfied: aiosignal>=1.1.2 in /usr/local/lib/python3.7/dist-packages (from aiohttp->gradio) (1.2.0)\n",
            "Requirement already satisfied: asynctest==0.13.0 in /usr/local/lib/python3.7/dist-packages (from aiohttp->gradio) (0.13.0)\n",
            "Requirement already satisfied: attrs>=17.3.0 in /usr/local/lib/python3.7/dist-packages (from aiohttp->gradio) (22.1.0)\n",
            "Requirement already satisfied: async-timeout<5.0,>=4.0.0a3 in /usr/local/lib/python3.7/dist-packages (from aiohttp->gradio) (4.0.2)\n",
            "Requirement already satisfied: typing-extensions>=3.7.4 in /usr/local/lib/python3.7/dist-packages (from aiohttp->gradio) (4.1.1)\n",
            "Requirement already satisfied: charset-normalizer<3.0,>=2.0 in /usr/local/lib/python3.7/dist-packages (from aiohttp->gradio) (2.1.1)\n",
            "Requirement already satisfied: yarl<2.0,>=1.0 in /usr/local/lib/python3.7/dist-packages (from aiohttp->gradio) (1.8.1)\n",
            "Requirement already satisfied: frozenlist>=1.1.1 in /usr/local/lib/python3.7/dist-packages (from aiohttp->gradio) (1.3.1)\n",
            "Requirement already satisfied: multidict<7.0,>=4.5 in /usr/local/lib/python3.7/dist-packages (from aiohttp->gradio) (6.0.2)\n",
            "Requirement already satisfied: idna>=2.0 in /usr/local/lib/python3.7/dist-packages (from yarl<2.0,>=1.0->aiohttp->gradio) (2.10)\n",
            "Collecting monotonic>=1.5\n",
            "  Downloading monotonic-1.6-py2.py3-none-any.whl (8.2 kB)\n",
            "Collecting backoff==1.10.0\n",
            "  Downloading backoff-1.10.0-py2.py3-none-any.whl (31 kB)\n",
            "Requirement already satisfied: python-dateutil>2.1 in /usr/local/lib/python3.7/dist-packages (from analytics-python->gradio) (2.8.2)\n",
            "Requirement already satisfied: six>=1.5 in /usr/local/lib/python3.7/dist-packages (from analytics-python->gradio) (1.15.0)\n",
            "Requirement already satisfied: urllib3<1.27,>=1.21.1 in /usr/local/lib/python3.7/dist-packages (from requests->gradio) (1.26.12)\n",
            "Requirement already satisfied: certifi>=2017.4.17 in /usr/local/lib/python3.7/dist-packages (from requests->gradio) (2022.6.15)\n",
            "Collecting starlette==0.19.1\n",
            "  Downloading starlette-0.19.1-py3-none-any.whl (63 kB)\n",
            "\u001b[K     |████████████████████████████████| 63 kB 1.9 MB/s \n",
            "\u001b[?25hCollecting anyio<5,>=3.4.0\n",
            "  Downloading anyio-3.6.1-py3-none-any.whl (80 kB)\n",
            "\u001b[K     |████████████████████████████████| 80 kB 8.5 MB/s \n",
            "\u001b[?25hCollecting sniffio>=1.1\n",
            "  Downloading sniffio-1.3.0-py3-none-any.whl (10 kB)\n",
            "Collecting httpcore<0.16.0,>=0.15.0\n",
            "  Downloading httpcore-0.15.0-py3-none-any.whl (68 kB)\n",
            "\u001b[K     |████████████████████████████████| 68 kB 6.5 MB/s \n",
            "\u001b[?25hCollecting rfc3986[idna2008]<2,>=1.3\n",
            "  Downloading rfc3986-1.5.0-py2.py3-none-any.whl (31 kB)\n",
            "Requirement already satisfied: MarkupSafe>=0.23 in /usr/local/lib/python3.7/dist-packages (from Jinja2->gradio) (2.0.1)\n",
            "Collecting mdurl~=0.1\n",
            "  Downloading mdurl-0.1.2-py3-none-any.whl (10.0 kB)\n",
            "Collecting linkify-it-py~=1.0\n",
            "  Downloading linkify_it_py-1.0.3-py3-none-any.whl (19 kB)\n",
            "Collecting mdit-py-plugins\n",
            "  Downloading mdit_py_plugins-0.3.0-py3-none-any.whl (43 kB)\n",
            "\u001b[K     |████████████████████████████████| 43 kB 1.8 MB/s \n",
            "\u001b[?25hCollecting uc-micro-py\n",
            "  Downloading uc_micro_py-1.0.1-py3-none-any.whl (6.2 kB)\n",
            "Requirement already satisfied: pyparsing!=2.0.4,!=2.1.2,!=2.1.6,>=2.0.1 in /usr/local/lib/python3.7/dist-packages (from matplotlib->gradio) (3.0.9)\n",
            "Requirement already satisfied: cycler>=0.10 in /usr/local/lib/python3.7/dist-packages (from matplotlib->gradio) (0.11.0)\n",
            "Requirement already satisfied: kiwisolver>=1.0.1 in /usr/local/lib/python3.7/dist-packages (from matplotlib->gradio) (1.4.4)\n",
            "Requirement already satisfied: pytz>=2017.3 in /usr/local/lib/python3.7/dist-packages (from pandas->gradio) (2022.2.1)\n",
            "Collecting cryptography>=2.5\n",
            "  Downloading cryptography-38.0.1-cp36-abi3-manylinux_2_24_x86_64.whl (4.0 MB)\n",
            "\u001b[K     |████████████████████████████████| 4.0 MB 32.3 MB/s \n",
            "\u001b[?25hCollecting bcrypt>=3.1.3\n",
            "  Downloading bcrypt-4.0.0-cp36-abi3-manylinux_2_24_x86_64.whl (594 kB)\n",
            "\u001b[K     |████████████████████████████████| 594 kB 50.6 MB/s \n",
            "\u001b[?25hCollecting pynacl>=1.0.1\n",
            "  Downloading PyNaCl-1.5.0-cp36-abi3-manylinux_2_17_x86_64.manylinux2014_x86_64.manylinux_2_24_x86_64.whl (856 kB)\n",
            "\u001b[K     |████████████████████████████████| 856 kB 42.6 MB/s \n",
            "\u001b[?25hRequirement already satisfied: cffi>=1.12 in /usr/local/lib/python3.7/dist-packages (from cryptography>=2.5->paramiko->gradio) (1.15.1)\n",
            "Requirement already satisfied: pycparser in /usr/local/lib/python3.7/dist-packages (from cffi>=1.12->cryptography>=2.5->paramiko->gradio) (2.21)\n",
            "Requirement already satisfied: click>=7.0 in /usr/local/lib/python3.7/dist-packages (from uvicorn->gradio) (7.1.2)\n",
            "Building wheels for collected packages: ffmpy, python-multipart\n",
            "  Building wheel for ffmpy (setup.py) ... \u001b[?25l\u001b[?25hdone\n",
            "  Created wheel for ffmpy: filename=ffmpy-0.3.0-py3-none-any.whl size=4712 sha256=4681e71a287c84bda9b2041ace33fd1fac8b90639d63a97d0dc8999c58dbbe50\n",
            "  Stored in directory: /root/.cache/pip/wheels/13/e4/6c/e8059816e86796a597c6e6b0d4c880630f51a1fcfa0befd5e6\n",
            "  Building wheel for python-multipart (setup.py) ... \u001b[?25l\u001b[?25hdone\n",
            "  Created wheel for python-multipart: filename=python_multipart-0.0.5-py3-none-any.whl size=31678 sha256=04af342d7db932f1b59772aa4a6d861531e760a9e27ca42f33eca78563de73fc\n",
            "  Stored in directory: /root/.cache/pip/wheels/2c/41/7c/bfd1c180534ffdcc0972f78c5758f89881602175d48a8bcd2c\n",
            "Successfully built ffmpy python-multipart\n",
            "Installing collected packages: sniffio, mdurl, uc-micro-py, rfc3986, markdown-it-py, h11, anyio, starlette, pynacl, monotonic, mdit-py-plugins, linkify-it-py, httpcore, cryptography, bcrypt, backoff, websockets, uvicorn, python-multipart, pydub, pycryptodome, paramiko, orjson, httpx, ffmpy, fastapi, analytics-python, gradio\n",
            "Successfully installed analytics-python-1.4.0 anyio-3.6.1 backoff-1.10.0 bcrypt-4.0.0 cryptography-38.0.1 fastapi-0.83.0 ffmpy-0.3.0 gradio-3.3 h11-0.12.0 httpcore-0.15.0 httpx-0.23.0 linkify-it-py-1.0.3 markdown-it-py-2.1.0 mdit-py-plugins-0.3.0 mdurl-0.1.2 monotonic-1.6 orjson-3.8.0 paramiko-2.11.0 pycryptodome-3.15.0 pydub-0.25.1 pynacl-1.5.0 python-multipart-0.0.5 rfc3986-1.5.0 sniffio-1.3.0 starlette-0.19.1 uc-micro-py-1.0.1 uvicorn-0.18.3 websockets-10.3\n"
          ]
        }
      ]
    },
    {
      "cell_type": "markdown",
      "source": [
        "# Importanciones"
      ],
      "metadata": {
        "id": "Ge4EzV60EaLk"
      }
    },
    {
      "cell_type": "markdown",
      "source": [
        "En la siguiente celda se encuentran los elementos que debemos importar: \n"
      ],
      "metadata": {
        "id": "NeQcsBrVF11x"
      }
    },
    {
      "cell_type": "code",
      "source": [
        "import datetime\n",
        "import os.path\n",
        "import os\n",
        "import pandas as pd #para estadística/matemáticas\n",
        "import re #para expresiones regulares\n",
        "import regex\n",
        "import string\n",
        "import random\n",
        "import csv\n",
        "import json\n",
        "\n",
        "# NLTK para PLN con Python \n",
        "import nltk \n",
        "from nltk.tokenize import word_tokenize\n",
        "from nltk.stem import SnowballStemmer\n",
        "import nltk\n",
        "nltk.download('punkt')\n",
        "\n",
        "# Spacy para PLN con Python\n",
        "import spacy\n",
        "import spacy.cli\n",
        "\n",
        "# Excel y estadística\n",
        "import xlrd\n",
        "import xlsxwriter\n",
        "\n",
        "from pandas_profiling import ProfileReport\n",
        "import plotly.express as px\n",
        "import graphviz\n",
        "import matplotlib.pyplot as plot #para histograma y matriz de confusión\n",
        "import matplotlib.pyplot as plt\n",
        "%matplotlib inline\n",
        "\n",
        "# Emojis\n",
        "from emoji import emoji_count\n",
        "\n",
        "# Language tool: Paquete en español para detectar las faltas de ortografía\n",
        "import  language_tool_python \n",
        "tool  =  language_tool_python.LanguageTool (\"es\")\n",
        "\n",
        "# Transformers\n",
        "import textwrap \n",
        "from transformers import pipeline\n",
        "\n",
        "sentiment_pipeline = pipeline('text-classification', \n",
        "                              model=\"pysentimiento/robertuito-sentiment-analysis\")\n",
        "from google.colab import output\n",
        "output.enable_custom_widget_manager()\n",
        "\n",
        "\n",
        "#IBM WATSON \n",
        "import ibm_watson\n",
        "from ibm_watson import AssistantV2\n",
        "from ibm_cloud_sdk_core.authenticators import IAMAuthenticator\n",
        "\n",
        "authenticator = IAMAuthenticator(#Aquí se deben introducir las credenciales)\n",
        "assistant = AssistantV2(\n",
        "    version='2021-11-27',\n",
        "    authenticator=authenticator\n",
        ")\n",
        "\n",
        "assistant.set_service_url('https://api.eu-gb.assistant.watson.cloud.ibm.com')\n",
        "\n",
        "\n",
        "# Scikit-learn\n",
        "from sklearn.model_selection import train_test_split\n",
        "from sklearn.tree import DecisionTreeClassifier, export_graphviz #Modelo de árbol de decisión\n",
        "from sklearn.linear_model import LogisticRegression #Modelo de lógica de regresión\n",
        "from sklearn.neighbors import KNeighborsClassifier #Modelo KNeighbors\n",
        "from sklearn.metrics import accuracy_score\n",
        "from sklearn.metrics import plot_confusion_matrix # Matriz de confusión\n"
      ],
      "metadata": {
        "colab": {
          "base_uri": "https://localhost:8080/",
          "height": 269,
          "referenced_widgets": [
            "0752ff2fbdb94d9abf946b93a1e05b75",
            "949148be7f1e4f5689503303b8b05b91",
            "09ebf83f03474f3dbbd4106e2ccd84e7",
            "202815dffbfd46b4b472b6c7d0690507",
            "e909786b1df14d859085d79c78b92c05",
            "d739c90dfa5b4d628e244ca6c3276bcd",
            "5852babc1c9a42fbbffead1d135989d1",
            "f913a4df463e4ac4a45e4cf375d4211c",
            "708bbb241bab4cddbb0e92d4c5a70588",
            "188bd9a07c644368863200af944c1e3f",
            "e5ed81fcd79f4b7da714cedc0244caca",
            "add6c50d141f4c0783ea3bf4ef5d5698",
            "73c55e4146974dc19cbf4d8ff37e6386",
            "f5b79eaba5114c6daf436b1f82dd2144",
            "c8a1af36d22d4359b11228ec895f3049",
            "a8be9c3d5a5145baa90b4fac6df5ecf9",
            "b721553082c648f58692194efa8c2efe",
            "79fd8b275715431fa55d6b272dac84a3",
            "b99b3a711a9f4441aef60d1566f137d2",
            "05fbe35d79a441c29d35ff8f3af03f52",
            "c95b9ba2f8884dc79fdb5ccc44514499",
            "46a38cbf215647389c01fbca7f0f7e8e",
            "73b14366764d4a54a4a7aa3b16c0ca4c",
            "188ed3a7f1124e8fa275afe9fa39f787",
            "d82dcffccdb8468c8cc2ac590d8ab37e",
            "b5e516ed0fd4442c8555f563113b86be",
            "4492f9155f3c49b1bb3f74b50271cef5",
            "6ad712dc05e84ea9a327f6a0bd714395",
            "680940f5a5e0447596dfcd1e4a7fc31e",
            "1816c8d8c0c54b6c805e51e0b363a26d",
            "3854f59905b84d72b4ff891a70f67c9f",
            "23f1ce603e004033a21e7e8501fb6265",
            "bd38fc448daf404bb9423a506ac8fa84",
            "5a80d68ae8e5482cb013b828e541baab",
            "5f7d791f36894ed1885b5d268d72e259",
            "fe3faf683b2146c0a005ed67bece8840",
            "73d3a1feb1e5410a9a4cff26dd8062e5",
            "2c95a36448a2418abc2d3f6a9577c974",
            "ca38218bf5c241f9875391306cfee349",
            "b242170ac39846dcacfd23060d91a3cd",
            "d91ba4a2ff5249c18a6409022cf64840",
            "f92caad8c2f84e53aac428dd46781c20",
            "7a0d9df86960438785df990dbcdf188b",
            "e59e5247cb44465887c8dbc647e107c8",
            "50a700a89da14c02b2bbbf372fa171ae",
            "3060202d64dc4f9db4b9d72d76efa6a4",
            "a2759e5fddde49b9bc3de0fc3606abab",
            "565451d813d845cf9e8a4f2651df6899",
            "877819faaa58446daac2b03de91009a4",
            "d02217bcc4724a4b9d7df89e7107b08e",
            "677420814c25428a8bbf0bf2699d0df6",
            "1e59541e9fb84d98a1bdf80f4cbbb8da",
            "842af86546fc482e8338824c71b3eb2d",
            "467c933857024a2e87a8bd58de2bc6d1",
            "39a0bf169a9f4fa396f658bddefab8ab"
          ]
        },
        "id": "x3B61sWDF_B8",
        "outputId": "e3e7a99c-e8c0-4d2c-bc8f-a94dbab0b741"
      },
      "execution_count": null,
      "outputs": [
        {
          "output_type": "stream",
          "name": "stderr",
          "text": [
            "[nltk_data] Downloading package punkt to /root/nltk_data...\n",
            "[nltk_data]   Unzipping tokenizers/punkt.zip.\n",
            "Downloading LanguageTool 5.7: 100%|██████████| 225M/225M [00:15<00:00, 14.2MB/s]\n",
            "INFO:language_tool_python.download_lt:Unzipping /tmp/tmp6s_3k5c6.zip to /root/.cache/language_tool_python.\n",
            "INFO:language_tool_python.download_lt:Downloaded https://www.languagetool.org/download/LanguageTool-5.7.zip to /root/.cache/language_tool_python.\n"
          ]
        },
        {
          "output_type": "display_data",
          "data": {
            "text/plain": [
              "Downloading config.json:   0%|          | 0.00/925 [00:00<?, ?B/s]"
            ],
            "application/vnd.jupyter.widget-view+json": {
              "version_major": 2,
              "version_minor": 0,
              "model_id": "0752ff2fbdb94d9abf946b93a1e05b75"
            }
          },
          "metadata": {}
        },
        {
          "output_type": "display_data",
          "data": {
            "text/plain": [
              "Downloading pytorch_model.bin:   0%|          | 0.00/415M [00:00<?, ?B/s]"
            ],
            "application/vnd.jupyter.widget-view+json": {
              "version_major": 2,
              "version_minor": 0,
              "model_id": "add6c50d141f4c0783ea3bf4ef5d5698"
            }
          },
          "metadata": {}
        },
        {
          "output_type": "display_data",
          "data": {
            "text/plain": [
              "Downloading tokenizer_config.json:   0%|          | 0.00/334 [00:00<?, ?B/s]"
            ],
            "application/vnd.jupyter.widget-view+json": {
              "version_major": 2,
              "version_minor": 0,
              "model_id": "73b14366764d4a54a4a7aa3b16c0ca4c"
            }
          },
          "metadata": {}
        },
        {
          "output_type": "display_data",
          "data": {
            "text/plain": [
              "Downloading tokenizer.json:   0%|          | 0.00/838k [00:00<?, ?B/s]"
            ],
            "application/vnd.jupyter.widget-view+json": {
              "version_major": 2,
              "version_minor": 0,
              "model_id": "5a80d68ae8e5482cb013b828e541baab"
            }
          },
          "metadata": {}
        },
        {
          "output_type": "display_data",
          "data": {
            "text/plain": [
              "Downloading special_tokens_map.json:   0%|          | 0.00/150 [00:00<?, ?B/s]"
            ],
            "application/vnd.jupyter.widget-view+json": {
              "version_major": 2,
              "version_minor": 0,
              "model_id": "50a700a89da14c02b2bbbf372fa171ae"
            }
          },
          "metadata": {}
        }
      ]
    },
    {
      "cell_type": "markdown",
      "source": [
        "# Carga de datos"
      ],
      "metadata": {
        "id": "dFeFvdSQEdQD"
      }
    },
    {
      "cell_type": "markdown",
      "source": [
        "Para empezar, mostramos una serie de funciones para cargar el documento en formato CSV y extraer de él los datos que nos interesan: \n"
      ],
      "metadata": {
        "id": "b_dF6SAvJJJR"
      }
    },
    {
      "cell_type": "code",
      "source": [
        "#En primer lugar, debemos conectarnos con Google Drive, donde tenemos almacenados los datos.\n",
        "#Será necesario identificarse. \n",
        "from google.colab import drive\n",
        "drive.mount('/content/drive')"
      ],
      "metadata": {
        "colab": {
          "base_uri": "https://localhost:8080/"
        },
        "id": "OBJ_NIFkBi4P",
        "outputId": "e401b459-fd6c-46a4-fb98-b2457435d259"
      },
      "execution_count": null,
      "outputs": [
        {
          "output_type": "stream",
          "name": "stdout",
          "text": [
            "Mounted at /content/drive\n"
          ]
        }
      ]
    },
    {
      "cell_type": "code",
      "source": [
        " #Función que, dada una ruta a un archivo con formato CSV (path), devuelve una lista de diccionarios con los datos en dicho archivo.\n",
        " \n",
        "def loadCSV(path):\n",
        "  with open(path, newline='') as csvfile:\n",
        "    myReader = csv.DictReader(csvfile, delimiter=',')\n",
        "    entries = []\n",
        "    for row in myReader:\n",
        "      entries.append(dict(row))\n",
        "  return entries"
      ],
      "metadata": {
        "id": "_pemIm2PJI0N"
      },
      "execution_count": null,
      "outputs": []
    },
    {
      "cell_type": "code",
      "source": [
        "\n",
        "#Función auxiliar que, dada una lista de diccionarios y una cadena con el nombre de la entrada que buscamos, devuelve una lista con todos los valores asociados a dicha entrada.\n",
        "\n",
        "def getAll(dictList, entryName):\n",
        "  listRes = []\n",
        "  for dictionary in dictList:\n",
        "    msg = dictionary[entryName]\n",
        "    listRes.append(msg)\n",
        "  return listRes"
      ],
      "metadata": {
        "id": "2eFgtTWpJlK8"
      },
      "execution_count": null,
      "outputs": []
    },
    {
      "cell_type": "code",
      "source": [
        "\n",
        "#Función que, dada una lista de diccionarios, devuelve una lista de todos los mensajes (entrada 'Comment' del diccionario)\n",
        "\n",
        "def getAllMsgs(dictList):\n",
        "  listRes = getAll(dictList,\"Comment\")\n",
        "  return listRes"
      ],
      "metadata": {
        "id": "MYal1O6KJ0UW"
      },
      "execution_count": null,
      "outputs": []
    },
    {
      "cell_type": "code",
      "source": [
        "#Función que, dada una lista de string, te devuelve un string con todos los elementos de la lista concatenados.\n",
        "def concat(listString):\n",
        "  strRes = \"\"\n",
        "  for msg in listString:\n",
        "    strRes = strRes + msg\n",
        "  return strRes"
      ],
      "metadata": {
        "id": "mw3C1igHJ9j2"
      },
      "execution_count": null,
      "outputs": []
    },
    {
      "cell_type": "markdown",
      "source": [
        "Creación de una lista con los datos obtenidos y que vamos a analizar:"
      ],
      "metadata": {
        "id": "FmbZnWuAByqb"
      }
    },
    {
      "cell_type": "code",
      "source": [
        "#Extracción de comentarios del primer archivo: \n",
        "listDicts = loadCSV(\"/content/drive/MyDrive/TFM/publico.csv\")\n",
        "comentarios1 = getAllMsgs(listDicts)\n"
      ],
      "metadata": {
        "id": "paMygPTlB18V"
      },
      "execution_count": null,
      "outputs": []
    },
    {
      "cell_type": "code",
      "source": [
        "#Extracción de comentarios del segundo archivo: \n",
        "listDicts = loadCSV(\"/content/drive/MyDrive/TFM/confidencial_csv.csv\")\n",
        "comentarios2= getAllMsgs(listDicts)"
      ],
      "metadata": {
        "id": "6yhNdZQcCJ88"
      },
      "execution_count": null,
      "outputs": []
    },
    {
      "cell_type": "code",
      "source": [
        "#Agrupación de los comentarios en una única lista: \n",
        "listagrande= (comentarios1)+(comentarios2)\n",
        "listagrande"
      ],
      "metadata": {
        "colab": {
          "base_uri": "https://localhost:8080/"
        },
        "id": "SU3BiwqyCPnn",
        "outputId": "3de1104c-8b1f-4ddd-f052-4cbdb0782288"
      },
      "execution_count": null,
      "outputs": [
        {
          "output_type": "execute_result",
          "data": {
            "text/plain": [
              "['El PP se supera cada vez más en impunidad y corrupción.',\n",
              " 'Que fuerte, ..no pueden estar más podridos!...la que están liando los cachorros de la Paca',\n",
              " 'Y SIGUEN LLENANDO LOS BOLSILLOS ,,,UN PARTIDO LLENO DE CORRUPTOS MAFIOSOS Y MANIPULADORES',\n",
              " 'ahora saldra marhuenda diciendi que todo ha sido un montaje de podemos venezuelA y maduro con la intervencion de eta bildu y los independentistas  catalanes\\r[PHOTO] https://scontent.fidr4-1.fna.fbcdn.net/v/t39.1997-6/10333122_298592793654253_1393149385_n.png?_nc_cat=1&ccb=1-7&_nc_sid=ac3552&_nc_ohc=fHFtlwCAey4AX8u6x9C&_nc_ht=scontent.fidr4-1.fna&oh=00_AT-5oxdjGsSd2iJuMpj_UWfdQKcVdmqOeldZv1ATpisFTQ&oe=62DEB09B',\n",
              " 'Nada , la oposición lo llevará a Fiscalía y ...... se acabó el caso Ayuso !!',\n",
              " 'Hace días lo comenté, que entre corructos y ladrones no se muerden, y si lo que pone es cierto, pues estaba claro',\n",
              " 'Alguien se la ha tenido que enviar,pero se la guarda para la próxima...así son ellos.',\n",
              " 'No tiene la mínima dignidad ni vergüenza',\n",
              " 'Qué fuerte, pero qué esperábamos? Somos unos inocentes.',\n",
              " 'Que poca vergüenza tienen..',\n",
              " 'Casado recoge cable, le ha salido mal la jugada como casi todo lo que hace, pero como esta gente roba sin consecuencias, pues aquí no ha pasado nada, señores.',\n",
              " 'Ahora vendrán y nos dirán que todo era una broma 🤣 y sus votantes lo celebrarán, que bromistas són esta panda de CORRUPTOS!!!',\n",
              " 'Casado es una marioneta en manos de Ayuso y el PP la vergüenza de España',\n",
              " '¿Qué información tendría Ayuso sobre Pablo Casado? La Mafia siempre sabe lo que otros desconocen. Esperemos que las denuncias de otros partidos lleguen a algún sitio, algo difícil teniendo en cuenta la justicia \"independiente\" de este país.',\n",
              " 'Todo esto es una chapuza ,por parte de unos y de otros ....tienen tanta mierda que les salpicara a todos .Menuda corropcion tienen organizada',\n",
              " 'No tenéis vergüenza ninguno, espero que la justicia actúe como es debido',\n",
              " 'O sea, que ha ganado Ayuso. Que se prepare el Fracasado, que no llega a las próximas elecciones generales.',\n",
              " 'Aquí se tapan las vergüenzas unos a otro y no pasa nada,y luego les votan otra vez ,  si nos pasa poco para el pueblo tan analfabeto.',\n",
              " 'Que no pasa nada. Si todo queda en familia... La mitad pa cada uno y tan contentos..... EL. PP.. UN PARTIDO EXTRUTURADO PARA DELINQUIR.  Y NO HAY MAS.. según una sentencia de juezes... Esta más que demostrado.  Que son delincuentes.',\n",
              " 'Poca vergüenza. Una pena de partidosssss.....',\n",
              " 'Entre ellos se pueden poner de acuerdo para dar por válidas las explicaciones pero la justicia tiene que seguir su curso porque se trata del dinero de todos los ciudadanos.',\n",
              " 'Ahora falta la dimisión de Casado y Teodoro... Y si lo cierran con tanta facilidad es porque también saben que ni la fiscalía no la justicia encontrarán nada....',\n",
              " 'Madre,mía que escándalo,y siguen tragando,este país es de pandereta',\n",
              " 'Como para soltar esta gente al poder judicial jaaa,así todo queda en casa y seguimos robando esto es peor que la mafia siciliana',\n",
              " 'Es que era muy evidente y ahora hay que decir que fue un error, lo único que han conseguido ellos sólitos dimisiones de cargos, que eso es lo mas raro en este grupo político.',\n",
              " 'Ahora que no lo aclaren a los demás que somos a los que presuntamente ha engañado/robado.',\n",
              " 'La ciudadanía que les vota es la que debe meditar lo sucedido sin olvidar el apartamento de lujo donde estuvo resguardada su presidenta, las vacunas que desaparecieron y sobre todo, las personas fallecidas en las residencias…todo esto en el principio de una pandemia.',\n",
              " 'Valiente partida de corruptos y caricatos.',\n",
              " 'Menudo teatro de intereses, lo que hay es mieditis a que los echen a todos!! De esta no se si se salvarán!!',\n",
              " '\"Poco importa ya si su hermano cobró mordida, igual que poco importó su gestión de las residencias. Qué puede importarle eso a ella, que se alquiló dos pisos de lujo para confinarse y se convirtió en Dolorosa para politizar el dolor\".',\n",
              " 'JajajjajaajJajQue ascoooooooY no se puede actuar de oficio, se van a ir de rositas...Y su electorado confía en esta gente .....??Se cargan el país y aquí no pasa nada ???De verdad que ésto se queda así .... Por favor!!!!!!',\n",
              " 'Lo terrible es que mientras más corruptos son, más les votan…Esta señora debería dimitir y la UCO debería intervenir en la CAM',\n",
              " 'venga vayan tapando!!! alguién ya ha cobrado y se cierre!!! Nada más q decir....país de pandereta como siempre...es increíble!!! Cuanta m.... debajo de la alfombra de todos los estamentos ...',\n",
              " 'Lo de siempre, a taparlo todo, la basura de Génova se queda en Génova. Gente sin principios, y muy mafiosos y corruptos no pueden gobernar un país.',\n",
              " 'Cuanta pantomima, sois iguales unos que otros, nos importa más que el poder, Que se sepa la verdad de lo que habéis hecho,.Que es lo que queremos saber los ciudadanos, porque el dinero público es de todos.,',\n",
              " 'A fraCasado no le quedó otra.Gano la señora I.D.A. Ahora esperamos a que la fiscalía actúe después que la oposición madrileña lo pidiera ...',\n",
              " 'Se enriquecen ellos y no pasa nada, lo hace el de enfrente y poco menos comienza la segunda guerra civil 🤦🤦',\n",
              " 'Vaya justicia que tenemos, un fiscal imputa a Iglesias por una tarjeta de un móvil y ante este caso de corrupción, no pasa nada.',\n",
              " 'Qué personajes tan inmaduros, actúan como niños de pandilla, ahora me enfado, ahora me contento. Estos dos follarian cuando militaban en Nuevas Generaciones del PP?.',\n",
              " 'Pero que sinvergüenzas,  casado se ha acojonao y la otra parienta una asalta trenes, y ¿estos son los que quieren gobernar nuestro pais?, bueno es logico piensan que estan e un pais de gilipollas y asi nos va',\n",
              " 'Son todos patéticos y corruptos. Esto en cualquier país europeo sería intolerable pero aquí ya sabemos....esto es España, lo mediocre,la picaresca y la mediocridad rayando lo ridículo tiene premio y se traga con unas tragaderas enormes. Si se traga lo de una monarquía corrupta que no se va a tragar.',\n",
              " 'El PP ya se parece más bien al camarote de los hermanos  marx',\n",
              " 'Son todos iguales. Vaya panda de delincuentes chorizos. Roban nuestro dinero y todo es normal para estos sinvergüenzas. Veamos qué hace la fiscalía',\n",
              " 'Jajaja, cuánta mierda tienen unos contra otros que no se atreven a hacerse pupita. Lo que ayer podía ser legal pero no ejemplar, hoy es válido.',\n",
              " 'No doy crédito, qué vergüenza 🙈. Roban, engañan y no les va a pasar absolutamente nada. Ni se sonrojan ni dimiten porque los jueces son sus cómplices, ¿dónde está la fiscalía para investigar todo lo que se roba de las arcas públicas?',\n",
              " 'Pero que esperabais , entre ellos no se morderánn . Son igual de ladrones',\n",
              " 'COMO SE PUEDE TENER TAN POCA VERGÜENZA',\n",
              " 'Qué turbio es el PP, montan esta historia, la hacen pública, y en 2 días se desentraña todo como si tal cosa. Pero da igual, es una más, les seguirán votando como si nada. Pelillos a la mar que se dice...',\n",
              " 'Qué gentuza sois 🤦\\u200d♀️🤦\\u200d♀️🤦\\u200d♀️🤦\\u200d♀️',\n",
              " 'Los contratos en los que participó el hermano, no directamente, que salgan a la luz, que los publiquen la Razón, el Mundo y A3 media, que son más del PP, que M.Rajoy',\n",
              " 'Que poco te queda Pablo que vergüenza por la mañana en la radio parecía corrupta y por la tarde todo se cierra esto lo tiene que investigar la justicia',\n",
              " 'Que vergüenza con este teatrillo que se han montado se creen que nos lo creemos.!!',\n",
              " 'Menuda vergonzosa y PP es cada vez más corrupto y muchas ladrones y cómo ex Cifuentes y Esperanza Aguirre y Ana botella no fue buena es la presidenta de comunidad y es una lavada imagen y pasa las manos y sólo quiere ser sillón.',\n",
              " 'Que les den a ambos, más tontos son los que les votan, porque se pelean pero al final se dan besos y olvidado, mientras que los partidarios de una y otro se quedan con la rabieta, ojo y esto no es exclusivo del PP, afecta a todos todos',\n",
              " 'Este partido no debía de existir menudos ladrones',\n",
              " 'El que quiera demostrar algo contra Ayuso que acuda a la fiscalía.la izquierda también tiene casos   que han dado que hablar: Colau también está siendo investigada por dar subvenciones a asociaciones afines.Hace tiempo la Presidente de Navarra , le dio unas subvenciones a su hermano y dijo que era legalAquí está demostrando la izquierda el doble rasero de siempre.,',\n",
              " 'Se han retratado!! Espero que las denuncias que han presentado ante la fiscalia no se queden en papel mojado. Ingenua que es una!',\n",
              " 'Este es un cadáver políticamente se a cavado su propia tumba y gracias a sus medios de información que se han quedado como el que se traga la extrevez hay mi Carlos herrera tan campechano y tan tan tan y no suena las canpanas repicando\\r[PHOTO] https://external.fidr4-1.fna.fbcdn.net/emg1/v/t13/12275013412078267281?url=https%3A%2F%2Fmedia3.giphy.com%2Fmedia%2F3oEjHAUOqG3lSS0f1C%2Fgiphy.gif%3Fcid%3Dcafe52e9saswfbuhehbwsrhs2cb7c4mw6jbg02fcl49zy2fl%26rid%3Dgiphy.gif&fb_obo=1&utld=giphy.com&stp=dst-emg0_q75_s396x297&ccb=13-1&oh=00_AT_Q7VLAAoIF6f_qiwUCbidD2lS-UXVMor-iHayRnpOikw&oe=62DAF2CC&_nc_sid=c504da',\n",
              " 'Qué panda de chorizos sinvergüenzas',\n",
              " 'Todo esto es vergonzoso',\n",
              " 'Se tapan unos a otros todos unos ladrones sin verguenza ni moral acojonante 😡',\n",
              " 'Esto es una vergüenza después de las graves acusaciones mutuas y ahora el sr Casado retira el expediente abierto hace nada, esto no hay por donde cogerlo, a qui hay mucha tela que cortar, nos toman por tontos unos y otros',\n",
              " 'Qué sabrá Ayuso de Casado para llegar tan pronto a esto.',\n",
              " 'Cómo es posible que esta gente del PP se ría así de la gente y no les pase factura, pero acaso es cierto que los españoles estamos gilipollas?',\n",
              " 'Qué  vergüenza!',\n",
              " 'Lo he cerrado porque el procedimiento cumple con todas las tradiciones y  normas de la casa, comisiones, sobre costos , abuso de funciones, nepotismo, espionaje, etc',\n",
              " 'De vez de dimití ,aquí no ha pasado,tan amigos como siempre.Y los ciudadanos qué ? Y el dinero público,?',\n",
              " 'Que vergüenza pp',\n",
              " 'y donde esta ese gobierno tan democrata que esta rodeado de corrupción que mas tiene que pasar para que actue o va a permitir que en el parlamento se sienten ladrones sin recibir castigo que tenemos en este pais un parlamento o nido de ladrones no me extraña que cada dia los votantes de izquierdas estemos mas desencantados',\n",
              " 'Esto demuestra que la mierda no es solo de una  que hay mierda para todos , seguro que la otra parte les a presentado más basura, están todos hasta el cuello.',\n",
              " 'Alguien pensaba que entre corruptos quedaba un poco de decencia? Si de verdad  lo habían pensado son demasiado ingenuos o no conocen en el país que viven sigue siendo un país de charanga y pandereta',\n",
              " 'Esto es una falta de respeto a todos los que les votamos y un gran circo juegan con nuestro dinero público y la credibilidad hacia ellos tanta culpa tiene la ayuso cómo casado,  ella lo dijo públicamente que le dio ése contrato a su hermano y ganó comisión por ésas ventas cosa que  es ilegal con dinero público no se puede pagar comisiones a nadie, y menos favoreciendo a un familiar con miles de Euros Han cerrado muchas empresas,  muchas personas en la calle sin dinero 💰 😡 si ella cometió ese error pues lo siento pero tiene culpas y pagar',\n",
              " '\"Ninguna cantidad de evidencias logrará convencer a un idiota\" Mark Twain Da igual que roben, malversen, se corrompan, les quiten los derechos más elementales como la sanidad, la dependencia, la cultura, etc etc., da igual que se repartan los negocios entre familiares y amigos, lxs idiotas seguirán votando a sus verdugos. Esto España...no dan para mucho más',\n",
              " 'A Casado le importa tres cojones, las comisiones del hermano,  si la sombra política de Ayuso, por lo que quería quitársela del medio Isabel quiere morir matando, cuando se han dado cuenta que esto acababa con los dos, quieren dar marcha atrás, pero me temo que es tarde, deben buscar un nuevo líder, tipo Feijo, si no el PP, perderá la poca credibilidad que le quedaba.Que torpes han sido, madre mía!!!.',\n",
              " 'Muy fácil, las explicaciones han sido: como sigáis metiendo mierda sobre mí (bien metida por cierto) saco todos los trapos sucios de Génova de estos años y en Génova han dicho, te queremos Ayuso, ha sido todo una broma. Y así solucionan los problemas en ese partido corrupto.',\n",
              " 'Lo poco que les ha costado ponerse de acuerdo . Màfia y corrupción pura !!! Quando se tracta del PP o el PSOE , todo tiene una solucion ràpida y sin consecuencias. . !! Venga todos a votar para mantenerlos en sus poltrones!!!',\n",
              " 'Han sido, son y seguiran siendo unos CORRUPTOS y no podemos esperar que cambien hemos de pedir JUSTICIA transparente aunque tambien es dificil...',\n",
              " 'La corrupción del PP no tiene límites y ellos no tienen ningún pudor en exponerla continuamente. Libre es la gente de creer a esta panda de ineptos que se ríen de España continuamente y para muestra este circo que han montado',\n",
              " 'Que vergüenza',\n",
              " 'Auténticos mafiosos Ladrones y seguirán haciendo lo mismo porque tienen votantes que no les parece mal. EN ESPAÑA NO HAY DEMOCRACIA',\n",
              " 'Menuda banda de corruptos',\n",
              " 'Los amos los han llamado al orden a los aprendices de la mafiaNo vallan a joder el tinglado del estado corrupto,que sustenta el poder economico de las elites(los verdaderos gobernantes de esta,seudodemocracia)',\n",
              " 'Esto es lo que es una cuadrilla de ........ Y ahora carpetazo y no ha pasado nada ,  no se lo creen ni ellos',\n",
              " '. No entiendo como se puede votar a un partido tan corrupto, hoy dicen una cosa y mañana la contraria, son miserables, mentirosos y muy fascistas, lamentable',\n",
              " 'Solo quiero recordarle al Sr. Marhuenda que, el \"lio\" lo tienen tres personas del PP, que son Casado, Ayuso y Teodoro. No acabo de comprender porque Vd. ha empezado criticando al PSOE, que se sepa no han \"pinchado\" ni \"cortado\" nada en este tema, incluso ha metido en el tema al propio Aznar, eso suele pasar cuando se carece de argumentos. Cuesta muy poco ser sincero \"amigo\" Para combatir lo amargo hay unos bombones muy ricos.',\n",
              " 'Que vergüenza, a ellos les vale, y a sus votantes, también les vale que no les den una explicación sin mentiras? Es lo que merece este país? Que tremendo!!!!!',\n",
              " 'Vaya panda de mafiosos,ya han hecho sus arreglos, y sus votantes tan contentos. Que pais, de charanga y pandereta que decia Machado.',\n",
              " 'Y como se permite que todavía sigan apalancados en GÉNOVA,  son unos mafiosos, roban y engañan y la gente les vota, y no responden por la muerte de tanta gente abandonados en las Residencias,! Es qué en este país no pasa nada, todo da igual y nadie paga!!!!!!! Vergonzoso.',\n",
              " 'Credibilidad 0. Y este señor aspira a gobernar España, q Dios nos pille confesados!!!',\n",
              " 'Pero que sinverguenzas!  ademas de ladrones, mentirosos, y cobardes, .... que publiquen la documentación aportada por la corrupta Ayuso, y veamos hasta dónde llega el montaje, y la manipulacion....',\n",
              " 'Los políticos de este partido no son los culpables el problema lo tienen los descerebrados que los siguen votando prefieren que les roben , que les privaticen la sanidad pública,  que les paguen sueldos de miseria , que les quiten derechos sociales , que les den contratos basura como empleos , que les quiten derechos en las pensiones,  que los tengan trabajando si es posible hasta que toque morirse . En fin quien los entiende solo ellos trabajan escarbando sus propias tumbas arrastrando al resto del pueblo',\n",
              " 'Sólo en Spañistán puede ocurrir que aparezcan evidencias de corrupción flagrantes en cargos públicos y la \"justicia\" no sólo no actúe sino que se tapa oídos y ojos. Qué vergüenza',\n",
              " 'Vaya banda de mafiosos y como tienen el tribunal supremo a su servicio, lo mas probable que tapen toda la mierda que pueda salir',\n",
              " 'Entre todos tapan la corrupcion de este partido incluso los juecesTodos son iguales y de la misma calaña',\n",
              " 'Corrupción corrupción corrupción y más corrupción!!!! Pero bueno los votantes igual se piensan que les caerá un contrato a dedo y su correspondientes comisiones o algo así!!!! No hay nada más ignorante que un pobre votando a la derecha!!!',\n",
              " 'Esto es un descojono monumental de estas personas que quieren controlar a la ciudadanía.......vergonzoso y lamentable el estado español',\n",
              " 'Votad malditos, votad a esta panda de ladrones. Lo peor es que lo padecemos todos.',\n",
              " 'Esto es una vergüenza a otros los condenan por manifestarse y a estos qué. todo se lo tapan, luego la justicia igual para todos.',\n",
              " 'Corrupción, corrupción y más corrupción este es el sistema de esta gente',\n",
              " 'Casado, esta fracasado!!Se q esto q digo, ya lo dijo alguien!!\\r[PHOTO] https://external.fkno6-1.fna.fbcdn.net/emg1/v/t13/11860828768112830299?url=https%3A%2F%2Fmedia4.giphy.com%2Fmedia%2F9A7X5FWQjneoHWggTx%2Fgiphy.gif%3Fkid%3Dbe302117%26ct%3Ds&fb_obo=1&utld=giphy.com&stp=dst-jpg_flffffff_q75_s396x396&ccb=13-1&oh=00_AT-08RSdLohza-51mrpYEdiw1ffzRN2jYHonHmqeL2suxA&oe=62F2A46C&_nc_sid=1229ba',\n",
              " 'Una Señora que permite( si no es que incluso lo propicia) que su hermano gane nada menos que 55.000 euros ( debe ser que fabricó él las mascarillas) y todavía se le sigue defendiendo.Menuda desvergüenza.',\n",
              " 'Ese tanto por ciento que la votaria es como la justicia  con lo hojos vendados  y claro sobre todo con el PP, que de cien se castigan tres',\n",
              " 'Fracasado ha perdido el combate,  entre corruPPtos anda el juego.',\n",
              " 'La gente la quiere (porque vale)… y al que le va pasar factura  es a Casado ( que ganas de hacerse daño el mismo )….',\n",
              " 'una de dos, O la gente tiene una filia con que la roben o  Ayuso paga a muchos medios de comunicación',\n",
              " 'Casado vete ya!!!!!!!',\n",
              " 'Yo si !',\n",
              " 'Y quíen ha hecho la encuesta?. Y cómo saben quién han votado al PP?',\n",
              " 'A los votantes del pp cuanto más roban más le gusta el candidat@.Y está mujer debería de estar en la cárcel por lo que hizo con nuestros mayores.... Pero claro estamos en España.',\n",
              " 'Ayuso, ni un paso atrás a por todas el final tendrás la recompensa',\n",
              " 'Noooo es pesima presidentra tiene mucha cara dura y muchas muerte asu espalda',\n",
              " 'Y vosotros no tomais partido, claro.Cinismo',\n",
              " 'Aqui hay por un lado mafia y por el otro corrupcion, ninguno de los 2 merece defensa alguna, y los que tienen detras de ellos menos aun.Es alarmante el nivel de tolerancia que tenemos en este pais con nuestros politicos. Increible',\n",
              " 'El señor  Fra  casado esta Ayu    sustado',\n",
              " '\\r[PHOTO] https://scontent.fkno6-1.fna.fbcdn.net/v/t39.1997-6/47614232_1846683475430536_3135922765756891136_n.png?_nc_cat=1&ccb=1-7&_nc_sid=ac3552&_nc_ohc=vqE0mR26S8UAX8cxMf3&_nc_ht=scontent.fkno6-1.fna&oh=00_AT9v9YWzgsEcx9qnle6Jh74x17AEXYa8XIUO-dLjdgEAEA&oe=62F6D7E3',\n",
              " 'Temos que dar las gracias A esperanza A guiaré de lo qué está pasando...',\n",
              " 'Ruina',\n",
              " 'Yo con Ayuso',\n",
              " 'Y entre los del PSOE. Así se las ponían al felón (¡Uy, redundante!).',\n",
              " 'La reina maquiavélica ha hecho una jugada magistral. Te van a fagocitar Abascal, ahora los fachas tendréis que volver a casa con mamà...(la Reina Roja del cuento de Alicia os llaaamaaaa....😈)',\n",
              " 'Pero que piensan los PePeros, que Madrid es España, que prueben, valla imagen para el mundo, si esa Srta. es presidenta de España. Con el apoyo de VOX y el gabinete de asesores \"en la sombra\"',\n",
              " 'El partido podrido dirigido por corrupto mafiosos...',\n",
              " 'Por favor, lo que nos hacía falta, Ayuso presidenta, puede hacer buenos a los corruptos de los distintos partidos!!',\n",
              " 'Si no se va casado,votaré a Vox',\n",
              " 'Ninguno de los dos son ningún ejemplo, DIMISIÓN YA!',\n",
              " 'Si fueras listo, FrAcasado la cesabas y asi parabas su ascenso, y si tan triunfante se ve q monte otro partido, ahora has tragado, estás perdido y acorralado por la corrupción, tus tribunales se lo apañaran y saldrá Triunfante',\n",
              " 'Ayuso seria mejor presidenta del PP que casado y porque  no ganar las elecciones generales ..',\n",
              " 'Que no pasa nada que el \"estudiao\"se meterá el rabo entre las piernas y marcha atrás!!',\n",
              " 'Sabiendo que El Confidencial es uno de los medios que tienen contratos de publicidad con Sol, como para fiarse que sea cierto',\n",
              " '¡  Vaya  Circo  ! Que han montado éstos dos palurdos.',\n",
              " 'Isabel Ayuso tenía que formal un partido político, y presentarse para las elecciones  generales de precidenta, y seguro que ganaría porque vale mucho ojalá lo iciera ...',\n",
              " 'Lo que demostraría que la CORRUPCIÓN queda en un segundo plano..!! 💰💸💰💸💰💰🤦\\u200d♂️🤦\\u200d♂️🤦\\u200d♂️',\n",
              " 'Casado, te están moviendo el asiento y son los tuyos',\n",
              " 'Presidenta,  que falta hace  que entre una mujer para gobernar...ya está bien de tanto hombre....',\n",
              " 'Casado te quedan tres telediarios',\n",
              " 'Farsantes',\n",
              " 'Ufffffff... .para mear y no soltar ni gota ...?? Increíble..Ayuso de presi y fracasado de de vice ....jaja hacéroslo  mirar por favor..?? Salud y republica',\n",
              " 'Tiene cojones que un 30% se decante por Casado',\n",
              " 'Eres la mejor Ayuso',\n",
              " 'Y su hermano de vicepresidente,,,',\n",
              " 'Semos espanoles \\U0001f978🤣así vamos',\n",
              " 'Los que votáis al PP, esos españoles de bien que tanto amáis a España,  sois incapaces de ver y entender que líderes como Casado, que se abrazan a lo que sea con tal de sacar algún beneficio partidista o particular, es quien realmente rompe España. Y acordáos. Ayuso es peor que él. Descaradamente abraza a Vox. Hoy día, el PP está tan radicalizado y podrido, que sólo puede optar a controlar la cola para ir al WC.',\n",
              " 'Debería quitarse de en media a Pablo Casado que es un mediocre irresponsable que para ser alguien busca la forma de excluir a los demás.',\n",
              " 'Es increíble cómo la gente vota , corrupción!!!',\n",
              " 'Aún asi ella es corrupta , hace tiempo que lo saben ,pero Casado no ha estado ni esta a la altura de su partido , todos a la calle y renovación,!',\n",
              " 'O ambas dos',\n",
              " 'Veamos como puede ser?',\n",
              " 'Arrasa con VOX,esta señora es mas de extrema derecha que Abascal,y no la quieren dejar caer los de su clase los millonarios de Madrid ,porqie los proteg',\n",
              " 'si fueran honestos deberian dar un paso al costado los dos y dejar esto en manos de la justicia',\n",
              " '\\r[PHOTO] https://scontent.fopo2-2.fna.fbcdn.net/v/t39.1997-6/83640226_953860661742958_8297483048391664602_n.png?_nc_cat=1&ccb=1-7&_nc_sid=ac3552&_nc_ohc=5NAMAXhii9AAX_ltk7-&_nc_ht=scontent.fopo2-2.fna&oh=00_AT-wB4RWTJwTT8OcbWKiut0jJ0nUmPz7P0AizWH4YeZIIg&oe=62F609B7',\n",
              " 'Ayuso eres mi referente,  he intentado imitarte pero no soy de tu nivel, un saludo desde prisión.Ya tienes mi voto, PRESIDENTA PRESIDENTA,',\n",
              " '😘😘Como hoy solamente se hablará en los medios el asunto del PP, os recuerdo que:* Ha sido imputada Ada Colau por corrupción* Investigan al marido de la directora general de la guardia civil por corrupción* Va a ser interrogada la presidente socialista balear Francina Armengol por una comisión de la Unión Europea sobre el escándalo de las menores tuteladas prostituidas en Mallorca* José Luis Ábalos adjudicó a una empresa que facturaba CERO euros la friolera de 53 millones de euros* El marido de Calviño gestiona los fondos europeos de los que su mujer es en parte responsable al adjudicarlos* Sanidad adjudica a una firma sin empleados un contrato de 4,2 millones: el proveedor de material para combatir el coronavirus es una asesoría laboral de Málaga con pérdidas* El Gobierno compra material por 263 millones a una empresaria condenada por estafa* La empresa ‘fantasma’ a la que Illa compra hisopos para el Covid-19 está en Suiza y se dedica a la moda infantil* Illa adjudica 30,3 millones de euros \"a dedo\" a tres empresas de Barcelona para vacunas contra la gripe* El Ministerio de Sanidad adjudica contratos en el BOE a empresas que no tienen ni direcciónPodrían ser muuuuchos más que han pasado sin pena ni gloria por los medios de comunicación...Si la fiscalía toma cartas en el asunto y abre diligencias contra Ayuso quedará de manifiesto que esta operación está hecha en comandita por la dirección del Partido Popular y del partido socialista. Porque como decía Pedro Sánchez: \"¿de quien depende la fiscalía?\"...',\n",
              " 'Mileuristas y parados votando a Ayuso porque creen que los va a ayudar, esto es España',\n",
              " 'Pero ...¿cómo puede posicionarse nadie a favor de uno o de otro, sin que la Fiscalía lo haya investigado?  Es que  algunos  votantes solo piensan con las tripas ? Pruebas , pruebas y mas pruebas  A ver si por dejar que dominen los impulsos , van a votar a otra corrupta mas...Hay que esperar y respetar a priori la presunción de inocencia.Juzgan los jueces ...',\n",
              " '\\r[PHOTO] https://external.fopo2-2.fna.fbcdn.net/emg1/v/t13/12780973091309689901?url=https%3A%2F%2Fmedia1.giphy.com%2Fmedia%2F2Dcu57rxk71Ze%2Fgiphy.gif%3Fcid%3D120c0147oo3u8xxtj7ct7emvfzy82k6xau5zfn57ffgqkmes%26rid%3Dgiphy.gif%26ct%3Dg&fb_obo=1&utld=giphy.com&stp=dst-emg0_q75_s396x396&ccb=13-1&oh=00_AT-Q3SgL9j6FO2OQ_gUHZECX8z8XOSSrkm7qNa8CCVrYpQ&oe=62F2A24B&_nc_sid=c504da',\n",
              " 'Es lógico que arrase entre tantos tontos  y seguro que la culpa es de la mierda de sociocomunista dirán cuarenta años condenando tontos y más cosas estuvo Paco y cía y dejó a estos y alos otros como sus reliquias políticas que no hay ninguno bueno de ningún partido manda huevos los politiquillos',\n",
              " 'Ahora todos a defender a los corruptos, sí la Ayuso se aprovechó de la pandemia,me parece vergonzoso, que salga todo a la luz,el Casado y el tira huesos de aceitunas,todos a la calle que no se metan más en la política que se vayan a trabajar al campo',\n",
              " 'Yo también la votaría, es lo mejor que ha tenido el PP desde hace décadas.',\n",
              " 'Fuera ya el pan sin sal de Casado!!!',\n",
              " 'o sea,  a los votantes les trae sin cuidado la corrupción de este partido, sea la Gürtel, Kitchen, Leso, Tandem y un largo etc. añadiendo ahora las adjudicaciones al hermano y madre de está señora????',\n",
              " 'Yo tambien le doy mi voto a esta Gran Mujer.',\n",
              " 'Casado debes dimitir, perdiste las primarias ante los afiliados, las gano Santamaria y ahora por culpa de tus miedos y de Garcia Egea has perdido toda posibilidad de llegar a la Moncloa. ¿ Entonces para que sirves? Para nada, un partido de gobierno no puede permitirse un presidente sin posibilidades de gobernar, lo unicamente digno que te queda por hacer es dimitir o dinamitar el partido, esta herida no se cierra dando ahora la razon a Ayuso.Primer paso, cesar a Garcia EgeaSegundo paso, dimitirTercer paso, primarias y que voten solo los afiliados.',\n",
              " 'JA ja vaya inteligentes que sois me muero de risa.',\n",
              " 'Lógico, reúne requisitos para dirigir a una organización para delinquir.',\n",
              " 'A Casado le ha salido el tiro por la culata.',\n",
              " 'AYUSO PRESIDENTA 💪💪💙💙',\n",
              " 'Y además de todo esto, está señora no es de la agenda 2030, ni está en el nuevo orden mundial',\n",
              " 'Este gran conflicto nacio por una carta de nadie sabe donde que sabia muy bien que se iba a liar. Y estos del pp han liado aun mas todo. Lo primero se sale a pedir perdn si hay que pedirlo y si no se denuncia y no hacer el ridiculo entre ellos diciendo tu has dicho y yo no he dicho. Los votantes si seguis asi se cansaran',\n",
              " 'Casado y Egea DIMISION ya!!',\n",
              " 'Gerra. Por el poder.',\n",
              " 'Esto es pa decir con estos titulares de la prensa,  a tomar  por culo.',\n",
              " 'CUANTO CORRUPPTO HAY ENTRE LOS CORRUPPTOS',\n",
              " 'Esta mujer vale mucho más que los pusilánimes masculinos del partido',\n",
              " 'Son tal para cual',\n",
              " 'Esta visto que contra más roban , más borregos les votan',\n",
              " 'Beatriz Abellán pues que Dios os coja confesaos ,si esa tipa os dirige ,entonces series como vox ,fascistas y franquistas , aunque esto último ya lo sois',\n",
              " 'Normal,se identifican con los mafiosos,y si sacan más comisiones,mucho más volorados\\r[PHOTO] https://scontent.fopo2-2.fna.fbcdn.net/v/t39.1997-6/10333122_298592793654253_1393149385_n.png?_nc_cat=1&ccb=1-7&_nc_sid=ac3552&_nc_ohc=uFfCjZbVjYsAX9gsBQf&_nc_ht=scontent.fopo2-2.fna&oh=00_AT9WArDtaXfiiOtaD3un-XLYgHQBC4PfAkGni4_npjbvtw&oe=62F66B9B',\n",
              " 'Pues buena timadora No pierde el tiempo .no ahí más ciego que el que no quiere ver',\n",
              " '\\r[PHOTO] https://external.fopo2-2.fna.fbcdn.net/emg1/v/t13/8917808435971831622?url=https%3A%2F%2Fmedia1.tenor.co%2Fimages%2F657d23aaf77900920b95e63763619637%2Ftenor.gif%3Fitemid%3D18088659&fb_obo=1&utld=tenor.co&stp=dst-emg0_q75_s396x396&ccb=13-1&oh=00_AT-DK41OY_0Oe7BgmIJpDGBAQx5ung49R9oznBF2kzJVoQ&oe=62F2BE59&_nc_sid=c504da',\n",
              " 'Bueno tienen muy mala memoria, cuando quieren, y el dinero que se gasto el ministro Ylla en plena pandemia que compro material a un chino y ni aparecio el material ni existia el chino y el dinero se esfumó.Por lo menos este trajo el material .Que malos somos cuándo hay que mirar para atrás.😉',\n",
              " 'En la derecha todo vale con tal de ganar unas elecciones.',\n",
              " 'Esta mujer k se cre',\n",
              " 'Ayuso presidenta  🇪🇦',\n",
              " 'Querían hacerle como a la Cifuentes,Cayetana de Toledo,Aguirre,en fin las mujeres no pueden ser mejores q ellos,Ayuso le hace Sombra 💪 mujeres al poder y eso los varones del PP no puede permitirlo? dónde mandaron al la Santa María? Ayuso vale mucho y está manteniendo los votos en la comunidad de Madrid y cercanía! Bravo x Ayuso 💪👍👌',\n",
              " 'Que  poca cultura tiene esta gente del PP no distinguen entre Ética moral 🤮🤮🤮🤮',\n",
              " 'Si es que de donde no hay no se puede sacar....',\n",
              " 'Papanatas, que poco te queda de chupar del bote.',\n",
              " 'CON LA BANDERA A MEDIA ASTA.     Pablo, con la bandera a media asta y de luto por la muerte del futuro inmediato de mi España, me atrevo a dedicarte estas letras.      No soy escritor ni político, tan solo un español que ama a su patria, decepcionado cada día más de la mediocre e incluso nefasta actuación de la dirección de un Partido que parecía llamado a sacar a España del agujero inmoral, antidemocrático, rupturista, canallesco, entre otras, de un gobierno indeseable de izquierda extrema, hace lo contrario, caer en la ciénaga por tu afán mediocre, que no eres capaz de superar, de ser el gallito del corral.      Ni esto es un corral, ni somos aves del mismo, somos los españoles que creíamos en el Partido Popular, no en tu persona ni aptitudes, que nunca entendí como llegaste al poder, aunque legal fuese, que ahora me entran las dudas, negándose el puesto a nuestra añorada Soraya.     Hablas sin decir nada, votáis en nuestra representación, si, la de tus votantes, de donde me he borrado por ahora, engañándonos, pareciendo que tienes más compromisos secretos, de los que debieras, con el impresentable Partido Socialista.      Desconozco tus intenciones, pero si aparece alguien con inteligencia, agallas y empuje, la anulas como sea, al estilo dictatorial; despuntaba la portavoz, Cayetana, pues a por ella, ahora apareció, casi de la nada, una persona con empuje, decidida a defender a su Comunidad y, nuevamente a destruirla, sea como sea, es lo que parece, envidia debió darte su forma de actuar, el empuje con que lo hacía, su capacidad de defenderse del impresentable gobierno, al que parece, a veces, que das fuelle.     Isabel decidió, con excelente criterio, convocar elecciones en Madrid, pero no te gustó, ganó de forma contundente, no podía ser de otra manera, su firmeza en defender a sus ciudadanos le dio una mayoría como jamás había soñado el que era nuestro Partido, llegué a ilusionarme, la prensa extranjera habla de ella como la mejor “política” de España, … no lo tragas, a por ella, hay que bajarle los humos, frenarla, que se vaya, que no te haga sombra.     Paralelo a tus nefastas e impresentables intenciones, pretendes obligarla a que renuncie a gobernar con VOX, te lo ha indicado el impresentable Presidente, a cambio de que mantengas tu exiguo poder en Castilla y León.     Escuché, hasta la saciedad, las declaraciones de tu segundón, las tuyas en La COPE y las de Isabel, me parecéis tú y tu segundón, que más habrán de salir a la luz, muy ruin y desafortunados.     Mas pensamientos dan vueltas en mi cabeza, pero no deseo caer en lo repetitivo de la prensa de estos días.     Si necesito decirte que has destruido el Partido, ennegrecido el futuro de nuestra patria, nos llevarás, a los españoles, a una ruina difícil de remontar.     Todo podría evitarse si os marcháis del Partido, tú y los que forman tu equipo. Por el futuro de toda España.    Mariano Planelles, ex simpatizante del Pp por vuestra culpa.',\n",
              " 'Yo estoy contigo Mariano.',\n",
              " 'Que se agarre los machos casado que lo lleva crudo🤠👺👽',\n",
              " 'SI ESTE GIRIPA DE CASADO Y TEODORO NO DIMINTEN EL PP SE VA AL PRECIPICIO EN CAIDA LIBRE, YA NO TE CREEN LOS VOTANTES, CASADO EL TUFILLO QUE VAS DEJANDO TE DELATA EL FRACASO EN LAS PROXIMAS ELECCIONES SI QUIERES SALVAR AL PP DIMITE O CONVOCA EL CONGRESO NACIONAL.',\n",
              " 'Nadie mata al \" padre \" y sale indemne \" Isabel, nadie. Tarde o temprano lo pagarás, te has cargado el partido y no te quedará nada que presidir.',\n",
              " 'Bien por Ayuso!!!',\n",
              " 'CASADO A IDO A POR LANA..Y A SALIDO PELAO.',\n",
              " 'Isabel Díaz Ayuso y Feijoo a Génova .Pablo Casado y Teodoro García Egea dimisión , YA!Cada día que pasa más votantes se van',\n",
              " 'Cuánto pagan a las encuestas? Ayuso,cuántos ancianos murieron en las Residencias por no haber sido atendidas en plena Pandemia?',\n",
              " 'ESTAMOS APAÑADOS CON LA SANTA ISABEL AGENDA 2030.',\n",
              " 'Huyen las ratas del barco que se hunde']"
            ]
          },
          "metadata": {},
          "execution_count": 12
        }
      ]
    },
    {
      "cell_type": "code",
      "source": [
        "#Creación de una cadena de texto que agrupe todos los comentarios: \n",
        "texto=concat(listagrande)\n",
        "texto"
      ],
      "metadata": {
        "colab": {
          "base_uri": "https://localhost:8080/",
          "height": 110
        },
        "id": "aBTZxP7SEvTU",
        "outputId": "09353912-6895-4b40-9294-10b235310bf0"
      },
      "execution_count": null,
      "outputs": [
        {
          "output_type": "execute_result",
          "data": {
            "text/plain": [
              "'El PP se supera cada vez más en impunidad y corrupción.Que fuerte, ..no pueden estar más podridos!...la que están liando los cachorros de la PacaY SIGUEN LLENANDO LOS BOLSILLOS ,,,UN PARTIDO LLENO DE CORRUPTOS MAFIOSOS Y MANIPULADORESahora saldra marhuenda diciendi que todo ha sido un montaje de podemos venezuelA y maduro con la intervencion de eta bildu y los independentistas  catalanes\\r[PHOTO] https://scontent.fidr4-1.fna.fbcdn.net/v/t39.1997-6/10333122_298592793654253_1393149385_n.png?_nc_cat=1&ccb=1-7&_nc_sid=ac3552&_nc_ohc=fHFtlwCAey4AX8u6x9C&_nc_ht=scontent.fidr4-1.fna&oh=00_AT-5oxdjGsSd2iJuMpj_UWfdQKcVdmqOeldZv1ATpisFTQ&oe=62DEB09BNada , la oposición lo llevará a Fiscalía y ...... se acabó el caso Ayuso !!Hace días lo comenté, que entre corructos y ladrones no se muerden, y si lo que pone es cierto, pues estaba claroAlguien se la ha tenido que enviar,pero se la guarda para la próxima...así son ellos.No tiene la mínima dignidad ni vergüenzaQué fuerte, pero qué esperábamos? Somos unos inocentes.Que poca vergüenza tienen..Casado recoge cable, le ha salido mal la jugada como casi todo lo que hace, pero como esta gente roba sin consecuencias, pues aquí no ha pasado nada, señores.Ahora vendrán y nos dirán que todo era una broma 🤣 y sus votantes lo celebrarán, que bromistas són esta panda de CORRUPTOS!!!Casado es una marioneta en manos de Ayuso y el PP la vergüenza de España¿Qué información tendría Ayuso sobre Pablo Casado? La Mafia siempre sabe lo que otros desconocen. Esperemos que las denuncias de otros partidos lleguen a algún sitio, algo difícil teniendo en cuenta la justicia \"independiente\" de este país.Todo esto es una chapuza ,por parte de unos y de otros ....tienen tanta mierda que les salpicara a todos .Menuda corropcion tienen organizadaNo tenéis vergüenza ninguno, espero que la justicia actúe como es debidoO sea, que ha ganado Ayuso. Que se prepare el Fracasado, que no llega a las próximas elecciones generales.Aquí se tapan las vergüenzas unos a otro y no pasa nada,y luego les votan otra vez ,  si nos pasa poco para el pueblo tan analfabeto.Que no pasa nada. Si todo queda en familia... La mitad pa cada uno y tan contentos..... EL. PP.. UN PARTIDO EXTRUTURADO PARA DELINQUIR.  Y NO HAY MAS.. según una sentencia de juezes... Esta más que demostrado.  Que son delincuentes.Poca vergüenza. Una pena de partidosssss.....Entre ellos se pueden poner de acuerdo para dar por válidas las explicaciones pero la justicia tiene que seguir su curso porque se trata del dinero de todos los ciudadanos.Ahora falta la dimisión de Casado y Teodoro... Y si lo cierran con tanta facilidad es porque también saben que ni la fiscalía no la justicia encontrarán nada....Madre,mía que escándalo,y siguen tragando,este país es de panderetaComo para soltar esta gente al poder judicial jaaa,así todo queda en casa y seguimos robando esto es peor que la mafia sicilianaEs que era muy evidente y ahora hay que decir que fue un error, lo único que han conseguido ellos sólitos dimisiones de cargos, que eso es lo mas raro en este grupo político.Ahora que no lo aclaren a los demás que somos a los que presuntamente ha engañado/robado.La ciudadanía que les vota es la que debe meditar lo sucedido sin olvidar el apartamento de lujo donde estuvo resguardada su presidenta, las vacunas que desaparecieron y sobre todo, las personas fallecidas en las residencias…todo esto en el principio de una pandemia.Valiente partida de corruptos y caricatos.Menudo teatro de intereses, lo que hay es mieditis a que los echen a todos!! De esta no se si se salvarán!!\"Poco importa ya si su hermano cobró mordida, igual que poco importó su gestión de las residencias. Qué puede importarle eso a ella, que se alquiló dos pisos de lujo para confinarse y se convirtió en Dolorosa para politizar el dolor\".JajajjajaajJajQue ascoooooooY no se puede actuar de oficio, se van a ir de rositas...Y su electorado confía en esta gente .....??Se cargan el país y aquí no pasa nada ???De verdad que ésto se queda así .... Por favor!!!!!!Lo terrible es que mientras más corruptos son, más les votan…Esta señora debería dimitir y la UCO debería intervenir en la CAMvenga vayan tapando!!! alguién ya ha cobrado y se cierre!!! Nada más q decir....país de pandereta como siempre...es increíble!!! Cuanta m.... debajo de la alfombra de todos los estamentos ...Lo de siempre, a taparlo todo, la basura de Génova se queda en Génova. Gente sin principios, y muy mafiosos y corruptos no pueden gobernar un país.Cuanta pantomima, sois iguales unos que otros, nos importa más que el poder, Que se sepa la verdad de lo que habéis hecho,.Que es lo que queremos saber los ciudadanos, porque el dinero público es de todos.,A fraCasado no le quedó otra.Gano la señora I.D.A. Ahora esperamos a que la fiscalía actúe después que la oposición madrileña lo pidiera ...Se enriquecen ellos y no pasa nada, lo hace el de enfrente y poco menos comienza la segunda guerra civil 🤦🤦Vaya justicia que tenemos, un fiscal imputa a Iglesias por una tarjeta de un móvil y ante este caso de corrupción, no pasa nada.Qué personajes tan inmaduros, actúan como niños de pandilla, ahora me enfado, ahora me contento. Estos dos follarian cuando militaban en Nuevas Generaciones del PP?.Pero que sinvergüenzas,  casado se ha acojonao y la otra parienta una asalta trenes, y ¿estos son los que quieren gobernar nuestro pais?, bueno es logico piensan que estan e un pais de gilipollas y asi nos vaSon todos patéticos y corruptos. Esto en cualquier país europeo sería intolerable pero aquí ya sabemos....esto es España, lo mediocre,la picaresca y la mediocridad rayando lo ridículo tiene premio y se traga con unas tragaderas enormes. Si se traga lo de una monarquía corrupta que no se va a tragar.El PP ya se parece más bien al camarote de los hermanos  marxSon todos iguales. Vaya panda de delincuentes chorizos. Roban nuestro dinero y todo es normal para estos sinvergüenzas. Veamos qué hace la fiscalíaJajaja, cuánta mierda tienen unos contra otros que no se atreven a hacerse pupita. Lo que ayer podía ser legal pero no ejemplar, hoy es válido.No doy crédito, qué vergüenza 🙈. Roban, engañan y no les va a pasar absolutamente nada. Ni se sonrojan ni dimiten porque los jueces son sus cómplices, ¿dónde está la fiscalía para investigar todo lo que se roba de las arcas públicas?Pero que esperabais , entre ellos no se morderánn . Son igual de ladronesCOMO SE PUEDE TENER TAN POCA VERGÜENZAQué turbio es el PP, montan esta historia, la hacen pública, y en 2 días se desentraña todo como si tal cosa. Pero da igual, es una más, les seguirán votando como si nada. Pelillos a la mar que se dice...Qué gentuza sois 🤦\\u200d♀️🤦\\u200d♀️🤦\\u200d♀️🤦\\u200d♀️Los contratos en los que participó el hermano, no directamente, que salgan a la luz, que los publiquen la Razón, el Mundo y A3 media, que son más del PP, que M.RajoyQue poco te queda Pablo que vergüenza por la mañana en la radio parecía corrupta y por la tarde todo se cierra esto lo tiene que investigar la justiciaQue vergüenza con este teatrillo que se han montado se creen que nos lo creemos.!!Menuda vergonzosa y PP es cada vez más corrupto y muchas ladrones y cómo ex Cifuentes y Esperanza Aguirre y Ana botella no fue buena es la presidenta de comunidad y es una lavada imagen y pasa las manos y sólo quiere ser sillón.Que les den a ambos, más tontos son los que les votan, porque se pelean pero al final se dan besos y olvidado, mientras que los partidarios de una y otro se quedan con la rabieta, ojo y esto no es exclusivo del PP, afecta a todos todosEste partido no debía de existir menudos ladronesEl que quiera demostrar algo contra Ayuso que acuda a la fiscalía.la izquierda también tiene casos   que han dado que hablar: Colau también está siendo investigada por dar subvenciones a asociaciones afines.Hace tiempo la Presidente de Navarra , le dio unas subvenciones a su hermano y dijo que era legalAquí está demostrando la izquierda el doble rasero de siempre.,Se han retratado!! Espero que las denuncias que han presentado ante la fiscalia no se queden en papel mojado. Ingenua que es una!Este es un cadáver políticamente se a cavado su propia tumba y gracias a sus medios de información que se han quedado como el que se traga la extrevez hay mi Carlos herrera tan campechano y tan tan tan y no suena las canpanas repicando\\r[PHOTO] https://external.fidr4-1.fna.fbcdn.net/emg1/v/t13/12275013412078267281?url=https%3A%2F%2Fmedia3.giphy.com%2Fmedia%2F3oEjHAUOqG3lSS0f1C%2Fgiphy.gif%3Fcid%3Dcafe52e9saswfbuhehbwsrhs2cb7c4mw6jbg02fcl49zy2fl%26rid%3Dgiphy.gif&fb_obo=1&utld=giphy.com&stp=dst-emg0_q75_s396x297&ccb=13-1&oh=00_AT_Q7VLAAoIF6f_qiwUCbidD2lS-UXVMor-iHayRnpOikw&oe=62DAF2CC&_nc_sid=c504daQué panda de chorizos sinvergüenzasTodo esto es vergonzosoSe tapan unos a otros todos unos ladrones sin verguenza ni moral acojonante 😡Esto es una vergüenza después de las graves acusaciones mutuas y ahora el sr Casado retira el expediente abierto hace nada, esto no hay por donde cogerlo, a qui hay mucha tela que cortar, nos toman por tontos unos y otrosQué sabrá Ayuso de Casado para llegar tan pronto a esto.Cómo es posible que esta gente del PP se ría así de la gente y no les pase factura, pero acaso es cierto que los españoles estamos gilipollas?Qué  vergüenza!Lo he cerrado porque el procedimiento cumple con todas las tradiciones y  normas de la casa, comisiones, sobre costos , abuso de funciones, nepotismo, espionaje, etcDe vez de dimití ,aquí no ha pasado,tan amigos como siempre.Y los ciudadanos qué ? Y el dinero público,?Que vergüenza ppy donde esta ese gobierno tan democrata que esta rodeado de corrupción que mas tiene que pasar para que actue o va a permitir que en el parlamento se sienten ladrones sin recibir castigo que tenemos en este pais un parlamento o nido de ladrones no me extraña que cada dia los votantes de izquierdas estemos mas desencantadosEsto demuestra que la mierda no es solo de una  que hay mierda para todos , seguro que la otra parte les a presentado más basura, están todos hasta el cuello.Alguien pensaba que entre corruptos quedaba un poco de decencia? Si de verdad  lo habían pensado son demasiado ingenuos o no conocen en el país que viven sigue siendo un país de charanga y panderetaEsto es una falta de respeto a todos los que les votamos y un gran circo juegan con nuestro dinero público y la credibilidad hacia ellos tanta culpa tiene la ayuso cómo casado,  ella lo dijo públicamente que le dio ése contrato a su hermano y ganó comisión por ésas ventas cosa que  es ilegal con dinero público no se puede pagar comisiones a nadie, y menos favoreciendo a un familiar con miles de Euros Han cerrado muchas empresas,  muchas personas en la calle sin dinero 💰 😡 si ella cometió ese error pues lo siento pero tiene culpas y pagar\"Ninguna cantidad de evidencias logrará convencer a un idiota\" Mark Twain Da igual que roben, malversen, se corrompan, les quiten los derechos más elementales como la sanidad, la dependencia, la cultura, etc etc., da igual que se repartan los negocios entre familiares y amigos, lxs idiotas seguirán votando a sus verdugos. Esto España...no dan para mucho másA Casado le importa tres cojones, las comisiones del hermano,  si la sombra política de Ayuso, por lo que quería quitársela del medio Isabel quiere morir matando, cuando se han dado cuenta que esto acababa con los dos, quieren dar marcha atrás, pero me temo que es tarde, deben buscar un nuevo líder, tipo Feijo, si no el PP, perderá la poca credibilidad que le quedaba.Que torpes han sido, madre mía!!!.Muy fácil, las explicaciones han sido: como sigáis metiendo mierda sobre mí (bien metida por cierto) saco todos los trapos sucios de Génova de estos años y en Génova han dicho, te queremos Ayuso, ha sido todo una broma. Y así solucionan los problemas en ese partido corrupto.Lo poco que les ha costado ponerse de acuerdo . Màfia y corrupción pura !!! Quando se tracta del PP o el PSOE , todo tiene una solucion ràpida y sin consecuencias. . !! Venga todos a votar para mantenerlos en sus poltrones!!!Han sido, son y seguiran siendo unos CORRUPTOS y no podemos esperar que cambien hemos de pedir JUSTICIA transparente aunque tambien es dificil...La corrupción del PP no tiene límites y ellos no tienen ningún pudor en exponerla continuamente. Libre es la gente de creer a esta panda de ineptos que se ríen de España continuamente y para muestra este circo que han montadoQue vergüenzaAuténticos mafiosos Ladrones y seguirán haciendo lo mismo porque tienen votantes que no les parece mal. EN ESPAÑA NO HAY DEMOCRACIAMenuda banda de corruptosLos amos los han llamado al orden a los aprendices de la mafiaNo vallan a joder el tinglado del estado corrupto,que sustenta el poder economico de las elites(los verdaderos gobernantes de esta,seudodemocracia)Esto es lo que es una cuadrilla de ........ Y ahora carpetazo y no ha pasado nada ,  no se lo creen ni ellos. No entiendo como se puede votar a un partido tan corrupto, hoy dicen una cosa y mañana la contraria, son miserables, mentirosos y muy fascistas, lamentableSolo quiero recordarle al Sr. Marhuenda que, el \"lio\" lo tienen tres personas del PP, que son Casado, Ayuso y Teodoro. No acabo de comprender porque Vd. ha empezado criticando al PSOE, que se sepa no han \"pinchado\" ni \"cortado\" nada en este tema, incluso ha metido en el tema al propio Aznar, eso suele pasar cuando se carece de argumentos. Cuesta muy poco ser sincero \"amigo\" Para combatir lo amargo hay unos bombones muy ricos.Que vergüenza, a ellos les vale, y a sus votantes, también les vale que no les den una explicación sin mentiras? Es lo que merece este país? Que tremendo!!!!!Vaya panda de mafiosos,ya han hecho sus arreglos, y sus votantes tan contentos. Que pais, de charanga y pandereta que decia Machado.Y como se permite que todavía sigan apalancados en GÉNOVA,  son unos mafiosos, roban y engañan y la gente les vota, y no responden por la muerte de tanta gente abandonados en las Residencias,! Es qué en este país no pasa nada, todo da igual y nadie paga!!!!!!! Vergonzoso.Credibilidad 0. Y este señor aspira a gobernar España, q Dios nos pille confesados!!!Pero que sinverguenzas!  ademas de ladrones, mentirosos, y cobardes, .... que publiquen la documentación aportada por la corrupta Ayuso, y veamos hasta dónde llega el montaje, y la manipulacion....Los políticos de este partido no son los culpables el problema lo tienen los descerebrados que los siguen votando prefieren que les roben , que les privaticen la sanidad pública,  que les paguen sueldos de miseria , que les quiten derechos sociales , que les den contratos basura como empleos , que les quiten derechos en las pensiones,  que los tengan trabajando si es posible hasta que toque morirse . En fin quien los entiende solo ellos trabajan escarbando sus propias tumbas arrastrando al resto del puebloSólo en Spañistán puede ocurrir que aparezcan evidencias de corrupción flagrantes en cargos públicos y la \"justicia\" no sólo no actúe sino que se tapa oídos y ojos. Qué vergüenzaVaya banda de mafiosos y como tienen el tribunal supremo a su servicio, lo mas probable que tapen toda la mierda que pueda salirEntre todos tapan la corrupcion de este partido incluso los juecesTodos son iguales y de la misma calañaCorrupción corrupción corrupción y más corrupción!!!! Pero bueno los votantes igual se piensan que les caerá un contrato a dedo y su correspondientes comisiones o algo así!!!! No hay nada más ignorante que un pobre votando a la derecha!!!Esto es un descojono monumental de estas personas que quieren controlar a la ciudadanía.......vergonzoso y lamentable el estado españolVotad malditos, votad a esta panda de ladrones. Lo peor es que lo padecemos todos.Esto es una vergüenza a otros los condenan por manifestarse y a estos qué. todo se lo tapan, luego la justicia igual para todos.Corrupción, corrupción y más corrupción este es el sistema de esta genteCasado, esta fracasado!!Se q esto q digo, ya lo dijo alguien!!\\r[PHOTO] https://external.fkno6-1.fna.fbcdn.net/emg1/v/t13/11860828768112830299?url=https%3A%2F%2Fmedia4.giphy.com%2Fmedia%2F9A7X5FWQjneoHWggTx%2Fgiphy.gif%3Fkid%3Dbe302117%26ct%3Ds&fb_obo=1&utld=giphy.com&stp=dst-jpg_flffffff_q75_s396x396&ccb=13-1&oh=00_AT-08RSdLohza-51mrpYEdiw1ffzRN2jYHonHmqeL2suxA&oe=62F2A46C&_nc_sid=1229baUna Señora que permite( si no es que incluso lo propicia) que su hermano gane nada menos que 55.000 euros ( debe ser que fabricó él las mascarillas) y todavía se le sigue defendiendo.Menuda desvergüenza.Ese tanto por ciento que la votaria es como la justicia  con lo hojos vendados  y claro sobre todo con el PP, que de cien se castigan tresFracasado ha perdido el combate,  entre corruPPtos anda el juego.La gente la quiere (porque vale)… y al que le va pasar factura  es a Casado ( que ganas de hacerse daño el mismo )….una de dos, O la gente tiene una filia con que la roben o  Ayuso paga a muchos medios de comunicaciónCasado vete ya!!!!!!!Yo si !Y quíen ha hecho la encuesta?. Y cómo saben quién han votado al PP?A los votantes del pp cuanto más roban más le gusta el candidat@.Y está mujer debería de estar en la cárcel por lo que hizo con nuestros mayores.... Pero claro estamos en España.Ayuso, ni un paso atrás a por todas el final tendrás la recompensaNoooo es pesima presidentra tiene mucha cara dura y muchas muerte asu espaldaY vosotros no tomais partido, claro.CinismoAqui hay por un lado mafia y por el otro corrupcion, ninguno de los 2 merece defensa alguna, y los que tienen detras de ellos menos aun.Es alarmante el nivel de tolerancia que tenemos en este pais con nuestros politicos. IncreibleEl señor  Fra  casado esta Ayu    sustado\\r[PHOTO] https://scontent.fkno6-1.fna.fbcdn.net/v/t39.1997-6/47614232_1846683475430536_3135922765756891136_n.png?_nc_cat=1&ccb=1-7&_nc_sid=ac3552&_nc_ohc=vqE0mR26S8UAX8cxMf3&_nc_ht=scontent.fkno6-1.fna&oh=00_AT9v9YWzgsEcx9qnle6Jh74x17AEXYa8XIUO-dLjdgEAEA&oe=62F6D7E3Temos que dar las gracias A esperanza A guiaré de lo qué está pasando...RuinaYo con AyusoY entre los del PSOE. Así se las ponían al felón (¡Uy, redundante!).La reina maquiavélica ha hecho una jugada magistral. Te van a fagocitar Abascal, ahora los fachas tendréis que volver a casa con mamà...(la Reina Roja del cuento de Alicia os llaaamaaaa....😈)Pero que piensan los PePeros, que Madrid es España, que prueben, valla imagen para el mundo, si esa Srta. es presidenta de España. Con el apoyo de VOX y el gabinete de asesores \"en la sombra\"El partido podrido dirigido por corrupto mafiosos...Por favor, lo que nos hacía falta, Ayuso presidenta, puede hacer buenos a los corruptos de los distintos partidos!!Si no se va casado,votaré a VoxNinguno de los dos son ningún ejemplo, DIMISIÓN YA!Si fueras listo, FrAcasado la cesabas y asi parabas su ascenso, y si tan triunfante se ve q monte otro partido, ahora has tragado, estás perdido y acorralado por la corrupción, tus tribunales se lo apañaran y saldrá TriunfanteAyuso seria mejor presidenta del PP que casado y porque  no ganar las elecciones generales ..Que no pasa nada que el \"estudiao\"se meterá el rabo entre las piernas y marcha atrás!!Sabiendo que El Confidencial es uno de los medios que tienen contratos de publicidad con Sol, como para fiarse que sea cierto¡  Vaya  Circo  ! Que han montado éstos dos palurdos.Isabel Ayuso tenía que formal un partido político, y presentarse para las elecciones  generales de precidenta, y seguro que ganaría porque vale mucho ojalá lo iciera ...Lo que demostraría que la CORRUPCIÓN queda en un segundo plano..!! 💰💸💰💸💰💰🤦\\u200d♂️🤦\\u200d♂️🤦\\u200d♂️Casado, te están moviendo el asiento y son los tuyosPresidenta,  que falta hace  que entre una mujer para gobernar...ya está bien de tanto hombre....Casado te quedan tres telediariosFarsantesUfffffff... .para mear y no soltar ni gota ...?? Increíble..Ayuso de presi y fracasado de de vice ....jaja hacéroslo  mirar por favor..?? Salud y republicaTiene cojones que un 30% se decante por CasadoEres la mejor AyusoY su hermano de vicepresidente,,,Semos espanoles \\U0001f978🤣así vamosLos que votáis al PP, esos españoles de bien que tanto amáis a España,  sois incapaces de ver y entender que líderes como Casado, que se abrazan a lo que sea con tal de sacar algún beneficio partidista o particular, es quien realmente rompe España. Y acordáos. Ayuso es peor que él. Descaradamente abraza a Vox. Hoy día, el PP está tan radicalizado y podrido, que sólo puede optar a controlar la cola para ir al WC.Debería quitarse de en media a Pablo Casado que es un mediocre irresponsable que para ser alguien busca la forma de excluir a los demás.Es increíble cómo la gente vota , corrupción!!!Aún asi ella es corrupta , hace tiempo que lo saben ,pero Casado no ha estado ni esta a la altura de su partido , todos a la calle y renovación,!O ambas dosVeamos como puede ser?Arrasa con VOX,esta señora es mas de extrema derecha que Abascal,y no la quieren dejar caer los de su clase los millonarios de Madrid ,porqie los protegsi fueran honestos deberian dar un paso al costado los dos y dejar esto en manos de la justicia\\r[PHOTO] https://scontent.fopo2-2.fna.fbcdn.net/v/t39.1997-6/83640226_953860661742958_8297483048391664602_n.png?_nc_cat=1&ccb=1-7&_nc_sid=ac3552&_nc_ohc=5NAMAXhii9AAX_ltk7-&_nc_ht=scontent.fopo2-2.fna&oh=00_AT-wB4RWTJwTT8OcbWKiut0jJ0nUmPz7P0AizWH4YeZIIg&oe=62F609B7Ayuso eres mi referente,  he intentado imitarte pero no soy de tu nivel, un saludo desde prisión.Ya tienes mi voto, PRESIDENTA PRESIDENTA,😘😘Como hoy solamente se hablará en los medios el asunto del PP, os recuerdo que:* Ha sido imputada Ada Colau por corrupción* Investigan al marido de la directora general de la guardia civil por corrupción* Va a ser interrogada la presidente socialista balear Francina Armengol por una comisión de la Unión Europea sobre el escándalo de las menores tuteladas prostituidas en Mallorca* José Luis Ábalos adjudicó a una empresa que facturaba CERO euros la friolera de 53 millones de euros* El marido de Calviño gestiona los fondos europeos de los que su mujer es en parte responsable al adjudicarlos* Sanidad adjudica a una firma sin empleados un contrato de 4,2 millones: el proveedor de material para combatir el coronavirus es una asesoría laboral de Málaga con pérdidas* El Gobierno compra material por 263 millones a una empresaria condenada por estafa* La empresa ‘fantasma’ a la que Illa compra hisopos para el Covid-19 está en Suiza y se dedica a la moda infantil* Illa adjudica 30,3 millones de euros \"a dedo\" a tres empresas de Barcelona para vacunas contra la gripe* El Ministerio de Sanidad adjudica contratos en el BOE a empresas que no tienen ni direcciónPodrían ser muuuuchos más que han pasado sin pena ni gloria por los medios de comunicación...Si la fiscalía toma cartas en el asunto y abre diligencias contra Ayuso quedará de manifiesto que esta operación está hecha en comandita por la dirección del Partido Popular y del partido socialista. Porque como decía Pedro Sánchez: \"¿de quien depende la fiscalía?\"...Mileuristas y parados votando a Ayuso porque creen que los va a ayudar, esto es EspañaPero ...¿cómo puede posicionarse nadie a favor de uno o de otro, sin que la Fiscalía lo haya investigado?  Es que  algunos  votantes solo piensan con las tripas ? Pruebas , pruebas y mas pruebas  A ver si por dejar que dominen los impulsos , van a votar a otra corrupta mas...Hay que esperar y respetar a priori la presunción de inocencia.Juzgan los jueces ...\\r[PHOTO] https://external.fopo2-2.fna.fbcdn.net/emg1/v/t13/12780973091309689901?url=https%3A%2F%2Fmedia1.giphy.com%2Fmedia%2F2Dcu57rxk71Ze%2Fgiphy.gif%3Fcid%3D120c0147oo3u8xxtj7ct7emvfzy82k6xau5zfn57ffgqkmes%26rid%3Dgiphy.gif%26ct%3Dg&fb_obo=1&utld=giphy.com&stp=dst-emg0_q75_s396x396&ccb=13-1&oh=00_AT-Q3SgL9j6FO2OQ_gUHZECX8z8XOSSrkm7qNa8CCVrYpQ&oe=62F2A24B&_nc_sid=c504daEs lógico que arrase entre tantos tontos  y seguro que la culpa es de la mierda de sociocomunista dirán cuarenta años condenando tontos y más cosas estuvo Paco y cía y dejó a estos y alos otros como sus reliquias políticas que no hay ninguno bueno de ningún partido manda huevos los politiquillosAhora todos a defender a los corruptos, sí la Ayuso se aprovechó de la pandemia,me parece vergonzoso, que salga todo a la luz,el Casado y el tira huesos de aceitunas,todos a la calle que no se metan más en la política que se vayan a trabajar al campoYo también la votaría, es lo mejor que ha tenido el PP desde hace décadas.Fuera ya el pan sin sal de Casado!!!o sea,  a los votantes les trae sin cuidado la corrupción de este partido, sea la Gürtel, Kitchen, Leso, Tandem y un largo etc. añadiendo ahora las adjudicaciones al hermano y madre de está señora????Yo tambien le doy mi voto a esta Gran Mujer.Casado debes dimitir, perdiste las primarias ante los afiliados, las gano Santamaria y ahora por culpa de tus miedos y de Garcia Egea has perdido toda posibilidad de llegar a la Moncloa. ¿ Entonces para que sirves? Para nada, un partido de gobierno no puede permitirse un presidente sin posibilidades de gobernar, lo unicamente digno que te queda por hacer es dimitir o dinamitar el partido, esta herida no se cierra dando ahora la razon a Ayuso.Primer paso, cesar a Garcia EgeaSegundo paso, dimitirTercer paso, primarias y que voten solo los afiliados.JA ja vaya inteligentes que sois me muero de risa.Lógico, reúne requisitos para dirigir a una organización para delinquir.A Casado le ha salido el tiro por la culata.AYUSO PRESIDENTA 💪💪💙💙Y además de todo esto, está señora no es de la agenda 2030, ni está en el nuevo orden mundialEste gran conflicto nacio por una carta de nadie sabe donde que sabia muy bien que se iba a liar. Y estos del pp han liado aun mas todo. Lo primero se sale a pedir perdn si hay que pedirlo y si no se denuncia y no hacer el ridiculo entre ellos diciendo tu has dicho y yo no he dicho. Los votantes si seguis asi se cansaranCasado y Egea DIMISION ya!!Gerra. Por el poder.Esto es pa decir con estos titulares de la prensa,  a tomar  por culo.CUANTO CORRUPPTO HAY ENTRE LOS CORRUPPTOSEsta mujer vale mucho más que los pusilánimes masculinos del partidoSon tal para cualEsta visto que contra más roban , más borregos les votanBeatriz Abellán pues que Dios os coja confesaos ,si esa tipa os dirige ,entonces series como vox ,fascistas y franquistas , aunque esto último ya lo soisNormal,se identifican con los mafiosos,y si sacan más comisiones,mucho más volorados\\r[PHOTO] https://scontent.fopo2-2.fna.fbcdn.net/v/t39.1997-6/10333122_298592793654253_1393149385_n.png?_nc_cat=1&ccb=1-7&_nc_sid=ac3552&_nc_ohc=uFfCjZbVjYsAX9gsBQf&_nc_ht=scontent.fopo2-2.fna&oh=00_AT9WArDtaXfiiOtaD3un-XLYgHQBC4PfAkGni4_npjbvtw&oe=62F66B9BPues buena timadora No pierde el tiempo .no ahí más ciego que el que no quiere ver\\r[PHOTO] https://external.fopo2-2.fna.fbcdn.net/emg1/v/t13/8917808435971831622?url=https%3A%2F%2Fmedia1.tenor.co%2Fimages%2F657d23aaf77900920b95e63763619637%2Ftenor.gif%3Fitemid%3D18088659&fb_obo=1&utld=tenor.co&stp=dst-emg0_q75_s396x396&ccb=13-1&oh=00_AT-DK41OY_0Oe7BgmIJpDGBAQx5ung49R9oznBF2kzJVoQ&oe=62F2BE59&_nc_sid=c504daBueno tienen muy mala memoria, cuando quieren, y el dinero que se gasto el ministro Ylla en plena pandemia que compro material a un chino y ni aparecio el material ni existia el chino y el dinero se esfumó.Por lo menos este trajo el material .Que malos somos cuándo hay que mirar para atrás.😉En la derecha todo vale con tal de ganar unas elecciones.Esta mujer k se creAyuso presidenta  🇪🇦Querían hacerle como a la Cifuentes,Cayetana de Toledo,Aguirre,en fin las mujeres no pueden ser mejores q ellos,Ayuso le hace Sombra 💪 mujeres al poder y eso los varones del PP no puede permitirlo? dónde mandaron al la Santa María? Ayuso vale mucho y está manteniendo los votos en la comunidad de Madrid y cercanía! Bravo x Ayuso 💪👍👌Que  poca cultura tiene esta gente del PP no distinguen entre Ética moral 🤮🤮🤮🤮Si es que de donde no hay no se puede sacar....Papanatas, que poco te queda de chupar del bote.CON LA BANDERA A MEDIA ASTA.     Pablo, con la bandera a media asta y de luto por la muerte del futuro inmediato de mi España, me atrevo a dedicarte estas letras.      No soy escritor ni político, tan solo un español que ama a su patria, decepcionado cada día más de la mediocre e incluso nefasta actuación de la dirección de un Partido que parecía llamado a sacar a España del agujero inmoral, antidemocrático, rupturista, canallesco, entre otras, de un gobierno indeseable de izquierda extrema, hace lo contrario, caer en la ciénaga por tu afán mediocre, que no eres capaz de superar, de ser el gallito del corral.      Ni esto es un corral, ni somos aves del mismo, somos los españoles que creíamos en el Partido Popular, no en tu persona ni aptitudes, que nunca entendí como llegaste al poder, aunque legal fuese, que ahora me entran las dudas, negándose el puesto a nuestra añorada Soraya.     Hablas sin decir nada, votáis en nuestra representación, si, la de tus votantes, de donde me he borrado por ahora, engañándonos, pareciendo que tienes más compromisos secretos, de los que debieras, con el impresentable Partido Socialista.      Desconozco tus intenciones, pero si aparece alguien con inteligencia, agallas y empuje, la anulas como sea, al estilo dictatorial; despuntaba la portavoz, Cayetana, pues a por ella, ahora apareció, casi de la nada, una persona con empuje, decidida a defender a su Comunidad y, nuevamente a destruirla, sea como sea, es lo que parece, envidia debió darte su forma de actuar, el empuje con que lo hacía, su capacidad de defenderse del impresentable gobierno, al que parece, a veces, que das fuelle.     Isabel decidió, con excelente criterio, convocar elecciones en Madrid, pero no te gustó, ganó de forma contundente, no podía ser de otra manera, su firmeza en defender a sus ciudadanos le dio una mayoría como jamás había soñado el que era nuestro Partido, llegué a ilusionarme, la prensa extranjera habla de ella como la mejor “política” de España, … no lo tragas, a por ella, hay que bajarle los humos, frenarla, que se vaya, que no te haga sombra.     Paralelo a tus nefastas e impresentables intenciones, pretendes obligarla a que renuncie a gobernar con VOX, te lo ha indicado el impresentable Presidente, a cambio de que mantengas tu exiguo poder en Castilla y León.     Escuché, hasta la saciedad, las declaraciones de tu segundón, las tuyas en La COPE y las de Isabel, me parecéis tú y tu segundón, que más habrán de salir a la luz, muy ruin y desafortunados.     Mas pensamientos dan vueltas en mi cabeza, pero no deseo caer en lo repetitivo de la prensa de estos días.     Si necesito decirte que has destruido el Partido, ennegrecido el futuro de nuestra patria, nos llevarás, a los españoles, a una ruina difícil de remontar.     Todo podría evitarse si os marcháis del Partido, tú y los que forman tu equipo. Por el futuro de toda España.    Mariano Planelles, ex simpatizante del Pp por vuestra culpa.Yo estoy contigo Mariano.Que se agarre los machos casado que lo lleva crudo🤠👺👽SI ESTE GIRIPA DE CASADO Y TEODORO NO DIMINTEN EL PP SE VA AL PRECIPICIO EN CAIDA LIBRE, YA NO TE CREEN LOS VOTANTES, CASADO EL TUFILLO QUE VAS DEJANDO TE DELATA EL FRACASO EN LAS PROXIMAS ELECCIONES SI QUIERES SALVAR AL PP DIMITE O CONVOCA EL CONGRESO NACIONAL.Nadie mata al \" padre \" y sale indemne \" Isabel, nadie. Tarde o temprano lo pagarás, te has cargado el partido y no te quedará nada que presidir.Bien por Ayuso!!!CASADO A IDO A POR LANA..Y A SALIDO PELAO.Isabel Díaz Ayuso y Feijoo a Génova .Pablo Casado y Teodoro García Egea dimisión , YA!Cada día que pasa más votantes se vanCuánto pagan a las encuestas? Ayuso,cuántos ancianos murieron en las Residencias por no haber sido atendidas en plena Pandemia?ESTAMOS APAÑADOS CON LA SANTA ISABEL AGENDA 2030.Huyen las ratas del barco que se hunde'"
            ],
            "application/vnd.google.colaboratory.intrinsic+json": {
              "type": "string"
            }
          },
          "metadata": {},
          "execution_count": 13
        }
      ]
    },
    {
      "cell_type": "markdown",
      "source": [
        "# Primer procesamiento"
      ],
      "metadata": {
        "id": "LBmIcatiKWVY"
      }
    },
    {
      "cell_type": "markdown",
      "source": [
        "A continuación se muestran las funciones necesarias para realizar el primer procesamiento de datos (exclamaciones, interrogaciones y mayúsculas):"
      ],
      "metadata": {
        "id": "w9qdIrx0KYRx"
      }
    },
    {
      "cell_type": "code",
      "source": [
        "def contar_exclamaciones(texto):\n",
        "  #Recibe un texto (str), cuenta los caracteres, los signos de exclamación e interrogación y devuelve la proporción de exclamaciones e interrogaciones en el texto.\n",
        "    \n",
        "    excls = r'¡|!|\\?|\\¿'\n",
        "    total_excl = 0\n",
        "    resultado = re.findall(excls, texto)\n",
        "    total_excl = total_excl + len(resultado)\n",
        "            \n",
        "    num_caracteres = len(texto) # num de caracteres del texto\n",
        "    \n",
        "    try:\n",
        "        # proporción de exclamaciones e interrogaciones en el texto\n",
        "        proporcion_excl = total_excl/num_caracteres \n",
        "        \n",
        "    except ZeroDivisionError:\n",
        "        proporcion_excl = 0.0\n",
        "        \n",
        "    return proporcion_excl\n",
        "\n",
        "\n",
        "def contar_mayus(texto):\n",
        "    \"\"\"Recibe un texto (str), aplica split a la cadena, \n",
        "    cuenta los caracteres, cuenta las mayúsculas.\n",
        "    Retorna la proporción de mayúsculas en el texto.\"\"\"\n",
        "    \n",
        "    mayus = ['A','B','C','D','E','F','G','H','I','J','K','L','M','N','Ñ','O','P','Q','R','S','T','U','V','W','X','Y','Z','Á','É','Í','Ó','Ú','À','È','Ì','Ò','Ù','Ä','Ë','Ï','Ö','Ü','Â','Ê','Î','Ô','Û','Ç']\n",
        "    total_mayus = 0\n",
        "    for letra in mayus:\n",
        "        resultado = re.findall(letra, texto)\n",
        "        total_mayus = total_mayus + len(resultado)\n",
        "            \n",
        "    num_caracteres = len(texto) # num de caracteres del texto\n",
        "    \n",
        "    try:\n",
        "        # proporción de contectores en el texto\n",
        "        proporcion_mayus = total_mayus/num_caracteres \n",
        "        \n",
        "    except ZeroDivisionError:\n",
        "        proporcion_mayus = 0.0\n",
        "        \n",
        "    return proporcion_mayus\n"
      ],
      "metadata": {
        "id": "m-ZgV9iBMFKj"
      },
      "execution_count": null,
      "outputs": []
    },
    {
      "cell_type": "code",
      "source": [
        "#Demostración:\n",
        "prueba= listagrande[190]\n",
        "print(prueba)\n",
        "contar_mayus(prueba)"
      ],
      "metadata": {
        "colab": {
          "base_uri": "https://localhost:8080/"
        },
        "id": "neDQOYO2NsUl",
        "outputId": "1cc8a28a-eefa-4d62-ed8c-4d2fb29260e6"
      },
      "execution_count": null,
      "outputs": [
        {
          "output_type": "stream",
          "name": "stdout",
          "text": [
            "SI ESTE GIRIPA DE CASADO Y TEODORO NO DIMINTEN EL PP SE VA AL PRECIPICIO EN CAIDA LIBRE, YA NO TE CREEN LOS VOTANTES, CASADO EL TUFILLO QUE VAS DEJANDO TE DELATA EL FRACASO EN LAS PROXIMAS ELECCIONES SI QUIERES SALVAR AL PP DIMITE O CONVOCA EL CONGRESO NACIONAL.\n"
          ]
        },
        {
          "output_type": "execute_result",
          "data": {
            "text/plain": [
              "0.8053435114503816"
            ]
          },
          "metadata": {},
          "execution_count": 23
        }
      ]
    },
    {
      "cell_type": "code",
      "source": [
        "def contar_faltas(comentario):\n",
        "\n",
        "    errores= tool.check(comentario)\n",
        "    total_errores= len(errores)\n",
        "    if total_errores >0:\n",
        "      proporcion= (total_errores)/(len(comentario.split()))\n",
        "    else: \n",
        "      proporcion= 0\n",
        "    return proporcion"
      ],
      "metadata": {
        "id": "toQp3M_skvRB"
      },
      "execution_count": null,
      "outputs": []
    },
    {
      "cell_type": "code",
      "source": [
        "#Demostración:\n",
        "prueba= listagrande[190]\n",
        "print(prueba)\n",
        "contar_faltas(prueba)"
      ],
      "metadata": {
        "colab": {
          "base_uri": "https://localhost:8080/"
        },
        "id": "lg650DTAOfBb",
        "outputId": "033d8af7-17d8-4da9-8a23-9e61f990c687"
      },
      "execution_count": null,
      "outputs": [
        {
          "output_type": "stream",
          "name": "stdout",
          "text": [
            "SI ESTE GIRIPA DE CASADO Y TEODORO NO DIMINTEN EL PP SE VA AL PRECIPICIO EN CAIDA LIBRE, YA NO TE CREEN LOS VOTANTES, CASADO EL TUFILLO QUE VAS DEJANDO TE DELATA EL FRACASO EN LAS PROXIMAS ELECCIONES SI QUIERES SALVAR AL PP DIMITE O CONVOCA EL CONGRESO NACIONAL.\n"
          ]
        },
        {
          "output_type": "execute_result",
          "data": {
            "text/plain": [
              "0.10204081632653061"
            ]
          },
          "metadata": {},
          "execution_count": 26
        }
      ]
    },
    {
      "cell_type": "code",
      "source": [
        "def contar_emojis(comentario):\n",
        "  emojis= emoji_count(comentario)\n",
        "  total_emojis= (emojis)\n",
        "  if total_emojis>0:\n",
        "    proporcion= (total_emojis)/(len(comentario.split()))\n",
        "  else:\n",
        "    proporcion=0\n",
        "  return proporcion"
      ],
      "metadata": {
        "id": "hvf1ZAm3kxP3"
      },
      "execution_count": null,
      "outputs": []
    },
    {
      "cell_type": "code",
      "source": [
        "#Demostración:\n",
        "prueba= listagrande[190]\n",
        "print(prueba)\n",
        "contar_emojis(prueba)"
      ],
      "metadata": {
        "colab": {
          "base_uri": "https://localhost:8080/"
        },
        "id": "ZdnsIYcVOozg",
        "outputId": "1a481c98-c644-4e38-d45c-81a67516adf5"
      },
      "execution_count": null,
      "outputs": [
        {
          "output_type": "stream",
          "name": "stdout",
          "text": [
            "SI ESTE GIRIPA DE CASADO Y TEODORO NO DIMINTEN EL PP SE VA AL PRECIPICIO EN CAIDA LIBRE, YA NO TE CREEN LOS VOTANTES, CASADO EL TUFILLO QUE VAS DEJANDO TE DELATA EL FRACASO EN LAS PROXIMAS ELECCIONES SI QUIERES SALVAR AL PP DIMITE O CONVOCA EL CONGRESO NACIONAL.\n"
          ]
        },
        {
          "output_type": "execute_result",
          "data": {
            "text/plain": [
              "0"
            ]
          },
          "metadata": {},
          "execution_count": 29
        }
      ]
    },
    {
      "cell_type": "markdown",
      "source": [
        "# Limpieza"
      ],
      "metadata": {
        "id": "KL5QmilMYq5D"
      }
    },
    {
      "cell_type": "markdown",
      "source": [
        "Batería de funciones para limpiar el texto (puntuación,tíldes, mayúsculas, links y abreviaturas)\n"
      ],
      "metadata": {
        "id": "AGnbf4b-Yy5R"
      }
    },
    {
      "cell_type": "code",
      "source": [
        "# recuerda importar re.\n",
        "\n",
        "#Recibe una cadena de texto y lo devuelve sin links:\n",
        "def quitar_links(texto):\n",
        "    regex= r\"http\\S+\"\n",
        "    texto = re.sub(regex,\"\",texto)\n",
        "    return texto\n",
        "\n",
        " #Recibe una lista de comentarios y la recorre para aplicar RemoveLinks a cada comentario. Retorna la lista de comentarios sin links.\n",
        "def quitar_links_lista(lista_comentarios):\n",
        "    texto_limpio = [quitar_links(comentario) for comentario in lista_comentarios]\n",
        "    return texto_limpio\n",
        "\n"
      ],
      "metadata": {
        "id": "UjUnDi95Zjff"
      },
      "execution_count": null,
      "outputs": []
    },
    {
      "cell_type": "code",
      "source": [
        "#Demostración:\n",
        "prueba= listagrande[3]\n",
        "print(prueba)\n",
        "quitar_links(prueba)"
      ],
      "metadata": {
        "colab": {
          "base_uri": "https://localhost:8080/",
          "height": 75
        },
        "id": "80omDuz5PJPu",
        "outputId": "d1ee1dfb-2ab0-49d5-8174-5fdabe5ab49f"
      },
      "execution_count": null,
      "outputs": [
        {
          "output_type": "stream",
          "name": "stdout",
          "text": [
            "ahora saldra marhuenda diciendi que todo ha sido un montaje de podemos venezuelA y maduro con la intervencion de eta bildu y los independentistas  catalanes\r[PHOTO] https://scontent.fidr4-1.fna.fbcdn.net/v/t39.1997-6/10333122_298592793654253_1393149385_n.png?_nc_cat=1&ccb=1-7&_nc_sid=ac3552&_nc_ohc=fHFtlwCAey4AX8u6x9C&_nc_ht=scontent.fidr4-1.fna&oh=00_AT-5oxdjGsSd2iJuMpj_UWfdQKcVdmqOeldZv1ATpisFTQ&oe=62DEB09B\n"
          ]
        },
        {
          "output_type": "execute_result",
          "data": {
            "text/plain": [
              "'ahora saldra marhuenda diciendi que todo ha sido un montaje de podemos venezuelA y maduro con la intervencion de eta bildu y los independentistas  catalanes\\r[PHOTO] '"
            ],
            "application/vnd.google.colaboratory.intrinsic+json": {
              "type": "string"
            }
          },
          "metadata": {},
          "execution_count": 32
        }
      ]
    },
    {
      "cell_type": "code",
      "source": [
        "#Recibe una cadena de texto y lo devuelve sin puntuación:\n",
        "def quitar_puntuacion(texto): \n",
        "    puntuacion = '¡!\"$%&\\'()*+,-./:;<=>¿?[\\]^_`{|}~'\n",
        "    return re.sub('[%s]' % re.escape(puntuacion), ' ', texto)"
      ],
      "metadata": {
        "id": "4_fjUk_HaGQ2"
      },
      "execution_count": null,
      "outputs": []
    },
    {
      "cell_type": "code",
      "source": [
        "#Demostración:\n",
        "prueba= listagrande[190]\n",
        "print(prueba)\n",
        "quitar_puntuacion(prueba)"
      ],
      "metadata": {
        "colab": {
          "base_uri": "https://localhost:8080/",
          "height": 93
        },
        "id": "Hj-HnoVhPfVH",
        "outputId": "29d8a171-eee5-4740-adbb-8ec66b281ad1"
      },
      "execution_count": null,
      "outputs": [
        {
          "output_type": "stream",
          "name": "stdout",
          "text": [
            "SI ESTE GIRIPA DE CASADO Y TEODORO NO DIMINTEN EL PP SE VA AL PRECIPICIO EN CAIDA LIBRE, YA NO TE CREEN LOS VOTANTES, CASADO EL TUFILLO QUE VAS DEJANDO TE DELATA EL FRACASO EN LAS PROXIMAS ELECCIONES SI QUIERES SALVAR AL PP DIMITE O CONVOCA EL CONGRESO NACIONAL.\n"
          ]
        },
        {
          "output_type": "execute_result",
          "data": {
            "text/plain": [
              "'SI ESTE GIRIPA DE CASADO Y TEODORO NO DIMINTEN EL PP SE VA AL PRECIPICIO EN CAIDA LIBRE  YA NO TE CREEN LOS VOTANTES  CASADO EL TUFILLO QUE VAS DEJANDO TE DELATA EL FRACASO EN LAS PROXIMAS ELECCIONES SI QUIERES SALVAR AL PP DIMITE O CONVOCA EL CONGRESO NACIONAL '"
            ],
            "application/vnd.google.colaboratory.intrinsic+json": {
              "type": "string"
            }
          },
          "metadata": {},
          "execution_count": 35
        }
      ]
    },
    {
      "cell_type": "code",
      "source": [
        "#Recibe una cadena de texto, lo pone en minúsuclas y sustituye las vocales con tílde por vocales simples.\n",
        "def quitar_acentos(texto):   \n",
        "    a = 'áàäâ'\n",
        "    e = 'éèëê'\n",
        "    i = 'íìïî'\n",
        "    o = 'óòöô'\n",
        "    u = 'úùüû'\n",
        "    texto_rev = texto.lower()\n",
        "    texto_rev = re.sub('[%s]' % re.escape(a), 'a', texto_rev)\n",
        "    texto_rev = re.sub('[%s]' % re.escape(e), 'e', texto_rev)\n",
        "    texto_rev = re.sub('[%s]' % re.escape(i), 'i', texto_rev)\n",
        "    texto_rev = re.sub('[%s]' % re.escape(o), 'o', texto_rev)\n",
        "    texto_rev = re.sub('[%s]' % re.escape(u), 'u', texto_rev)\n",
        "    return texto_rev"
      ],
      "metadata": {
        "id": "hNy4FBctavbJ"
      },
      "execution_count": null,
      "outputs": []
    },
    {
      "cell_type": "code",
      "source": [
        "#Demostración:\n",
        "prueba= listagrande[190]\n",
        "print(prueba)\n",
        "quitar_acentos(prueba)"
      ],
      "metadata": {
        "colab": {
          "base_uri": "https://localhost:8080/",
          "height": 93
        },
        "id": "cO69PWmePqVM",
        "outputId": "cf7613ac-d4a8-47d7-f17c-de2f0ec04e08"
      },
      "execution_count": null,
      "outputs": [
        {
          "output_type": "stream",
          "name": "stdout",
          "text": [
            "SI ESTE GIRIPA DE CASADO Y TEODORO NO DIMINTEN EL PP SE VA AL PRECIPICIO EN CAIDA LIBRE, YA NO TE CREEN LOS VOTANTES, CASADO EL TUFILLO QUE VAS DEJANDO TE DELATA EL FRACASO EN LAS PROXIMAS ELECCIONES SI QUIERES SALVAR AL PP DIMITE O CONVOCA EL CONGRESO NACIONAL.\n"
          ]
        },
        {
          "output_type": "execute_result",
          "data": {
            "text/plain": [
              "'si este giripa de casado y teodoro no diminten el pp se va al precipicio en caida libre, ya no te creen los votantes, casado el tufillo que vas dejando te delata el fracaso en las proximas elecciones si quieres salvar al pp dimite o convoca el congreso nacional.'"
            ],
            "application/vnd.google.colaboratory.intrinsic+json": {
              "type": "string"
            }
          },
          "metadata": {},
          "execution_count": 39
        }
      ]
    },
    {
      "cell_type": "code",
      "source": [
        "#Recibe una cadena de texto, lo recorre sustituyendo las abreviaturas por la palabra completa. \n",
        "def quitar_gazapos(texto):\n",
        "    ques = r\"\\sq\\s|\\sqe\\s|\\sk\\s\"\n",
        "    des = r'\\sd\\s'\n",
        "    cons = r'\\scn\\s'\n",
        "    tbs = r\"\\stbn|\\stb\"\n",
        "    pors = r'\\sx\\s'\n",
        "    porques = r\"xqe\\s|pqe\\s|porq\\s|xq\\s|pq\\s\"\n",
        "    aunques = r'\\saunq\\s'\n",
        "   \n",
        "    texto_re = re.sub(tbs, ' tambien', texto)\n",
        "    texto_re = re.sub(des, ' de ', texto_re)\n",
        "    texto_re = re.sub(cons, ' con ', texto_re)\n",
        "    texto_re = re.sub(pors, ' por ', texto_re)\n",
        "    texto_re = re.sub(porques, ' porque ', texto_re)\n",
        "    texto_re = re.sub(aunques, ' aunque ', texto_re)\n",
        "    texto_re = re.sub(ques, ' que ', \" \" + texto_re)\n",
        "    return texto_re  "
      ],
      "metadata": {
        "id": "rryQ1CmtbCcQ"
      },
      "execution_count": null,
      "outputs": []
    },
    {
      "cell_type": "code",
      "source": [
        "#Demostración:\n",
        "prueba= \"hola q tal\" \n",
        "print(prueba)\n",
        "quitar_gazapos(prueba)"
      ],
      "metadata": {
        "colab": {
          "base_uri": "https://localhost:8080/",
          "height": 55
        },
        "id": "hi7_I7UJP1Dm",
        "outputId": "618f98e8-055c-4f43-d311-ca8c03a9aaab"
      },
      "execution_count": null,
      "outputs": [
        {
          "output_type": "stream",
          "name": "stdout",
          "text": [
            "hola q tal\n"
          ]
        },
        {
          "output_type": "execute_result",
          "data": {
            "text/plain": [
              "' hola que tal'"
            ],
            "application/vnd.google.colaboratory.intrinsic+json": {
              "type": "string"
            }
          },
          "metadata": {},
          "execution_count": 43
        }
      ]
    },
    {
      "cell_type": "code",
      "source": [
        "#Recibe un comentario, quita los links (http+), quita las tíldes y pone en minúscula, limpia la puntuación y quita los espacios de más. Devuelve el comentario limpio.   \n",
        "def limpiar_com(comentario): \n",
        "    comentario_limpio = quitar_links(comentario)\n",
        "    comentario_limpio = quitar_acentos(comentario_limpio)\n",
        "    comentario_limpio = quitar_puntuacion(comentario_limpio)\n",
        "    comentario_limpio = quitar_gazapos(comentario_limpio)\n",
        "    comentario_limpio = ' '.join(comentario_limpio.split())\n",
        "    \n",
        "    return comentario_limpio\n",
        "\n",
        " #Recibe una lista de comentarios (str) y realiza la limpieza completa:links, tíldes, puntuación, pone en minúscula y quita los espacios de más. Devuelve la lista de comentarios limpia.\n",
        "def primera_limpieza(lista_comentarios):\n",
        "    lista_comentarios_limpia = []\n",
        "    for comentario in lista_comentarios:\n",
        "        \n",
        "        comentario = quitar_links(comentario)\n",
        "        comentario = quitar_acentos(comentario)\n",
        "        comentario = quitar_puntuacion(comentario)\n",
        "        comentario = quitar_gazapos(comentario)\n",
        "        comentario = ' '.join(comentario.split( ))\n",
        "        \n",
        "        lista_comentarios_limpia.append(comentario)\n",
        "    return lista_comentarios_limpia   "
      ],
      "metadata": {
        "id": "HTAkyA2Fbo_n"
      },
      "execution_count": null,
      "outputs": []
    },
    {
      "cell_type": "code",
      "source": [
        "#Demostración:\n",
        "prueba= listagrande[190]\n",
        "print(prueba)\n",
        "limpiar_com(prueba)"
      ],
      "metadata": {
        "colab": {
          "base_uri": "https://localhost:8080/",
          "height": 93
        },
        "id": "ZthabWLARKL9",
        "outputId": "218c889b-ee48-4883-b5a4-7a9468173836"
      },
      "execution_count": null,
      "outputs": [
        {
          "output_type": "stream",
          "name": "stdout",
          "text": [
            "SI ESTE GIRIPA DE CASADO Y TEODORO NO DIMINTEN EL PP SE VA AL PRECIPICIO EN CAIDA LIBRE, YA NO TE CREEN LOS VOTANTES, CASADO EL TUFILLO QUE VAS DEJANDO TE DELATA EL FRACASO EN LAS PROXIMAS ELECCIONES SI QUIERES SALVAR AL PP DIMITE O CONVOCA EL CONGRESO NACIONAL.\n"
          ]
        },
        {
          "output_type": "execute_result",
          "data": {
            "text/plain": [
              "'si este giripa de casado y teodoro no diminten el pp se va al precipicio en caida libre ya no te creen los votantes casado el tufillo que vas dejando te delata el fracaso en las proximas elecciones si quieres salvar al pp dimite o convoca el congreso nacional'"
            ],
            "application/vnd.google.colaboratory.intrinsic+json": {
              "type": "string"
            }
          },
          "metadata": {},
          "execution_count": 45
        }
      ]
    },
    {
      "cell_type": "markdown",
      "source": [
        "# Procesamiento de comentarios depurados."
      ],
      "metadata": {
        "id": "DC6L9d2QfhBn"
      }
    },
    {
      "cell_type": "markdown",
      "source": [
        "Ahora procedemos al segundo procesamiento de los comentarios, del que obtenemos las proporciones de la presencia de verbos de opinión, conectores de texto e insultos. "
      ],
      "metadata": {
        "id": "MFWBnPZxfkM-"
      }
    },
    {
      "cell_type": "code",
      "source": [
        "#Recibe una cadena de texto y busca los conectores de la lista en el texto. Los suma y acumula en total_conect. Tokeniza el texto, calcula la longitud y devuelve la proporción de conectores en el texto.\n",
        "def buscar_num_conect(texto):\n",
        "    conectores = ['a proposito', 'ahora bien', 'de hecho', 'debido a', 'en cambio', 'en cualquier caso', 'en realidad', 'en todo caso', 'es decir', 'no obstante', 'o sea', 'pero', 'por el contrario', 'por eso', 'por lo tanto', 'por que', 'por tanto', 'porque', 'sin embargo']\n",
        "    total_contect = 0\n",
        "    for conector in conectores:\n",
        "        resultado = re.findall(conector, texto)\n",
        "        total_contect = total_contect + len(resultado)\n",
        "        \n",
        "    num_tokens = len(word_tokenize(texto)) # num de palabras/tokens del texto\n",
        "    \n",
        "    try:\n",
        "        proporcion = total_contect/num_tokens # proporción de contectores en el texto\n",
        "        \n",
        "    except ZeroDivisionError:\n",
        "        proporcion = 0.0\n",
        "        \n",
        "    return proporcion\n",
        "\n",
        "        \n",
        "def buscar_num_conect_lista(lista_comentarios):\n",
        "    \n",
        "    analisis = [buscar_num_conect(comentario) for comentario in lista_comentarios]\n",
        "    return analisis"
      ],
      "metadata": {
        "id": "c6efTKLDfj47"
      },
      "execution_count": null,
      "outputs": []
    },
    {
      "cell_type": "code",
      "source": [
        "#Demostración:\n",
        "prueba= listagrande[190]\n",
        "print(prueba)\n",
        "buscar_num_conect(prueba)"
      ],
      "metadata": {
        "colab": {
          "base_uri": "https://localhost:8080/"
        },
        "id": "uNdSGSBFRv5T",
        "outputId": "fdc712d3-57b4-40b3-cb15-29ab146d0ec9"
      },
      "execution_count": null,
      "outputs": [
        {
          "output_type": "stream",
          "name": "stdout",
          "text": [
            "SI ESTE GIRIPA DE CASADO Y TEODORO NO DIMINTEN EL PP SE VA AL PRECIPICIO EN CAIDA LIBRE, YA NO TE CREEN LOS VOTANTES, CASADO EL TUFILLO QUE VAS DEJANDO TE DELATA EL FRACASO EN LAS PROXIMAS ELECCIONES SI QUIERES SALVAR AL PP DIMITE O CONVOCA EL CONGRESO NACIONAL.\n"
          ]
        },
        {
          "output_type": "execute_result",
          "data": {
            "text/plain": [
              "0.0"
            ]
          },
          "metadata": {},
          "execution_count": 47
        }
      ]
    },
    {
      "cell_type": "code",
      "source": [
        "#Recibe una cadena de texto y busca los insultos de la lista en el texto. Los suma y acumula el total en 'total_insultos'. Tokeniza el texto y calcula la longitud (len). Devuelve la proporción de conectores en el texto.\n",
        "def buscar_insultos(texto):\n",
        "  insultos= [\"gilipollas\", \"imbécil\",\"imbéciles\",\"cabrón\", \"cabrona\", \"cabrones\", \"subnormal\", \"hijoputa\", \"hijaputa\", \"tonto\",\"tonta\",\"tontos\",\"idiota\", \"capullo\", \"capulla\", \"capullos\", \"idiotas\", \"payaso\", \"payasa\", \"payasos\", \"subnormales\", \"sinvergüenzas\", \"sinverguenzas\", \"ladrones\",\"morosos\",\"mafiosos\", \"mafioso\", \"mafiosa\"]\n",
        "  total_insultos= 0\n",
        "  for insulto in insultos:\n",
        "    resultado = re.findall(insulto, texto)\n",
        "    total_insultos = total_insultos + len(resultado)\n",
        "        \n",
        "    num_tokens = len(word_tokenize(texto))\n",
        "\n",
        "\n",
        "    try:\n",
        "        proporcion = total_insultos/num_tokens # proporción de insultos en el texto\n",
        "        \n",
        "    except ZeroDivisionError:\n",
        "        proporcion = 0.0\n",
        "        \n",
        "    return proporcion\n",
        "\n",
        "        \n",
        "def buscar_num_insultos_lista(lista_comentarios):\n",
        "    \n",
        "    analisis = [buscar_insultos(comentario) for comentario in lista_comentarios]\n",
        "    return analisis"
      ],
      "metadata": {
        "id": "EShrQv85JXax"
      },
      "execution_count": null,
      "outputs": []
    },
    {
      "cell_type": "code",
      "source": [
        "#Demostración:\n",
        "prueba= listagrande[190]\n",
        "print(prueba)\n",
        "buscar_insultos(prueba)"
      ],
      "metadata": {
        "colab": {
          "base_uri": "https://localhost:8080/"
        },
        "id": "-h5Dyvd8SOAZ",
        "outputId": "964468b7-4a21-4943-e642-ff792892354f"
      },
      "execution_count": null,
      "outputs": [
        {
          "output_type": "stream",
          "name": "stdout",
          "text": [
            "SI ESTE GIRIPA DE CASADO Y TEODORO NO DIMINTEN EL PP SE VA AL PRECIPICIO EN CAIDA LIBRE, YA NO TE CREEN LOS VOTANTES, CASADO EL TUFILLO QUE VAS DEJANDO TE DELATA EL FRACASO EN LAS PROXIMAS ELECCIONES SI QUIERES SALVAR AL PP DIMITE O CONVOCA EL CONGRESO NACIONAL.\n"
          ]
        },
        {
          "output_type": "execute_result",
          "data": {
            "text/plain": [
              "0.0"
            ]
          },
          "metadata": {},
          "execution_count": 49
        }
      ]
    },
    {
      "cell_type": "code",
      "source": [
        "#Recibe una cadena de texto, aplica la función tool.check para encontrar las faltas ortográficas. Las cuenta con el método len, junto a la longitud del texto. Devuelve la proporción de faltas.\n",
        "def contar_faltas(comentario):\n",
        "\n",
        "    errores= tool.check(comentario)\n",
        "    total_errores= len(errores)\n",
        "    if total_errores >0:\n",
        "      proporcion= (total_errores)/(len(comentario.split()))\n",
        "    else: \n",
        "      proporcion= 0\n",
        "    return proporcion"
      ],
      "metadata": {
        "id": "_kpOMT16Hrqg"
      },
      "execution_count": null,
      "outputs": []
    },
    {
      "cell_type": "code",
      "source": [
        "#Demostración:\n",
        "prueba= listagrande[190]\n",
        "print(prueba)\n",
        "contar_faltas(prueba)"
      ],
      "metadata": {
        "colab": {
          "base_uri": "https://localhost:8080/"
        },
        "id": "QzTYqpDaScca",
        "outputId": "93af0e05-f46c-4944-d3e6-6358b9365f23"
      },
      "execution_count": null,
      "outputs": [
        {
          "output_type": "stream",
          "name": "stdout",
          "text": [
            "SI ESTE GIRIPA DE CASADO Y TEODORO NO DIMINTEN EL PP SE VA AL PRECIPICIO EN CAIDA LIBRE, YA NO TE CREEN LOS VOTANTES, CASADO EL TUFILLO QUE VAS DEJANDO TE DELATA EL FRACASO EN LAS PROXIMAS ELECCIONES SI QUIERES SALVAR AL PP DIMITE O CONVOCA EL CONGRESO NACIONAL.\n"
          ]
        },
        {
          "output_type": "execute_result",
          "data": {
            "text/plain": [
              "0.10204081632653061"
            ]
          },
          "metadata": {},
          "execution_count": 51
        }
      ]
    },
    {
      "cell_type": "code",
      "source": [
        "#Detección de verbos de opinión\n",
        "#Recuerda importar SpaCy y su paquete en español\n",
        "\n",
        "spacy.cli.download('es_core_news_sm')\n",
        "nlp = spacy.load('es_core_news_sm')\n",
        "\n",
        "#Recibe una cadena de texto y la procesa con SpaCy para la identificación POS. Devuelve el texto etiquetado. \n",
        "def an_spacy(frase):\n",
        "    \"\"\"Recibe una frase o texto, la procesa con spaCy \n",
        "    para identificación POS. Retorna el texto etiquetado.\"\"\"\n",
        "    \n",
        "    analisis = []\n",
        "    doc = nlp(frase)\n",
        "    for token in doc:\n",
        "        analisis.append((token.text, token.pos_))\n",
        "    return analisis\n",
        "\n",
        "#En primer lugar, hallamos la raíz de los verbos en cuestión y creamos una lista con las raíces. \n",
        "lista_vbs = ['considerar', 'creer', 'cuestionar', 'discutir', 'explicar', 'imaginar', 'opinar', 'pensar', 'proponer', 'sospechar', 'sostener', 'suponer']\n",
        "lista_stem = []\n",
        "for verbo in lista_vbs:\n",
        "    es_stemmer = SnowballStemmer('spanish')\n",
        "    raiz = es_stemmer.stem(verbo)\n",
        "    lista_stem.append(raiz)\n",
        "print(lista_stem)\n",
        "\n",
        "#Recibe una cadena de texto, aplica la función POS para identificar los verbos, les aplica stemmer y lo acumula. Devuelve la lista de ráíces.\n",
        "def obtener_raiz_vbs(comentario):\n",
        "    etiquetado = an_spacy(comentario) # POS identificar verbos\n",
        "    es_stemmer = SnowballStemmer('spanish')\n",
        "    \n",
        "    lista_stemas = []\n",
        "    \n",
        "    for tupla in etiquetado:\n",
        "        if tupla[1] == 'VERB':\n",
        "            stema = es_stemmer.stem(tupla[0])\n",
        "            lista_stemas.append(stema)    \n",
        "    return lista_stemas\n",
        "\n",
        "#Recibe una cadena de texto, aplica la función obtener_raiz_vbs y compara el resultado con la lista de verbos de opinión. Tokeniza el texto y calcula la longitud con len. Devuelve la proporción de estos verbos.\n",
        "def buscar_num_vbs(comentario): \n",
        "    lista_raices = obtener_raiz_vbs(comentario)\n",
        "    \n",
        "\n",
        "    lista_stem = ['consider', 'cre', 'cuestion', 'discut', 'explic', 'imagin', 'opin', 'pens', 'propon', 'sospech', 'sosten', 'supon', \"coment\"]\n",
        "    total_vbs = 0\n",
        "    for verbo in lista_stem:\n",
        "        resultado = re.findall(verbo, comentario)\n",
        "        total_vbs = total_vbs + len(resultado)\n",
        "\n",
        "    # num de palabras/tokens del comentario\n",
        "    num_tokens = len(word_tokenize(comentario)) \n",
        "    \n",
        "    try:\n",
        "        # proporción de verbos en el texto\n",
        "        proporcion_vbs = total_vbs/num_tokens \n",
        "        \n",
        "    except ZeroDivisionError:\n",
        "        proporcion_vbs = 0.0\n",
        "        \n",
        "    return proporcion_vbs\n",
        "\n",
        "#Recibe una lista de comentarios y aplica la función buscar_num_vebs a cada comentario\n",
        "def buscar_num_vbs_lista(lista_comentarios):\n",
        "    \n",
        "    analisis = [buscar_num_vbs(comentario) for comentario in lista_comentarios]\n",
        "    return analisis"
      ],
      "metadata": {
        "colab": {
          "base_uri": "https://localhost:8080/"
        },
        "id": "cznAVnudIjbW",
        "outputId": "d6108e18-6f43-481a-83d1-8c2f4d661b37"
      },
      "execution_count": null,
      "outputs": [
        {
          "output_type": "stream",
          "name": "stdout",
          "text": [
            "\u001b[38;5;2m✔ Download and installation successful\u001b[0m\n",
            "You can now load the package via spacy.load('es_core_news_sm')\n",
            "['consider', 'cre', 'cuestion', 'discut', 'explic', 'imagin', 'opin', 'pens', 'propon', 'sospech', 'sosten', 'supon']\n"
          ]
        }
      ]
    },
    {
      "cell_type": "code",
      "source": [
        "#Demostración:\n",
        "prueba= listagrande[190]\n",
        "print(prueba)\n",
        "buscar_num_vbs(prueba)"
      ],
      "metadata": {
        "colab": {
          "base_uri": "https://localhost:8080/"
        },
        "id": "JcxqY5rcTCGC",
        "outputId": "9e13a346-bbb7-4207-d652-91d8f75fca53"
      },
      "execution_count": null,
      "outputs": [
        {
          "output_type": "stream",
          "name": "stdout",
          "text": [
            "SI ESTE GIRIPA DE CASADO Y TEODORO NO DIMINTEN EL PP SE VA AL PRECIPICIO EN CAIDA LIBRE, YA NO TE CREEN LOS VOTANTES, CASADO EL TUFILLO QUE VAS DEJANDO TE DELATA EL FRACASO EN LAS PROXIMAS ELECCIONES SI QUIERES SALVAR AL PP DIMITE O CONVOCA EL CONGRESO NACIONAL.\n"
          ]
        },
        {
          "output_type": "execute_result",
          "data": {
            "text/plain": [
              "0.0"
            ]
          },
          "metadata": {},
          "execution_count": 54
        }
      ]
    },
    {
      "cell_type": "code",
      "source": [
        "#Función que dada una lista de comentarios aplica todas las métricas definidas anteriormente:\n",
        "def metrica_coms(lista_coms):\n",
        "  result= []\n",
        "  for comentario in lista_coms:\n",
        "\n",
        "    \n",
        "    cmayus=contar_mayus(comentario)\n",
        "    cexcl=contar_exclamaciones(comentario)\n",
        "    cverbs=buscar_num_vbs(comentario)\n",
        "    cemojis=contar_emojis(comentario)\n",
        "    cconect=buscar_num_conect(comentario)\n",
        "    cinsultos=buscar_insultos(comentario)\n",
        "    cufalta=contar_faltas(comentario)\n",
        "\n",
        "    \n",
        "\n",
        "\n",
        "    tupla=[comentario,cmayus,cexcl,cverbs,cemojis,cufalta]\n",
        "    result.append(tupla)\n",
        "  return result\n",
        "\n",
        "def metrica_com (comentario):\n",
        "  result= []\n",
        "  cmayus=contar_mayus(comentario)\n",
        "  cexcl=contar_exclamaciones(comentario)\n",
        "  cverbs=buscar_num_vbs(comentario)\n",
        "  cemojis=contar_emojis(comentario)\n",
        "  cconect=buscar_num_conect(comentario)\n",
        "  cinsultos=buscar_insultos(comentario)\n",
        "  cufalta=contar_faltas(comentario)\n",
        "\n",
        "    \n",
        "\n",
        "\n",
        "  tupla=[comentario,cmayus,cexcl,cverbs,cemojis,cufalta]\n",
        "  result.append(tupla)\n",
        "  return result\n"
      ],
      "metadata": {
        "id": "wC301Utvcfc-"
      },
      "execution_count": null,
      "outputs": []
    },
    {
      "cell_type": "code",
      "source": [
        "#Demostración:\n",
        "prueba= listagrande[190]\n",
        "print(prueba)\n",
        "metrica_com(prueba)"
      ],
      "metadata": {
        "colab": {
          "base_uri": "https://localhost:8080/"
        },
        "id": "D8LVjT9kTNcJ",
        "outputId": "ca0d08b6-9faf-49fb-f70c-ea3503c34775"
      },
      "execution_count": null,
      "outputs": [
        {
          "output_type": "stream",
          "name": "stdout",
          "text": [
            "SI ESTE GIRIPA DE CASADO Y TEODORO NO DIMINTEN EL PP SE VA AL PRECIPICIO EN CAIDA LIBRE, YA NO TE CREEN LOS VOTANTES, CASADO EL TUFILLO QUE VAS DEJANDO TE DELATA EL FRACASO EN LAS PROXIMAS ELECCIONES SI QUIERES SALVAR AL PP DIMITE O CONVOCA EL CONGRESO NACIONAL.\n"
          ]
        },
        {
          "output_type": "execute_result",
          "data": {
            "text/plain": [
              "[['SI ESTE GIRIPA DE CASADO Y TEODORO NO DIMINTEN EL PP SE VA AL PRECIPICIO EN CAIDA LIBRE, YA NO TE CREEN LOS VOTANTES, CASADO EL TUFILLO QUE VAS DEJANDO TE DELATA EL FRACASO EN LAS PROXIMAS ELECCIONES SI QUIERES SALVAR AL PP DIMITE O CONVOCA EL CONGRESO NACIONAL.',\n",
              "  0.8053435114503816,\n",
              "  0.0,\n",
              "  0.0,\n",
              "  0,\n",
              "  0.10204081632653061]]"
            ]
          },
          "metadata": {},
          "execution_count": 62
        }
      ]
    },
    {
      "cell_type": "markdown",
      "source": [
        "# Creación de un excel para el etiquetado manual de los datos."
      ],
      "metadata": {
        "id": "UEfTptTGARlR"
      }
    },
    {
      "cell_type": "code",
      "source": [
        "#Creación del excel\n",
        "workbook = xlsxwriter.Workbook('/content/drive/MyDrive/TFM/publicoyconfidencial.xlsx')\n",
        "worksheet = workbook.add_worksheet()\n",
        "\n",
        "row = 0\n",
        "col = 0\n",
        "\n",
        "for comentario in listagrande:\n",
        "    worksheet.write(row, col, comentario)\n",
        "    row = row + 1 \n",
        "\n",
        "workbook.close()"
      ],
      "metadata": {
        "id": "O7_cX0S9A68w"
      },
      "execution_count": null,
      "outputs": []
    },
    {
      "cell_type": "markdown",
      "source": [
        "# Lectura del Excel con el corpus etiquetado y creación del diccionario con las proporciones por comentario."
      ],
      "metadata": {
        "id": "MWLF1zhWHAQo"
      }
    },
    {
      "cell_type": "code",
      "source": [
        "#Recibe una ruta, abre y lee un Excel. Un bucle recorre cada celda por filas, generando un diccionario por cada comentario con las diferentes métricas. Almacena todos los diccionarios en una lista y devuelve dicha lista. \n",
        "def lista_com_procesados(ruta_excel):\n",
        "    with xlrd.open_workbook(ruta_excel) as libro:    \n",
        "\n",
        "        lista_etiquetada = []    \n",
        "\n",
        "        for hoja in libro.sheets():\n",
        "            for f in range(2,hoja.nrows):\n",
        "                fila = hoja.row(f)\n",
        "\n",
        "                com_etiquetado = {}\n",
        "\n",
        "                comentario_orig = fila[0].value\n",
        "                etiqueta = fila[1].value\n",
        "                comentario_limpio = limpiar_com(comentario_orig)\n",
        "\n",
        "\n",
        "                com_etiquetado['original'] = comentario_orig\n",
        "                com_etiquetado['etiqueta'] = etiqueta\n",
        "                com_etiquetado['com_limpio'] = comentario_limpio\n",
        "                com_etiquetado['prop_vbs'] = buscar_num_vbs(comentario_limpio)\n",
        "                com_etiquetado['prop_conectores'] = buscar_num_conect(comentario_limpio)\n",
        "                com_etiquetado['prop_exclamaciones'] = contar_exclamaciones(comentario_orig)\n",
        "                com_etiquetado['prop_mayus'] = contar_mayus(comentario_orig)\n",
        "                com_etiquetado['prop_emojis'] = emoji_count(comentario_orig)\n",
        "                com_etiquetado[\"prop_insultos\"]=buscar_insultos(comentario_limpio)\n",
        "                com_etiquetado[\"prop_faltas\"]=contar_faltas(comentario_orig)\n",
        "                \n",
        "\n",
        "                lista_etiquetada.append(com_etiquetado)\n",
        "\n",
        "    return lista_etiquetada\n",
        "\n",
        "\n",
        "lista_etiquetada = lista_com_procesados(\"/content/drive/MyDrive/TFM/publicoyconfidencial.xlsx\")    "
      ],
      "metadata": {
        "id": "CX1j9GWxBYgj"
      },
      "execution_count": null,
      "outputs": []
    },
    {
      "cell_type": "code",
      "source": [
        "#Recibe una ruta y el resultado de la función 'lista_com_procesados'. Abre un Excel nuevo en el que acumula todos los datos de la lista y cierra el Excel. \n",
        "def volcar_en_excel_nuevo(ruta_excel, lista_etiquetada): \n",
        "    with xlrd.open_workbook(ruta_excel) as libro_nuevo:  \n",
        "\n",
        "        libro_w = xlsxwriter.Workbook(\"/content/drive/MyDrive/TFM/comentarios_procesados.xlsx\")\n",
        "        hoja_BD = libro_w.add_worksheet('bd')\n",
        "\n",
        "        hoja_BD.write(0, 0, 'Comentario original')\n",
        "        hoja_BD.write(0, 1, 'Etiqueta')\n",
        "        hoja_BD.write(0, 2, 'Comentario limpio')\n",
        "        hoja_BD.write(0, 3, 'Proporción de verbos')\n",
        "        hoja_BD.write(0, 4, 'Proporción de conectores')\n",
        "        hoja_BD.write(0, 5, 'Proporción de exclamaciones')\n",
        "        hoja_BD.write(0, 6, 'Proporción de mayúsculas')\n",
        "        hoja_BD.write(0, 7, 'Proporción de emojis')\n",
        "        hoja_BD.write(0, 8, 'Proporción de insultos')\n",
        "        hoja_BD.write(0,9, \"Porporción de errores ortográficos\")\n",
        "\n",
        "        cabeceras = ['original', 'etiqueta', 'com_limpio', 'prop_vbs', 'prop_conectores', 'prop_exclamaciones', 'prop_mayus', 'prop_emojis',\"prop_insultos\", \"prop_faltas\"]\n",
        "\n",
        "\n",
        "        for row, _dict in enumerate(lista_etiquetada):\n",
        "            for col, key in enumerate(cabeceras):\n",
        "                hoja_BD.write(row + 1, col, _dict[key])\n",
        "\n",
        "    libro_w.close()\n",
        "volcar_en_excel_nuevo(\"/content/drive/MyDrive/TFM/listacomentarios.xlsx\",lista_etiquetada)    "
      ],
      "metadata": {
        "id": "VHQf-H8aBYa-"
      },
      "execution_count": null,
      "outputs": []
    },
    {
      "cell_type": "markdown",
      "source": [
        "Conversión de la lista en un Dataframe para facilitar el entrenamiento del modelo. "
      ],
      "metadata": {
        "id": "WzfPyr5RJs_U"
      }
    },
    {
      "cell_type": "code",
      "source": [
        "df1 = pd.DataFrame.from_dict(lista_etiquetada)\n",
        "print(df1)"
      ],
      "metadata": {
        "colab": {
          "base_uri": "https://localhost:8080/"
        },
        "id": "9PpMR40CJ2Bs",
        "outputId": "74d0ef0d-af37-4547-c4f8-ab19e5c15d31"
      },
      "execution_count": null,
      "outputs": [
        {
          "output_type": "stream",
          "name": "stdout",
          "text": [
            "                                              original    etiqueta  \\\n",
            "0    Y SIGUEN LLENANDO LOS BOLSILLOS ,,,UN PARTIDO ...  no emotivo   \n",
            "1    ahora saldra marhuenda diciendi que todo ha si...     emotivo   \n",
            "2    Nada , la oposición lo llevará a Fiscalía y .....     emotivo   \n",
            "3    Hace días lo comenté, que entre corructos y la...     emotivo   \n",
            "4    Alguien se la ha tenido que enviar,pero se la ...     emotivo   \n",
            "..                                                 ...         ...   \n",
            "189         CASADO A IDO A POR LANA..Y A SALIDO PELAO.     emotivo   \n",
            "190  Isabel Díaz Ayuso y Feijoo a Génova .Pablo Cas...     emotivo   \n",
            "191  Cuánto pagan a las encuestas? Ayuso,cuántos an...     emotivo   \n",
            "192  ESTAMOS APAÑADOS CON LA SANTA ISABEL AGENDA 2030.     emotivo   \n",
            "193             Huyen las ratas del barco que se hunde     emotivo   \n",
            "\n",
            "                                            com_limpio  prop_vbs  \\\n",
            "0    y siguen llenando los bolsillos un partido lle...  0.000000   \n",
            "1    ahora saldra marhuenda diciendi que todo ha si...  0.000000   \n",
            "2    nada la oposicion lo llevara a fiscalia y se a...  0.000000   \n",
            "3    hace dias lo comente que entre corructos y lad...  0.045455   \n",
            "4    alguien se la ha tenido que enviar pero se la ...  0.000000   \n",
            "..                                                 ...       ...   \n",
            "189           casado a ido a por lana y a salido pelao  0.000000   \n",
            "190  isabel diaz ayuso y feijoo a genova pablo casa...  0.000000   \n",
            "191  cuanto pagan a las encuestas ayuso cuantos anc...  0.000000   \n",
            "192   estamos apañados con la santa isabel agenda 2030  0.000000   \n",
            "193             huyen las ratas del barco que se hunde  0.000000   \n",
            "\n",
            "     prop_conectores  prop_exclamaciones  prop_mayus  prop_emojis  \\\n",
            "0           0.000000            0.000000    0.831461            0   \n",
            "1           0.000000            0.002427    0.084951            0   \n",
            "2           0.000000            0.026316    0.039474            0   \n",
            "3           0.000000            0.000000    0.008850            0   \n",
            "4           0.058824            0.000000    0.011765            0   \n",
            "..               ...                 ...         ...          ...   \n",
            "189         0.000000            0.000000    0.738095            0   \n",
            "190         0.000000            0.008130    0.105691            0   \n",
            "191         0.000000            0.015748    0.031496            0   \n",
            "192         0.000000            0.000000    0.755102            0   \n",
            "193         0.000000            0.000000    0.026316            0   \n",
            "\n",
            "     prop_insultos  prop_faltas  \n",
            "0              0.0     0.000000  \n",
            "1              0.0     0.370370  \n",
            "2              0.0     0.250000  \n",
            "3              0.0     0.045455  \n",
            "4              0.0     0.133333  \n",
            "..             ...          ...  \n",
            "189            0.0     0.222222  \n",
            "190            0.0     0.173913  \n",
            "191            0.0     0.105263  \n",
            "192            0.0     0.000000  \n",
            "193            0.0     0.000000  \n",
            "\n",
            "[194 rows x 10 columns]\n"
          ]
        }
      ]
    },
    {
      "cell_type": "markdown",
      "source": [
        "# Entrenamiento de los modelos:"
      ],
      "metadata": {
        "id": "TTnXUruKKDta"
      }
    },
    {
      "cell_type": "code",
      "source": [
        "#Definición de las variables\n",
        "X= df1[[\"prop_vbs\",\"prop_conectores\",\"prop_exclamaciones\",\"prop_mayus\",\"prop_emojis\",\"prop_insultos\",\"prop_faltas\"]]\n",
        "y=df1[\"etiqueta\"]\n",
        "print(X)\n",
        "print(y)"
      ],
      "metadata": {
        "colab": {
          "base_uri": "https://localhost:8080/"
        },
        "id": "47uhiNEJKJ37",
        "outputId": "a503d7d1-f843-40db-a735-0e167984bea3"
      },
      "execution_count": null,
      "outputs": [
        {
          "output_type": "stream",
          "name": "stdout",
          "text": [
            "     prop_vbs  prop_conectores  prop_exclamaciones  prop_mayus  prop_emojis  \\\n",
            "0    0.000000         0.000000            0.000000    0.831461            0   \n",
            "1    0.000000         0.000000            0.002427    0.084951            0   \n",
            "2    0.000000         0.000000            0.026316    0.039474            0   \n",
            "3    0.045455         0.000000            0.000000    0.008850            0   \n",
            "4    0.000000         0.058824            0.000000    0.011765            0   \n",
            "..        ...              ...                 ...         ...          ...   \n",
            "189  0.000000         0.000000            0.000000    0.738095            0   \n",
            "190  0.000000         0.000000            0.008130    0.105691            0   \n",
            "191  0.000000         0.000000            0.015748    0.031496            0   \n",
            "192  0.000000         0.000000            0.000000    0.755102            0   \n",
            "193  0.000000         0.000000            0.000000    0.026316            0   \n",
            "\n",
            "     prop_insultos  prop_faltas  \n",
            "0              0.0     0.000000  \n",
            "1              0.0     0.370370  \n",
            "2              0.0     0.250000  \n",
            "3              0.0     0.045455  \n",
            "4              0.0     0.133333  \n",
            "..             ...          ...  \n",
            "189            0.0     0.222222  \n",
            "190            0.0     0.173913  \n",
            "191            0.0     0.105263  \n",
            "192            0.0     0.000000  \n",
            "193            0.0     0.000000  \n",
            "\n",
            "[194 rows x 7 columns]\n",
            "0      no emotivo\n",
            "1         emotivo\n",
            "2         emotivo\n",
            "3         emotivo\n",
            "4         emotivo\n",
            "          ...    \n",
            "189       emotivo\n",
            "190       emotivo\n",
            "191       emotivo\n",
            "192       emotivo\n",
            "193       emotivo\n",
            "Name: etiqueta, Length: 194, dtype: object\n"
          ]
        }
      ]
    },
    {
      "cell_type": "code",
      "source": [
        "#Separación de los datos de entrenamiento y el conjunto de test\n",
        "X_train, X_test, y_train, y_test = train_test_split(X, y, test_size=0.20, random_state=27)"
      ],
      "metadata": {
        "id": "SEOOEoRGKV97"
      },
      "execution_count": null,
      "outputs": []
    },
    {
      "cell_type": "code",
      "source": [
        "#Modelo árbol de decisión: \n",
        "tree = DecisionTreeClassifier()\n",
        "tree.fit(X_train, y_train)\n",
        "\n",
        "#Modelo regresión logística: \n",
        "logreg_clf = LogisticRegression()\n",
        "logreg_clf.fit(X_train, y_train)\n",
        "\n",
        "#Modelo Kneighbors\n",
        "n_neighbors = 7\n",
        "knn = KNeighborsClassifier(n_neighbors)\n",
        "knn.fit(X_train, y_train)"
      ],
      "metadata": {
        "colab": {
          "base_uri": "https://localhost:8080/"
        },
        "id": "1k_JbWl9K8yU",
        "outputId": "ac2cbd86-6fa5-43af-cdd0-783f2822c463"
      },
      "execution_count": null,
      "outputs": [
        {
          "output_type": "execute_result",
          "data": {
            "text/plain": [
              "KNeighborsClassifier(n_neighbors=7)"
            ]
          },
          "metadata": {},
          "execution_count": 70
        }
      ]
    },
    {
      "cell_type": "markdown",
      "source": [
        "# Evaluación de los clasificadores:"
      ],
      "metadata": {
        "id": "Eiq3kQ0NU3I_"
      }
    },
    {
      "cell_type": "code",
      "source": [
        "#Modelo árbol de decisión: \n",
        "y_pred = tree.predict(X_test)\n",
        "acc = accuracy_score(y_test, y_pred)\n",
        "print(\"Tasa de acierto:\", acc)"
      ],
      "metadata": {
        "colab": {
          "base_uri": "https://localhost:8080/"
        },
        "id": "fMA_WsjNVGTI",
        "outputId": "a1932c55-ea6f-45b2-93f4-5e8b8f4114c7"
      },
      "execution_count": null,
      "outputs": [
        {
          "output_type": "stream",
          "name": "stdout",
          "text": [
            "Tasa de acierto: 0.5897435897435898\n"
          ]
        }
      ]
    },
    {
      "cell_type": "code",
      "source": [
        "#Modelo logística de regresión: \n",
        "y_pred = logreg_clf.predict(X_test)\n",
        "acc = accuracy_score(y_test, y_pred)\n",
        "print(\"Tasa de acierto:\", acc)"
      ],
      "metadata": {
        "colab": {
          "base_uri": "https://localhost:8080/"
        },
        "id": "6j2za6YRVcAD",
        "outputId": "b40b5843-bb56-4b48-fb36-73a7d4e0fcdf"
      },
      "execution_count": null,
      "outputs": [
        {
          "output_type": "stream",
          "name": "stdout",
          "text": [
            "Tasa de acierto: 0.7435897435897436\n"
          ]
        }
      ]
    },
    {
      "cell_type": "code",
      "source": [
        "#Modelo Kneighbors: \n",
        "y_pred = knn.predict(X_test)\n",
        "acc = accuracy_score(y_test, y_pred)\n",
        "print(\"Tasa de acierto:\", acc)"
      ],
      "metadata": {
        "colab": {
          "base_uri": "https://localhost:8080/"
        },
        "id": "DrMzVVSOVqGK",
        "outputId": "4be8a5c5-45f7-46fb-db36-6ce45e3570a3"
      },
      "execution_count": null,
      "outputs": [
        {
          "output_type": "stream",
          "name": "stdout",
          "text": [
            "Tasa de acierto: 0.6666666666666666\n"
          ]
        }
      ]
    },
    {
      "cell_type": "markdown",
      "source": [
        "# Generación de la matriz de confusión de cada uno de los modelos:"
      ],
      "metadata": {
        "id": "o5pfw6v1V0nt"
      }
    },
    {
      "cell_type": "code",
      "source": [
        "#Modelo árbol de decisión: \n",
        "plot_confusion_matrix(tree, X_test, y_test)\n",
        "plot.show()"
      ],
      "metadata": {
        "colab": {
          "base_uri": "https://localhost:8080/",
          "height": 336
        },
        "id": "izlSkoNvV6-A",
        "outputId": "c4939abf-1252-40e7-95eb-57ea84a1adba"
      },
      "execution_count": null,
      "outputs": [
        {
          "output_type": "stream",
          "name": "stderr",
          "text": [
            "/usr/local/lib/python3.7/dist-packages/sklearn/utils/deprecation.py:87: FutureWarning: Function plot_confusion_matrix is deprecated; Function `plot_confusion_matrix` is deprecated in 1.0 and will be removed in 1.2. Use one of the class methods: ConfusionMatrixDisplay.from_predictions or ConfusionMatrixDisplay.from_estimator.\n",
            "  warnings.warn(msg, category=FutureWarning)\n"
          ]
        },
        {
          "output_type": "display_data",
          "data": {
            "text/plain": [
              "<Figure size 432x288 with 2 Axes>"
            ],
            "image/png": "[encoded data removed]"
          },
          "metadata": {
            "needs_background": "light"
          }
        }
      ]
    },
    {
      "cell_type": "code",
      "source": [
        "#Modelo logística de regresión: \n",
        "plot_confusion_matrix(logreg_clf, X_test, y_test)\n",
        "plot.show()"
      ],
      "metadata": {
        "colab": {
          "base_uri": "https://localhost:8080/",
          "height": 336
        },
        "id": "sN26KLCsWDOR",
        "outputId": "a53de290-f154-4e17-964a-9c54c2fb9fc2"
      },
      "execution_count": null,
      "outputs": [
        {
          "output_type": "stream",
          "name": "stderr",
          "text": [
            "/usr/local/lib/python3.7/dist-packages/sklearn/utils/deprecation.py:87: FutureWarning: Function plot_confusion_matrix is deprecated; Function `plot_confusion_matrix` is deprecated in 1.0 and will be removed in 1.2. Use one of the class methods: ConfusionMatrixDisplay.from_predictions or ConfusionMatrixDisplay.from_estimator.\n",
            "  warnings.warn(msg, category=FutureWarning)\n"
          ]
        },
        {
          "output_type": "display_data",
          "data": {
            "text/plain": [
              "<Figure size 432x288 with 2 Axes>"
            ],
            "image/png": "[encoded data removed]"
          },
          "metadata": {
            "needs_background": "light"
          }
        }
      ]
    },
    {
      "cell_type": "code",
      "source": [
        "#Modelo Kneighbors: \n",
        "plot_confusion_matrix(knn, X_test, y_test)\n",
        "plot.show()"
      ],
      "metadata": {
        "colab": {
          "base_uri": "https://localhost:8080/",
          "height": 340
        },
        "id": "ioFEZTX8WO0S",
        "outputId": "4267123e-e955-4b14-87b2-703a2aedb185"
      },
      "execution_count": null,
      "outputs": [
        {
          "output_type": "stream",
          "name": "stderr",
          "text": [
            "/usr/local/lib/python3.7/dist-packages/sklearn/utils/deprecation.py:87: FutureWarning: Function plot_confusion_matrix is deprecated; Function `plot_confusion_matrix` is deprecated in 1.0 and will be removed in 1.2. Use one of the class methods: ConfusionMatrixDisplay.from_predictions or ConfusionMatrixDisplay.from_estimator.\n",
            "  warnings.warn(msg, category=FutureWarning)\n"
          ]
        },
        {
          "output_type": "display_data",
          "data": {
            "text/plain": [
              "<Figure size 432x288 with 2 Axes>"
            ],
            "image/png": "[encoded data removed]"
          },
          "metadata": {
            "needs_background": "light"
          }
        }
      ]
    },
    {
      "cell_type": "markdown",
      "source": [
        "# Análisis de sentimientos "
      ],
      "metadata": {
        "id": "DEBrNUENhHSn"
      }
    },
    {
      "cell_type": "markdown",
      "source": [
        "A continuación mostraremos el código relativo a las herramientas que hemos empleado para realizar el análisis de sentimientos: \n"
      ],
      "metadata": {
        "id": "OyARFSp_hK6O"
      }
    },
    {
      "cell_type": "markdown",
      "source": [
        "**IBM WATSON**"
      ],
      "metadata": {
        "id": "4rCRt300hsvp"
      }
    },
    {
      "cell_type": "code",
      "source": [
        "#Se importan los pqeutes necesarios y se identifica al usuario. Se aplica la función natural_language_understanding a una cadena de texto y devuelve un JSON con un análisis completo.\n",
        "from ibm_watson import NaturalLanguageUnderstandingV1\n",
        "from ibm_cloud_sdk_core.authenticators import IAMAuthenticator\n",
        "from ibm_watson.natural_language_understanding_v1 import Features, EntitiesOptions, KeywordsOptions\n",
        "\n",
        "authenticator = IAMAuthenticator(#Aquí se deben introducir las credenciales) \n",
        "natural_language_understanding = NaturalLanguageUnderstandingV1(\n",
        "    version='2021-08-01',\n",
        "    authenticator=authenticator\n",
        ")\n",
        "\n",
        "natural_language_understanding.set_service_url('https://api.eu-gb.natural-language-understanding.watson.cloud.ibm.com/instances/0a8ea9e7-55c3-429f-91f1-e2083f9250d4')\n",
        "\n",
        "\"\"\"\n",
        "response = natural_language_understanding.analyze(\n",
        "    url='www.cnn.com', features=Features(entities=EntitiesOptions(sentiment=True,limit=1))).get_result()\n",
        "\"\"\"\n",
        "\n",
        "response = natural_language_understanding.analyze(\n",
        "    text= texto, features=Features(\n",
        "        entities=EntitiesOptions(emotion=True, sentiment=True),\n",
        "        keywords=KeywordsOptions(emotion=True, sentiment=True))).get_result()\n",
        "print(json.dumps(response, indent=2))"
      ],
      "metadata": {
        "colab": {
          "base_uri": "https://localhost:8080/"
        },
        "id": "Dm1dSJu9hq65",
        "outputId": "a5a9df8f-91d6-4413-8d51-e967ca671416"
      },
      "execution_count": null,
      "outputs": [
        {
          "output_type": "stream",
          "name": "stdout",
          "text": [
            "{\n",
            "  \"usage\": {\n",
            "    \"text_units\": 4,\n",
            "    \"text_characters\": 31733,\n",
            "    \"features\": 2\n",
            "  },\n",
            "  \"language\": \"es\",\n",
            "  \"keywords\": [\n",
            "    {\n",
            "      \"text\": \"caso Ayuso\",\n",
            "      \"sentiment\": {\n",
            "        \"score\": -0.909903,\n",
            "        \"label\": \"negative\"\n",
            "      },\n",
            "      \"relevance\": 0.567818,\n",
            "      \"count\": 1\n",
            "    },\n",
            "    {\n",
            "      \"text\": \"denuncias de otros partidos\",\n",
            "      \"sentiment\": {\n",
            "        \"score\": -0.971111,\n",
            "        \"label\": \"negative\"\n",
            "      },\n",
            "      \"relevance\": 0.548774,\n",
            "      \"count\": 1\n",
            "    },\n",
            "    {\n",
            "      \"text\": \"verg\\u00fcenza de Espa\\u00f1a\",\n",
            "      \"sentiment\": {\n",
            "        \"score\": -0.896702,\n",
            "        \"label\": \"negative\"\n",
            "      },\n",
            "      \"relevance\": 0.545095,\n",
            "      \"count\": 1\n",
            "    },\n",
            "    {\n",
            "      \"text\": \"manos de Ayuso\",\n",
            "      \"sentiment\": {\n",
            "        \"score\": -0.896702,\n",
            "        \"label\": \"negative\"\n",
            "      },\n",
            "      \"relevance\": 0.532702,\n",
            "      \"count\": 1\n",
            "    },\n",
            "    {\n",
            "      \"text\": \"monarqu\\u00eda corrupta\",\n",
            "      \"sentiment\": {\n",
            "        \"score\": -0.664838,\n",
            "        \"label\": \"negative\"\n",
            "      },\n",
            "      \"relevance\": 0.527515,\n",
            "      \"count\": 1\n",
            "    },\n",
            "    {\n",
            "      \"text\": \"dinero p\\u00fablico\",\n",
            "      \"sentiment\": {\n",
            "        \"score\": -0.54036,\n",
            "        \"mixed\": \"1\",\n",
            "        \"label\": \"negative\"\n",
            "      },\n",
            "      \"relevance\": 0.525229,\n",
            "      \"count\": 4\n",
            "    },\n",
            "    {\n",
            "      \"text\": \"todosEste partido\",\n",
            "      \"sentiment\": {\n",
            "        \"score\": -0.790075,\n",
            "        \"label\": \"negative\"\n",
            "      },\n",
            "      \"relevance\": 0.522737,\n",
            "      \"count\": 1\n",
            "    },\n",
            "    {\n",
            "      \"text\": \"Pablo Casado\",\n",
            "      \"sentiment\": {\n",
            "        \"score\": -0.928991,\n",
            "        \"label\": \"negative\"\n",
            "      },\n",
            "      \"relevance\": 0.521321,\n",
            "      \"count\": 3\n",
            "    },\n",
            "    {\n",
            "      \"text\": \"grupo pol\\u00edtico\",\n",
            "      \"sentiment\": {\n",
            "        \"score\": -0.991975,\n",
            "        \"label\": \"negative\"\n",
            "      },\n",
            "      \"relevance\": 0.520957,\n",
            "      \"count\": 1\n",
            "    },\n",
            "    {\n",
            "      \"text\": \"A fraCasado\",\n",
            "      \"sentiment\": {\n",
            "        \"score\": 0.943255,\n",
            "        \"label\": \"positive\"\n",
            "      },\n",
            "      \"relevance\": 0.519503,\n",
            "      \"count\": 1\n",
            "    },\n",
            "    {\n",
            "      \"text\": \"poder judicial\",\n",
            "      \"sentiment\": {\n",
            "        \"score\": -0.991975,\n",
            "        \"label\": \"negative\"\n",
            "      },\n",
            "      \"relevance\": 0.516971,\n",
            "      \"count\": 1\n",
            "    },\n",
            "    {\n",
            "      \"text\": \"caso de corrupci\\u00f3n\",\n",
            "      \"sentiment\": {\n",
            "        \"score\": 0.943255,\n",
            "        \"label\": \"positive\"\n",
            "      },\n",
            "      \"relevance\": 0.516072,\n",
            "      \"count\": 1\n",
            "    },\n",
            "    {\n",
            "      \"text\": \"montadoQue verg\\u00fcenzaAut\\u00e9nticos mafiosos\",\n",
            "      \"sentiment\": {\n",
            "        \"score\": -0.789856,\n",
            "        \"label\": \"negative\"\n",
            "      },\n",
            "      \"relevance\": 0.515876,\n",
            "      \"count\": 1\n",
            "    },\n",
            "    {\n",
            "      \"text\": \"Nuevas Generaciones del PP\",\n",
            "      \"sentiment\": {\n",
            "        \"score\": -0.891803,\n",
            "        \"label\": \"negative\"\n",
            "      },\n",
            "      \"relevance\": 0.515431,\n",
            "      \"count\": 1\n",
            "    },\n",
            "    {\n",
            "      \"text\": \"proveedor de material\",\n",
            "      \"sentiment\": {\n",
            "        \"score\": 0.523901,\n",
            "        \"label\": \"positive\"\n",
            "      },\n",
            "      \"relevance\": 0.515078,\n",
            "      \"count\": 1\n",
            "    },\n",
            "    {\n",
            "      \"text\": \"presidenta de comunidad\",\n",
            "      \"sentiment\": {\n",
            "        \"score\": -0.790075,\n",
            "        \"label\": \"negative\"\n",
            "      },\n",
            "      \"relevance\": 0.514827,\n",
            "      \"count\": 1\n",
            "    },\n",
            "    {\n",
            "      \"text\": \"medio Isabel\",\n",
            "      \"sentiment\": {\n",
            "        \"score\": -0.758991,\n",
            "        \"label\": \"negative\"\n",
            "      },\n",
            "      \"relevance\": 0.514489,\n",
            "      \"count\": 1\n",
            "    },\n",
            "    {\n",
            "      \"text\": \"panda de CORRUPTOS\",\n",
            "      \"sentiment\": {\n",
            "        \"score\": -0.896702,\n",
            "        \"label\": \"negative\"\n",
            "      },\n",
            "      \"relevance\": 0.513976,\n",
            "      \"count\": 1\n",
            "    },\n",
            "    {\n",
            "      \"text\": \"partido corrupto.Lo\",\n",
            "      \"sentiment\": {\n",
            "        \"score\": -0.836695,\n",
            "        \"label\": \"negative\"\n",
            "      },\n",
            "      \"relevance\": 0.513815,\n",
            "      \"count\": 1\n",
            "    },\n",
            "    {\n",
            "      \"text\": \"medios de informaci\\u00f3n\",\n",
            "      \"sentiment\": {\n",
            "        \"score\": -0.863111,\n",
            "        \"label\": \"negative\"\n",
            "      },\n",
            "      \"relevance\": 0.513484,\n",
            "      \"count\": 1\n",
            "    },\n",
            "    {\n",
            "      \"text\": \"tinglado del estado corrupto\",\n",
            "      \"sentiment\": {\n",
            "        \"score\": -0.698059,\n",
            "        \"label\": \"negative\"\n",
            "      },\n",
            "      \"relevance\": 0.513424,\n",
            "      \"count\": 1\n",
            "    },\n",
            "    {\n",
            "      \"text\": \"pruebas  A\",\n",
            "      \"sentiment\": {\n",
            "        \"score\": 0,\n",
            "        \"label\": \"neutral\"\n",
            "      },\n",
            "      \"relevance\": 0.513227,\n",
            "      \"count\": 1\n",
            "    },\n",
            "    {\n",
            "      \"text\": \"sombra pol\\u00edtica de Ayuso\",\n",
            "      \"sentiment\": {\n",
            "        \"score\": -0.758991,\n",
            "        \"label\": \"negative\"\n",
            "      },\n",
            "      \"relevance\": 0.512716,\n",
            "      \"count\": 1\n",
            "    },\n",
            "    {\n",
            "      \"text\": \"dimisi\\u00f3n de Casado\",\n",
            "      \"sentiment\": {\n",
            "        \"score\": -0.808624,\n",
            "        \"label\": \"negative\"\n",
            "      },\n",
            "      \"relevance\": 0.51259,\n",
            "      \"count\": 1\n",
            "    },\n",
            "    {\n",
            "      \"text\": \"camarote de los hermanos  marxSon\",\n",
            "      \"sentiment\": {\n",
            "        \"score\": -0.664838,\n",
            "        \"label\": \"negative\"\n",
            "      },\n",
            "      \"relevance\": 0.512202,\n",
            "      \"count\": 1\n",
            "    },\n",
            "    {\n",
            "      \"text\": \"elecciones generales\",\n",
            "      \"sentiment\": {\n",
            "        \"score\": -0.934612,\n",
            "        \"label\": \"negative\"\n",
            "      },\n",
            "      \"relevance\": 0.511458,\n",
            "      \"count\": 1\n",
            "    },\n",
            "    {\n",
            "      \"text\": \"basura de G\\u00e9nova\",\n",
            "      \"sentiment\": {\n",
            "        \"score\": 0.420991,\n",
            "        \"mixed\": \"1\",\n",
            "        \"label\": \"positive\"\n",
            "      },\n",
            "      \"relevance\": 0.511449,\n",
            "      \"count\": 1\n",
            "    },\n",
            "    {\n",
            "      \"text\": \"Ayuso de Casado\",\n",
            "      \"sentiment\": {\n",
            "        \"score\": -0.986687,\n",
            "        \"label\": \"negative\"\n",
            "      },\n",
            "      \"relevance\": 0.511447,\n",
            "      \"count\": 1\n",
            "    },\n",
            "    {\n",
            "      \"text\": \"tragar.El PP\",\n",
            "      \"sentiment\": {\n",
            "        \"score\": -0.664838,\n",
            "        \"label\": \"negative\"\n",
            "      },\n",
            "      \"relevance\": 0.511353,\n",
            "      \"count\": 1\n",
            "    },\n",
            "    {\n",
            "      \"text\": \"arcas p\\u00fablicas\",\n",
            "      \"sentiment\": {\n",
            "        \"score\": -0.736815,\n",
            "        \"label\": \"negative\"\n",
            "      },\n",
            "      \"relevance\": 0.511156,\n",
            "      \"count\": 1\n",
            "    },\n",
            "    {\n",
            "      \"text\": \"machos casado\",\n",
            "      \"sentiment\": {\n",
            "        \"score\": 0.613004,\n",
            "        \"label\": \"positive\"\n",
            "      },\n",
            "      \"relevance\": 0.511054,\n",
            "      \"count\": 1\n",
            "    },\n",
            "    {\n",
            "      \"text\": \"PP\",\n",
            "      \"sentiment\": {\n",
            "        \"score\": -0.654435,\n",
            "        \"mixed\": \"1\",\n",
            "        \"label\": \"negative\"\n",
            "      },\n",
            "      \"relevance\": 0.51082,\n",
            "      \"count\": 16\n",
            "    },\n",
            "    {\n",
            "      \"text\": \"votantes de izquierdas\",\n",
            "      \"sentiment\": {\n",
            "        \"score\": -0.987787,\n",
            "        \"label\": \"negative\"\n",
            "      },\n",
            "      \"relevance\": 0.510741,\n",
            "      \"count\": 1\n",
            "    },\n",
            "    {\n",
            "      \"text\": \"tal cosa\",\n",
            "      \"sentiment\": {\n",
            "        \"score\": 0,\n",
            "        \"label\": \"neutral\"\n",
            "      },\n",
            "      \"relevance\": 0.510175,\n",
            "      \"count\": 1\n",
            "    },\n",
            "    {\n",
            "      \"text\": \"pr\\u00f3ximas elecciones generales\",\n",
            "      \"sentiment\": {\n",
            "        \"score\": -0.907355,\n",
            "        \"label\": \"negative\"\n",
            "      },\n",
            "      \"relevance\": 0.510158,\n",
            "      \"count\": 1\n",
            "    },\n",
            "    {\n",
            "      \"text\": \"pa\\u00eds europeo\",\n",
            "      \"sentiment\": {\n",
            "        \"score\": -0.961698,\n",
            "        \"label\": \"negative\"\n",
            "      },\n",
            "      \"relevance\": 0.510126,\n",
            "      \"count\": 1\n",
            "    },\n",
            "    {\n",
            "      \"text\": \"ESPA\\u00d1A NO HAY\",\n",
            "      \"sentiment\": {\n",
            "        \"score\": -0.698059,\n",
            "        \"label\": \"negative\"\n",
            "      },\n",
            "      \"relevance\": 0.509748,\n",
            "      \"count\": 1\n",
            "    },\n",
            "    {\n",
            "      \"text\": \"Esperanza Aguirre\",\n",
            "      \"sentiment\": {\n",
            "        \"score\": -0.790075,\n",
            "        \"label\": \"negative\"\n",
            "      },\n",
            "      \"relevance\": 0.509454,\n",
            "      \"count\": 1\n",
            "    },\n",
            "    {\n",
            "      \"text\": \"apoyo de VOX\",\n",
            "      \"sentiment\": {\n",
            "        \"score\": -0.934612,\n",
            "        \"label\": \"negative\"\n",
            "      },\n",
            "      \"relevance\": 0.509133,\n",
            "      \"count\": 1\n",
            "    },\n",
            "    {\n",
            "      \"text\": \"impresentable Partido Socialista\",\n",
            "      \"sentiment\": {\n",
            "        \"score\": -0.579952,\n",
            "        \"label\": \"negative\"\n",
            "      },\n",
            "      \"relevance\": 0.509121,\n",
            "      \"count\": 1\n",
            "    },\n",
            "    {\n",
            "      \"text\": \"pol\\u00edticos de este partido\",\n",
            "      \"sentiment\": {\n",
            "        \"score\": -0.788726,\n",
            "        \"label\": \"negative\"\n",
            "      },\n",
            "      \"relevance\": 0.508713,\n",
            "      \"count\": 1\n",
            "    },\n",
            "    {\n",
            "      \"text\": \"propia tumba\",\n",
            "      \"sentiment\": {\n",
            "        \"score\": -0.863111,\n",
            "        \"label\": \"negative\"\n",
            "      },\n",
            "      \"relevance\": 0.508692,\n",
            "      \"count\": 1\n",
            "    },\n",
            "    {\n",
            "      \"text\": \"extrema derecha\",\n",
            "      \"sentiment\": {\n",
            "        \"score\": -0.956695,\n",
            "        \"label\": \"negative\"\n",
            "      },\n",
            "      \"relevance\": 0.508573,\n",
            "      \"count\": 1\n",
            "    },\n",
            "    {\n",
            "      \"text\": \"tribunal supremo\",\n",
            "      \"sentiment\": {\n",
            "        \"score\": -0.983656,\n",
            "        \"label\": \"negative\"\n",
            "      },\n",
            "      \"relevance\": 0.508543,\n",
            "      \"count\": 1\n",
            "    },\n",
            "    {\n",
            "      \"text\": \"sr Casado\",\n",
            "      \"sentiment\": {\n",
            "        \"score\": -0.986687,\n",
            "        \"label\": \"negative\"\n",
            "      },\n",
            "      \"relevance\": 0.508514,\n",
            "      \"count\": 1\n",
            "    },\n",
            "    {\n",
            "      \"text\": \"Presidente de Navarra\",\n",
            "      \"sentiment\": {\n",
            "        \"score\": -0.790075,\n",
            "        \"label\": \"negative\"\n",
            "      },\n",
            "      \"relevance\": 0.508425,\n",
            "      \"count\": 1\n",
            "    },\n",
            "    {\n",
            "      \"text\": \"direcci\\u00f3n del Partido Popular\",\n",
            "      \"sentiment\": {\n",
            "        \"score\": -0.85659,\n",
            "        \"label\": \"negative\"\n",
            "      },\n",
            "      \"relevance\": 0.508143,\n",
            "      \"count\": 1\n",
            "    },\n",
            "    {\n",
            "      \"text\": \"Mariano Planelles\",\n",
            "      \"sentiment\": {\n",
            "        \"score\": 0.613004,\n",
            "        \"label\": \"positive\"\n",
            "      },\n",
            "      \"relevance\": 0.508114,\n",
            "      \"count\": 1\n",
            "    },\n",
            "    {\n",
            "      \"text\": \"PARTIDO EXTRUTURADO\",\n",
            "      \"sentiment\": {\n",
            "        \"score\": 0,\n",
            "        \"label\": \"neutral\"\n",
            "      },\n",
            "      \"relevance\": 0.507967,\n",
            "      \"count\": 1\n",
            "    },\n",
            "    {\n",
            "      \"text\": \"corrupcion de este partido\",\n",
            "      \"sentiment\": {\n",
            "        \"score\": -0.983656,\n",
            "        \"label\": \"negative\"\n",
            "      },\n",
            "      \"relevance\": 0.50781,\n",
            "      \"count\": 1\n",
            "    }\n",
            "  ],\n",
            "  \"entities\": [\n",
            "    {\n",
            "      \"type\": \"Person\",\n",
            "      \"text\": \"Ayuso\",\n",
            "      \"sentiment\": {\n",
            "        \"score\": -0.736636,\n",
            "        \"mixed\": \"1\",\n",
            "        \"label\": \"negative\"\n",
            "      },\n",
            "      \"relevance\": 0.952073,\n",
            "      \"count\": 22,\n",
            "      \"confidence\": 1\n",
            "    },\n",
            "    {\n",
            "      \"type\": \"Organization\",\n",
            "      \"text\": \"PP\",\n",
            "      \"sentiment\": {\n",
            "        \"score\": -0.646112,\n",
            "        \"mixed\": \"1\",\n",
            "        \"label\": \"negative\"\n",
            "      },\n",
            "      \"relevance\": 0.56168,\n",
            "      \"disambiguation\": {\n",
            "        \"subtype\": [\n",
            "          \"PoliticalParty\"\n",
            "        ],\n",
            "        \"name\": \"Partido_Popular\",\n",
            "        \"dbpedia_resource\": \"http://es.dbpedia.org/resource/Partido_Popular\"\n",
            "      },\n",
            "      \"count\": 25,\n",
            "      \"confidence\": 1\n",
            "    },\n",
            "    {\n",
            "      \"type\": \"Person\",\n",
            "      \"text\": \"Casado\",\n",
            "      \"sentiment\": {\n",
            "        \"score\": -0.773696,\n",
            "        \"mixed\": \"1\",\n",
            "        \"label\": \"negative\"\n",
            "      },\n",
            "      \"relevance\": 0.354796,\n",
            "      \"count\": 12,\n",
            "      \"confidence\": 1\n",
            "    },\n",
            "    {\n",
            "      \"type\": \"Organization\",\n",
            "      \"text\": \"fiscal\\u00eda\",\n",
            "      \"sentiment\": {\n",
            "        \"score\": -0.579769,\n",
            "        \"mixed\": \"1\",\n",
            "        \"label\": \"negative\"\n",
            "      },\n",
            "      \"relevance\": 0.228328,\n",
            "      \"count\": 6,\n",
            "      \"confidence\": 0.999999\n",
            "    },\n",
            "    {\n",
            "      \"type\": \"Location\",\n",
            "      \"text\": \"Espa\\u00f1a\",\n",
            "      \"sentiment\": {\n",
            "        \"score\": -0.76698,\n",
            "        \"mixed\": \"1\",\n",
            "        \"label\": \"negative\"\n",
            "      },\n",
            "      \"relevance\": 0.224683,\n",
            "      \"count\": 14,\n",
            "      \"confidence\": 1\n",
            "    },\n",
            "    {\n",
            "      \"type\": \"Location\",\n",
            "      \"text\": \"G\\u00e9nova\",\n",
            "      \"sentiment\": {\n",
            "        \"score\": -0.3018,\n",
            "        \"mixed\": \"1\",\n",
            "        \"label\": \"negative\"\n",
            "      },\n",
            "      \"relevance\": 0.200392,\n",
            "      \"count\": 5,\n",
            "      \"confidence\": 1.0\n",
            "    },\n",
            "    {\n",
            "      \"type\": \"Person\",\n",
            "      \"text\": \"Pablo Casado\",\n",
            "      \"sentiment\": {\n",
            "        \"score\": -0.928991,\n",
            "        \"label\": \"negative\"\n",
            "      },\n",
            "      \"relevance\": 0.159323,\n",
            "      \"count\": 3,\n",
            "      \"confidence\": 1.0\n",
            "    },\n",
            "    {\n",
            "      \"type\": \"JobTitle\",\n",
            "      \"text\": \"presidenta\",\n",
            "      \"sentiment\": {\n",
            "        \"score\": -0.959291,\n",
            "        \"label\": \"negative\"\n",
            "      },\n",
            "      \"relevance\": 0.120864,\n",
            "      \"count\": 5,\n",
            "      \"confidence\": 1\n",
            "    },\n",
            "    {\n",
            "      \"type\": \"URL\",\n",
            "      \"text\": \"https://scontent.fidr4-1.fna.fbcdn.net/v/t39.1997-6/10333122_298592793654253_1393149385_n.png?_nc_cat=1&ccb=1-7&_nc_sid=ac3552&_nc_ohc=fHFtlwCAey4AX8u6x9C&_nc_ht=scontent.fidr4-1.fna&oh=00_AT-5oxdjGsSd2iJuMpj_UWfdQKcVdmqOeldZv1ATpisFTQ&oe=62DEB09BNada\",\n",
            "      \"sentiment\": {\n",
            "        \"score\": -0.692719,\n",
            "        \"label\": \"negative\"\n",
            "      },\n",
            "      \"relevance\": 0.118025,\n",
            "      \"count\": 1,\n",
            "      \"confidence\": 0.8\n",
            "    },\n",
            "    {\n",
            "      \"type\": \"Person\",\n",
            "      \"text\": \"\\ud83e\\udd23\",\n",
            "      \"sentiment\": {\n",
            "        \"score\": -0.896702,\n",
            "        \"label\": \"negative\"\n",
            "      },\n",
            "      \"relevance\": 0.115397,\n",
            "      \"count\": 1,\n",
            "      \"confidence\": 0.306705\n",
            "    },\n",
            "    {\n",
            "      \"type\": \"JobTitle\",\n",
            "      \"text\": \"bromistas\",\n",
            "      \"sentiment\": {\n",
            "        \"score\": -0.896702,\n",
            "        \"label\": \"negative\"\n",
            "      },\n",
            "      \"relevance\": 0.115252,\n",
            "      \"count\": 1,\n",
            "      \"confidence\": 0.52835\n",
            "    },\n",
            "    {\n",
            "      \"type\": \"Number\",\n",
            "      \"text\": \"dos\",\n",
            "      \"sentiment\": {\n",
            "        \"score\": -0.480579,\n",
            "        \"mixed\": \"1\",\n",
            "        \"label\": \"negative\"\n",
            "      },\n",
            "      \"relevance\": 0.113436,\n",
            "      \"count\": 7,\n",
            "      \"confidence\": 0.999987\n",
            "    },\n",
            "    {\n",
            "      \"type\": \"Organization\",\n",
            "      \"text\": \"JajajjajaajJajQue\",\n",
            "      \"sentiment\": {\n",
            "        \"score\": 0,\n",
            "        \"label\": \"neutral\"\n",
            "      },\n",
            "      \"relevance\": 0.106057,\n",
            "      \"count\": 1,\n",
            "      \"confidence\": 0.301608\n",
            "    },\n",
            "    {\n",
            "      \"type\": \"Person\",\n",
            "      \"text\": \"Teodoro\",\n",
            "      \"sentiment\": {\n",
            "        \"score\": -0.842433,\n",
            "        \"label\": \"negative\"\n",
            "      },\n",
            "      \"relevance\": 0.106008,\n",
            "      \"count\": 2,\n",
            "      \"confidence\": 0.999991\n",
            "    },\n",
            "    {\n",
            "      \"type\": \"Organization\",\n",
            "      \"text\": \"UCO\",\n",
            "      \"sentiment\": {\n",
            "        \"score\": -0.908454,\n",
            "        \"label\": \"negative\"\n",
            "      },\n",
            "      \"relevance\": 0.104927,\n",
            "      \"count\": 1,\n",
            "      \"confidence\": 0.985669\n",
            "    },\n",
            "    {\n",
            "      \"type\": \"Organization\",\n",
            "      \"text\": \"CAMvenga\",\n",
            "      \"sentiment\": {\n",
            "        \"score\": -0.801831,\n",
            "        \"label\": \"negative\"\n",
            "      },\n",
            "      \"relevance\": 0.104812,\n",
            "      \"count\": 1,\n",
            "      \"confidence\": 0.478688\n",
            "    },\n",
            "    {\n",
            "      \"type\": \"Organization\",\n",
            "      \"text\": \"\\ud83e\\udd26\\ud83e\\udd26\",\n",
            "      \"sentiment\": {\n",
            "        \"score\": 0.943255,\n",
            "        \"label\": \"positive\"\n",
            "      },\n",
            "      \"relevance\": 0.101925,\n",
            "      \"count\": 1,\n",
            "      \"confidence\": 0.559988\n",
            "    },\n",
            "    {\n",
            "      \"type\": \"Duration\",\n",
            "      \"text\": \"2 d\\u00edas\",\n",
            "      \"sentiment\": {\n",
            "        \"score\": -0.697003,\n",
            "        \"label\": \"negative\"\n",
            "      },\n",
            "      \"relevance\": 0.096175,\n",
            "      \"count\": 1,\n",
            "      \"confidence\": 0.611519\n",
            "    },\n",
            "    {\n",
            "      \"type\": \"Person\",\n",
            "      \"text\": \"Abascal\",\n",
            "      \"sentiment\": {\n",
            "        \"score\": -0.437617,\n",
            "        \"mixed\": \"1\",\n",
            "        \"label\": \"negative\"\n",
            "      },\n",
            "      \"relevance\": 0.094961,\n",
            "      \"count\": 2,\n",
            "      \"confidence\": 0.999993\n",
            "    },\n",
            "    {\n",
            "      \"type\": \"Organization\",\n",
            "      \"text\": \"M.RajoyQue\",\n",
            "      \"sentiment\": {\n",
            "        \"score\": -0.790075,\n",
            "        \"label\": \"negative\"\n",
            "      },\n",
            "      \"relevance\": 0.094957,\n",
            "      \"count\": 1,\n",
            "      \"confidence\": 0.532616\n",
            "    },\n",
            "    {\n",
            "      \"type\": \"Time\",\n",
            "      \"text\": \"por la tarde\",\n",
            "      \"sentiment\": {\n",
            "        \"score\": -0.790075,\n",
            "        \"label\": \"negative\"\n",
            "      },\n",
            "      \"relevance\": 0.094622,\n",
            "      \"count\": 1,\n",
            "      \"confidence\": 0.32283\n",
            "    },\n",
            "    {\n",
            "      \"type\": \"Person\",\n",
            "      \"text\": \"Esperanza Aguirre\",\n",
            "      \"sentiment\": {\n",
            "        \"score\": -0.790075,\n",
            "        \"label\": \"negative\"\n",
            "      },\n",
            "      \"relevance\": 0.093736,\n",
            "      \"disambiguation\": {\n",
            "        \"subtype\": [\n",
            "          \"OfficeHolder\"\n",
            "        ],\n",
            "        \"name\": \"Esperanza_Aguirre\",\n",
            "        \"dbpedia_resource\": \"http://es.dbpedia.org/resource/Esperanza_Aguirre\"\n",
            "      },\n",
            "      \"count\": 1,\n",
            "      \"confidence\": 0.99722\n",
            "    },\n",
            "    {\n",
            "      \"type\": \"JobTitle\",\n",
            "      \"text\": \"presidenta de comunidad\",\n",
            "      \"sentiment\": {\n",
            "        \"score\": -0.790075,\n",
            "        \"label\": \"negative\"\n",
            "      },\n",
            "      \"relevance\": 0.093537,\n",
            "      \"count\": 1,\n",
            "      \"confidence\": 0.578703\n",
            "    },\n",
            "    {\n",
            "      \"type\": \"JobTitle\",\n",
            "      \"text\": \"Presidente de Navarra\",\n",
            "      \"sentiment\": {\n",
            "        \"score\": -0.790075,\n",
            "        \"label\": \"negative\"\n",
            "      },\n",
            "      \"relevance\": 0.091345,\n",
            "      \"count\": 1,\n",
            "      \"confidence\": 0.647549\n",
            "    },\n",
            "    {\n",
            "      \"type\": \"Person\",\n",
            "      \"text\": \"Carlos herrera\",\n",
            "      \"sentiment\": {\n",
            "        \"score\": -0.863111,\n",
            "        \"label\": \"negative\"\n",
            "      },\n",
            "      \"relevance\": 0.089762,\n",
            "      \"count\": 1,\n",
            "      \"confidence\": 0.994468\n",
            "    },\n",
            "    {\n",
            "      \"type\": \"Organization\",\n",
            "      \"text\": \"PSOE\",\n",
            "      \"sentiment\": {\n",
            "        \"score\": 0.498036,\n",
            "        \"mixed\": \"1\",\n",
            "        \"label\": \"positive\"\n",
            "      },\n",
            "      \"relevance\": 0.089458,\n",
            "      \"count\": 3,\n",
            "      \"confidence\": 0.99995\n",
            "    },\n",
            "    {\n",
            "      \"type\": \"URL\",\n",
            "      \"text\": \"https://external.fidr4-1.fna.fbcdn.net/emg1/v/t13/12275013412078267281?\",\n",
            "      \"sentiment\": {\n",
            "        \"score\": -0.986687,\n",
            "        \"label\": \"negative\"\n",
            "      },\n",
            "      \"relevance\": 0.089339,\n",
            "      \"count\": 1,\n",
            "      \"confidence\": 0.8\n",
            "    },\n",
            "    {\n",
            "      \"type\": \"URL\",\n",
            "      \"text\": \"https%3A%2F%2Fmedia3.giphy.com%2Fmedia%2F3oEjHAUOqG3lSS0f1C%2Fgiphy.gif%3Fcid%3Dcafe52e9saswfbuhehbwsrhs2cb7c4mw6jbg02fcl49zy2fl%26rid%3Dgiphy.gif&fb_obo=1&utld=giphy.com&stp=dst-emg0_q75_s396x297&ccb=13-1&oh=00_AT\",\n",
            "      \"sentiment\": {\n",
            "        \"score\": -0.986687,\n",
            "        \"label\": \"negative\"\n",
            "      },\n",
            "      \"relevance\": 0.088797,\n",
            "      \"count\": 1,\n",
            "      \"confidence\": 0.8\n",
            "    },\n",
            "    {\n",
            "      \"type\": \"Organization\",\n",
            "      \"text\": \"CC&\",\n",
            "      \"sentiment\": {\n",
            "        \"score\": -0.986687,\n",
            "        \"label\": \"negative\"\n",
            "      },\n",
            "      \"relevance\": 0.088196,\n",
            "      \"count\": 1,\n",
            "      \"confidence\": 0.374403\n",
            "    },\n",
            "    {\n",
            "      \"type\": \"Person\",\n",
            "      \"text\": \"Ayuso de Casado\",\n",
            "      \"sentiment\": {\n",
            "        \"score\": -0.986687,\n",
            "        \"label\": \"negative\"\n",
            "      },\n",
            "      \"relevance\": 0.086755,\n",
            "      \"count\": 1,\n",
            "      \"confidence\": 0.773817\n",
            "    },\n",
            "    {\n",
            "      \"type\": \"Organization\",\n",
            "      \"text\": \"\\ud83d\\udcb0 \\ud83d\\ude21\",\n",
            "      \"sentiment\": {\n",
            "        \"score\": -0.669646,\n",
            "        \"label\": \"negative\"\n",
            "      },\n",
            "      \"relevance\": 0.080685,\n",
            "      \"count\": 1,\n",
            "      \"confidence\": 0.746712\n",
            "    },\n",
            "    {\n",
            "      \"type\": \"Person\",\n",
            "      \"text\": \"Mark Twain\",\n",
            "      \"sentiment\": {\n",
            "        \"score\": -0.669646,\n",
            "        \"label\": \"negative\"\n",
            "      },\n",
            "      \"relevance\": 0.080177,\n",
            "      \"disambiguation\": {\n",
            "        \"subtype\": [\n",
            "          \"Writer\",\n",
            "          \"Dedicator\",\n",
            "          \"FilmWriter\",\n",
            "          \"Inventor\"\n",
            "        ],\n",
            "        \"name\": \"Mark_Twain\",\n",
            "        \"dbpedia_resource\": \"http://es.dbpedia.org/resource/Mark_Twain\"\n",
            "      },\n",
            "      \"count\": 1,\n",
            "      \"confidence\": 0.541383\n",
            "    },\n",
            "    {\n",
            "      \"type\": \"Person\",\n",
            "      \"text\": \"Feijo\",\n",
            "      \"sentiment\": {\n",
            "        \"score\": -0.758991,\n",
            "        \"label\": \"negative\"\n",
            "      },\n",
            "      \"relevance\": 0.077944,\n",
            "      \"count\": 1,\n",
            "      \"confidence\": 0.97888\n",
            "    },\n",
            "    {\n",
            "      \"type\": \"Organization\",\n",
            "      \"text\": \"Fiscal\\u00eda\",\n",
            "      \"sentiment\": {\n",
            "        \"score\": -0.692719,\n",
            "        \"label\": \"negative\"\n",
            "      },\n",
            "      \"relevance\": 0.077568,\n",
            "      \"count\": 2,\n",
            "      \"confidence\": 0.995745\n",
            "    },\n",
            "    {\n",
            "      \"type\": \"Number\",\n",
            "      \"text\": \"tres\",\n",
            "      \"sentiment\": {\n",
            "        \"score\": -0.615291,\n",
            "        \"mixed\": \"1\",\n",
            "        \"label\": \"negative\"\n",
            "      },\n",
            "      \"relevance\": 0.071563,\n",
            "      \"count\": 4,\n",
            "      \"confidence\": 0.9984\n",
            "    },\n",
            "    {\n",
            "      \"type\": \"Organization\",\n",
            "      \"text\": \"G\\u00c9NOVA\",\n",
            "      \"sentiment\": {\n",
            "        \"score\": -0.714083,\n",
            "        \"label\": \"negative\"\n",
            "      },\n",
            "      \"relevance\": 0.069035,\n",
            "      \"count\": 1,\n",
            "      \"confidence\": 0.630415\n",
            "    },\n",
            "    {\n",
            "      \"type\": \"Person\",\n",
            "      \"text\": \"q Dios\",\n",
            "      \"sentiment\": {\n",
            "        \"score\": -0.789323,\n",
            "        \"label\": \"negative\"\n",
            "      },\n",
            "      \"relevance\": 0.067999,\n",
            "      \"count\": 1,\n",
            "      \"confidence\": 0.489316\n",
            "    },\n",
            "    {\n",
            "      \"type\": \"Location\",\n",
            "      \"text\": \"Spa\\u00f1ist\\u00e1n\",\n",
            "      \"sentiment\": {\n",
            "        \"score\": 0,\n",
            "        \"label\": \"neutral\"\n",
            "      },\n",
            "      \"relevance\": 0.065189,\n",
            "      \"count\": 1,\n",
            "      \"confidence\": 0.521239\n",
            "    },\n",
            "    {\n",
            "      \"type\": \"Organization\",\n",
            "      \"text\": \"tribunal supremo\",\n",
            "      \"sentiment\": {\n",
            "        \"score\": -0.983656,\n",
            "        \"label\": \"negative\"\n",
            "      },\n",
            "      \"relevance\": 0.064385,\n",
            "      \"disambiguation\": {\n",
            "        \"subtype\": [\n",
            "          \"Location\"\n",
            "        ],\n",
            "        \"name\": \"Reichsgericht\",\n",
            "        \"dbpedia_resource\": \"http://es.dbpedia.org/resource/Reichsgericht\"\n",
            "      },\n",
            "      \"count\": 1,\n",
            "      \"confidence\": 0.292796\n",
            "    },\n",
            "    {\n",
            "      \"type\": \"JobTitle\",\n",
            "      \"text\": \"jueces\",\n",
            "      \"sentiment\": {\n",
            "        \"score\": -0.689423,\n",
            "        \"label\": \"negative\"\n",
            "      },\n",
            "      \"relevance\": 0.063244,\n",
            "      \"count\": 2,\n",
            "      \"confidence\": 0.999731\n",
            "    },\n",
            "    {\n",
            "      \"type\": \"Person\",\n",
            "      \"text\": \"Cifuentes\",\n",
            "      \"sentiment\": {\n",
            "        \"score\": -0.905877,\n",
            "        \"label\": \"negative\"\n",
            "      },\n",
            "      \"relevance\": 0.063171,\n",
            "      \"count\": 2,\n",
            "      \"confidence\": 0.998505\n",
            "    },\n",
            "    {\n",
            "      \"type\": \"Organization\",\n",
            "      \"text\": \"VOX\",\n",
            "      \"sentiment\": {\n",
            "        \"score\": -0.945723,\n",
            "        \"label\": \"negative\"\n",
            "      },\n",
            "      \"relevance\": 0.061123,\n",
            "      \"count\": 3,\n",
            "      \"confidence\": 0.99839\n",
            "    },\n",
            "    {\n",
            "      \"type\": \"URL\",\n",
            "      \"text\": \"https://external.fkno6-1.fna.fbcdn.net/emg1/v/t13/11860828768112830299?url=https%3A%2F%2Fmedia4.giphy.com%2Fmedia%2F9A7X5FWQjneoHWggTx%2Fgiphy.gif%3Fkid%3Dbe302117%26ct%3Ds&fb_obo=1&utld=giphy.com&stp=dst-jpg_flffffff_q75_s396x396&ccb=13-1&oh=00_AT-08RSdLohza-51mrpYEdiw1ffzRN2jYHonHmqeL2suxA&oe=62F2A46C&_nc_sid=1229baUna\",\n",
            "      \"sentiment\": {\n",
            "        \"score\": 0.461843,\n",
            "        \"label\": \"positive\"\n",
            "      },\n",
            "      \"relevance\": 0.060346,\n",
            "      \"count\": 1,\n",
            "      \"confidence\": 0.8\n",
            "    },\n",
            "    {\n",
            "      \"type\": \"Money\",\n",
            "      \"text\": \"55.000 euros\",\n",
            "      \"sentiment\": {\n",
            "        \"score\": 0.461843,\n",
            "        \"label\": \"positive\"\n",
            "      },\n",
            "      \"relevance\": 0.059375,\n",
            "      \"count\": 1,\n",
            "      \"confidence\": 0.964916\n",
            "    },\n",
            "    {\n",
            "      \"type\": \"Person\",\n",
            "      \"text\": \"tresFracasado\",\n",
            "      \"sentiment\": {\n",
            "        \"score\": 0.461843,\n",
            "        \"label\": \"positive\"\n",
            "      },\n",
            "      \"relevance\": 0.058451,\n",
            "      \"count\": 1,\n",
            "      \"confidence\": 0.756039\n",
            "    },\n",
            "    {\n",
            "      \"type\": \"Number\",\n",
            "      \"text\": \"504\",\n",
            "      \"sentiment\": {\n",
            "        \"score\": -0.986687,\n",
            "        \"label\": \"negative\"\n",
            "      },\n",
            "      \"relevance\": 0.057121,\n",
            "      \"count\": 1,\n",
            "      \"confidence\": 0.8\n",
            "    },\n",
            "    {\n",
            "      \"type\": \"URL\",\n",
            "      \"text\": \"https://scontent.fkno6-1.fna.fbcdn.net/v/t39.1997-6/47614232_1846683475430536_3135922765756891136_n.png?_nc_cat=1&ccb=1-7&_nc_sid=ac3552&_nc_ohc=vqE0mR26S8UAX8cxMf3&_nc_ht=scontent.fkno6-1.fna&oh=00_AT9v9YWzgsEcx9qnle6Jh74x17AEXYa8XIUO-dLjdgEAEA&oe=62F6D7E3Temos\",\n",
            "      \"sentiment\": {\n",
            "        \"score\": 0,\n",
            "        \"label\": \"neutral\"\n",
            "      },\n",
            "      \"relevance\": 0.054096,\n",
            "      \"count\": 1,\n",
            "      \"confidence\": 0.8\n",
            "    },\n",
            "    {\n",
            "      \"type\": \"Number\",\n",
            "      \"text\": \"2\",\n",
            "      \"sentiment\": {\n",
            "        \"score\": -0.980038,\n",
            "        \"label\": \"negative\"\n",
            "      },\n",
            "      \"relevance\": 0.054035,\n",
            "      \"count\": 3,\n",
            "      \"confidence\": 0.992\n",
            "    },\n",
            "    {\n",
            "      \"type\": \"Organization\",\n",
            "      \"text\": \"Mafia\",\n",
            "      \"sentiment\": {\n",
            "        \"score\": 0,\n",
            "        \"label\": \"neutral\"\n",
            "      },\n",
            "      \"relevance\": 0.053109,\n",
            "      \"count\": 1,\n",
            "      \"confidence\": 0.440866\n",
            "    },\n",
            "    {\n",
            "      \"type\": \"JobTitle\",\n",
            "      \"text\": \"CORRUPTOS\",\n",
            "      \"sentiment\": {\n",
            "        \"score\": -0.896702,\n",
            "        \"label\": \"negative\"\n",
            "      },\n",
            "      \"relevance\": 0.052947,\n",
            "      \"count\": 1,\n",
            "      \"confidence\": 0.380259\n",
            "    }\n",
            "  ]\n",
            "}\n"
          ]
        }
      ]
    },
    {
      "cell_type": "code",
      "source": [
        "#Realiza un recuento de los sentimientos analizados.\n",
        "positivas = 0\n",
        "negativas = 0\n",
        "neutras = 0\n",
        "for element in response[\"keywords\"]:\n",
        "  current_score = element[\"sentiment\"][\"label\"]\n",
        "  if current_score == \"positive\":\n",
        "    positivas += 1\n",
        "  elif current_score== \"negative\":\n",
        "    negativas += 1\n",
        "  else:\n",
        "    neutras += 1\n",
        "print(\"positivos: \" positivas)\n",
        "print(\"negativos: \"negativas)\n",
        "print(\"neutras: \"neutras)"
      ],
      "metadata": {
        "colab": {
          "base_uri": "https://localhost:8080/"
        },
        "id": "xlrUz8Dyksfa",
        "outputId": "e0b2777f-d6c8-49fc-aa67-959e68020921"
      },
      "execution_count": null,
      "outputs": [
        {
          "output_type": "stream",
          "name": "stdout",
          "text": [
            "6\n",
            "41\n",
            "3\n"
          ]
        }
      ]
    },
    {
      "cell_type": "markdown",
      "source": [
        "**TRANSFORMERS**"
      ],
      "metadata": {
        "id": "2njxYZrRnc4L"
      }
    },
    {
      "cell_type": "code",
      "source": [
        "#Recuerda importar transformers y pipeline."
      ],
      "metadata": {
        "id": "Ol7YO11QnZG8"
      },
      "execution_count": null,
      "outputs": []
    },
    {
      "cell_type": "code",
      "source": [
        "#Comprueba que el texto a analizar no sea superior de 300 caracteres. Si lo es, lo divide y procede a realizar el análisis de sentimientos. \n",
        "def sentimiento_corte (comentario):\n",
        "  inicio=0\n",
        "  fin=300\n",
        "  sentimientos={\"NEG\":0, \"NEU\":0, \"POS\":0}\n",
        "  total=0 \n",
        "  numelementos=0\n",
        "  while inicio < len(comentario):\n",
        "    result= sentiment_pipeline(comentario[inicio:fin])\n",
        "    inicio= inicio + 300\n",
        "    fin= fin+300\n",
        "    sentimientos [result[0][\"label\"]]=sentimientos [result[0][\"label\"]]+ result[0][\"score\"]\n",
        "  if sentimientos [\"NEG\"]> sentimientos[\"NEU\"] and sentimientos[\"NEG\"]> sentimientos [\"POS\"]:\n",
        "    return \"NEG\"\n",
        "  elif sentimientos [\"NEU\"]> sentimientos[\"NEG\"] and sentimientos[\"NEU\"]> sentimientos [\"POS\"]:\n",
        "    return \"NEU\"\n",
        "  else:\n",
        "    return \"POS\""
      ],
      "metadata": {
        "id": "QOBxIZLen-_1"
      },
      "execution_count": null,
      "outputs": []
    },
    {
      "cell_type": "code",
      "source": [
        "#Recorre una lista de comentarios y aplica la función anterior a todos ellos, eliminando los links de cada comentario si hubiese. \n",
        "def tsentimientos(listagrande):\n",
        "  sentimiento=[]\n",
        "  for comentario in listagrande:\n",
        "      result=sentimiento_corte(quitar_links (comentario))\n",
        "      sentimiento.append(result)\n",
        "  return sentimiento\n",
        "\n",
        "\n",
        "def csentimiento(listagrande):\n",
        "  result= [sentimiento_corte(quitar_links(comentario))for comentario in listagrande]\n",
        "\n",
        "  return (result)"
      ],
      "metadata": {
        "id": "7gJenL5ooZhb"
      },
      "execution_count": null,
      "outputs": []
    },
    {
      "cell_type": "code",
      "source": [
        "total_sentimientos=tsentimientos(listagrande)"
      ],
      "metadata": {
        "id": "H3T_uwYfo8Po"
      },
      "execution_count": null,
      "outputs": []
    },
    {
      "cell_type": "code",
      "source": [
        "#Realiza un recuento de los sentimientos analizados.\n",
        "positivo=0\n",
        "negativo=0\n",
        "neutro=0\n",
        "for sentimiento in total_sentimientos:\n",
        "  if sentimiento == \"NEG\":\n",
        "    negativo=negativo + 1\n",
        "  elif sentimiento == \"NEU\":\n",
        "    neutro= neutro+1\n",
        "  elif sentimiento== \"POS\":\n",
        "    positivo=positivo + 1\n",
        "\n",
        "print(\"positivos: \",positivo, \"negativos: \", negativo, \"neutros: \", neutro)"
      ],
      "metadata": {
        "colab": {
          "base_uri": "https://localhost:8080/"
        },
        "id": "Y6-95TR0ou1A",
        "outputId": "1bcf6e34-4413-424b-b3e6-d83b409b5a9f"
      },
      "execution_count": null,
      "outputs": [
        {
          "output_type": "stream",
          "name": "stdout",
          "text": [
            "positivos:  7 negativos:  159 neutros:  32\n"
          ]
        }
      ]
    },
    {
      "cell_type": "code",
      "source": [
        "prueba= ([\"PP\", \"Partido Popular\", \"VOX\", \"PSOE\", \"Partido Socialista Obrero Español\" \"Podemos\"])\n",
        "sentiment_pipeline(prueba)\n"
      ],
      "metadata": {
        "colab": {
          "base_uri": "https://localhost:8080/"
        },
        "id": "RrIixzLSjI-7",
        "outputId": "97645c16-b841-4fa4-911e-5fea79ed23d6"
      },
      "execution_count": null,
      "outputs": [
        {
          "output_type": "execute_result",
          "data": {
            "text/plain": [
              "[{'label': 'NEU', 'score': 0.6393564343452454},\n",
              " {'label': 'NEU', 'score': 0.9033120274543762},\n",
              " {'label': 'NEU', 'score': 0.5628634095191956},\n",
              " {'label': 'NEU', 'score': 0.6345742344856262},\n",
              " {'label': 'NEU', 'score': 0.880187451839447}]"
            ]
          },
          "metadata": {},
          "execution_count": 17
        }
      ]
    }
  ]
}